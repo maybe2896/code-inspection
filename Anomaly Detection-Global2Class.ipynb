{
 "cells": [
  {
   "cell_type": "code",
   "execution_count": 1,
   "id": "4505f5e4",
   "metadata": {
    "ExecuteTime": {
     "end_time": "2024-08-08T12:04:58.265118Z",
     "start_time": "2024-08-08T12:04:53.666229Z"
    }
   },
   "outputs": [],
   "source": [
    "import copy\n",
    "import pandas as pd\n",
    "import numpy as np\n",
    "import torch\n",
    "from sklearn.manifold import TSNE\n",
    "from sklearn.decomposition import PCA\n",
    "import matplotlib.pyplot as plt\n",
    "from matplotlib import cm\n",
    "from pyod.models.inne import INNE\n",
    "from pyod.models.lof import LOF\n",
    "from pyod.models.cof import COF\n",
    "from pyod.models.knn import KNN\n",
    "from deepod.models.tabular.dif import DeepIsolationForest\n",
    "from pathlib import Path\n",
    "from sklearn.preprocessing import StandardScaler\n",
    "from scipy.io import loadmat\n",
    "from sklearn.metrics import roc_curve, precision_recall_curve, auc\n",
    "from tqdm.notebook import tqdm\n",
    "import os\n",
    "import warnings\n",
    "warnings.filterwarnings('ignore')"
   ]
  },
  {
   "cell_type": "code",
   "execution_count": 2,
   "id": "24b8edf8",
   "metadata": {
    "ExecuteTime": {
     "end_time": "2024-08-08T12:04:58.280909Z",
     "start_time": "2024-08-08T12:04:58.267168Z"
    }
   },
   "outputs": [],
   "source": [
    "class EIF:\n",
    "    # 定义孤立数的一个节点，其中包含左右子树和决策信息及节点类型\n",
    "    class node:\n",
    "        def __init__(self, left=None, right=None, typeinfo='ex', normal_vector=None, intercept=None):\n",
    "            self.left = left\n",
    "            self.right = right\n",
    "            self.type = typeinfo\n",
    "            self.normal_vector = normal_vector\n",
    "            self.intercept = intercept\n",
    "    # 初始化EIF\n",
    "    def __init__(self, n_estimators=200, sub_size=256, extension='full', contamination=0.1):\n",
    "        self.height_limit = int(np.ceil(np.log2(sub_size)))\n",
    "        self.n_estimators = n_estimators\n",
    "        self.sub_size = sub_size\n",
    "        self.extension = extension\n",
    "        self.contamination = contamination\n",
    "    def get_np(self, data):\n",
    "        dim = data.shape[1]\n",
    "        flag = False\n",
    "        # 自由度约束情况\n",
    "        if type(self.extension) != str and self.extension < dim-1:\n",
    "            zero_index = np.random.choice(range(dim), dim-(self.extension+1), replace=False)\n",
    "            flag = True\n",
    "        if flag:\n",
    "            n = np.zeros(dim)\n",
    "            for i in range(dim):\n",
    "                if i not in zero_index:\n",
    "                    n[i] = np.random.normal(0, 1, 1).item()\n",
    "        else:\n",
    "            n = np.random.normal(0, 1, dim)\n",
    "        # 获取p\n",
    "        area = [(data[:, col].min(), data[:, col].max()) for col in range(dim)]\n",
    "        p = np.zeros(dim)\n",
    "        for i, each in enumerate(area):\n",
    "            p[i] = np.random.uniform(each[0], each[1], 1).item()\n",
    "        return (n, p)\n",
    "    def iTree(self, data, hight):\n",
    "        if data.shape[0] <= 1 or hight == self.height_limit: # 外部节点情况\n",
    "            return self.node(typeinfo='ex')\n",
    "        else:\n",
    "            # 获得n, p\n",
    "            dim = data.shape[1]\n",
    "            n, p = self.get_np(data)\n",
    "            x_left = data[(data - p)@n <= 0]\n",
    "            x_right = data[(data - p)@n > 0]\n",
    "            params = dict(left=self.iTree(x_left, hight+1), right=self.iTree(x_right, hight+1), typeinfo='in'\n",
    "                          , normal_vector=n, intercept=p)\n",
    "            return self.node(**params)\n",
    "                \n",
    "    def fit(self, data):\n",
    "        if data.shape[0] < 256:\n",
    "            self.sub_size = int(data.shape[0]/2)\n",
    "        estimators = []\n",
    "        for i in range(self.n_estimators):\n",
    "            ind = np.random.choice(range(data.shape[0]), self.sub_size, replace=False) # 抽取sub_sample\n",
    "            data_i = data[ind]\n",
    "            estimators.append(self.iTree(data_i, 0))\n",
    "        self.eif = estimators\n",
    "        self.scores = self.decision_function(data)\n",
    "        self.label = self.predict(data, self.scores)\n",
    "        return self\n",
    "    def c(self, size):\n",
    "        return 2 * (np.log(size-1)+0.5772156649) - 2*(size-1)/size\n",
    "    def path_length(self, sample, root, length):\n",
    "        if root.type == 'ex':\n",
    "            return length + self.c(self.sub_size)\n",
    "        else:\n",
    "            n, p = root.normal_vector, root.intercept\n",
    "            if (sample - p) @ n <= 0:\n",
    "                return self.path_length(sample, root.left, length+1)\n",
    "            else:\n",
    "                return self.path_length(sample, root.right, length+1)\n",
    "    def decision_function(self, data):\n",
    "        scores = np.zeros(data.shape[0]) # 所有样本分数\n",
    "        for i in range(data.shape[0]):\n",
    "            ensemble_score = np.zeros(len(self.eif)) # 单个样本的在森林每棵树的分数\n",
    "            for j, tree in enumerate(self.eif):\n",
    "                ensemble_score[j] = self.path_length(data[i], tree, 0)\n",
    "            top, bottom = ensemble_score.mean(), self.c(self.sub_size)\n",
    "            scores[i] = 2 ** ((top / bottom)*(-1))\n",
    "        return scores\n",
    "    def predict(self, data, score=None):\n",
    "        scores = self.decision_function(data) if score is None else score\n",
    "        threshold = np.percentile(scores, 100*(1-self.contamination))\n",
    "        out = np.zeros(data.shape[0]).astype(int)\n",
    "        out[scores >= threshold] = 1\n",
    "        self.threshold = threshold\n",
    "        return out"
   ]
  },
  {
   "cell_type": "code",
   "execution_count": 41,
   "id": "4ba996f3",
   "metadata": {
    "ExecuteTime": {
     "end_time": "2024-08-08T13:56:32.746773Z",
     "start_time": "2024-08-08T13:56:32.728152Z"
    }
   },
   "outputs": [],
   "source": [
    "def best_report(x, labels, func, args, run_time=5, use_pr=False):\n",
    "    best_roc = 0\n",
    "    best_pr = 0\n",
    "    best_scores = None\n",
    "    for i in range(run_time):\n",
    "        roc, prc, anomaly_scores = func(x, labels, **args)\n",
    "        if not use_pr:\n",
    "            if roc > best_roc:\n",
    "                best_roc = roc\n",
    "                best_pr = prc\n",
    "                best_scores = anomaly_scores\n",
    "        else:\n",
    "            if prc > best_pr:\n",
    "                best_roc = roc\n",
    "                best_pr = prc\n",
    "                best_scores = anomaly_scores\n",
    "    rank_idx = (np.argsort(best_scores)[::-1]+1).tolist()  # 按照异常分将文件号进行排序\n",
    "    return best_roc, best_pr, best_scores, rank_idx\n",
    "\n",
    "\n",
    "def load_length(path=r'D:\\Jupyter\\AD\\datasets-ad\\battery\\data'):\n",
    "    path = Path(path)\n",
    "    index = []\n",
    "    length = []\n",
    "    for file in path.iterdir():\n",
    "        if file.suffix=='.txt':\n",
    "            l = pd.read_csv(file.resolve(), header=None, sep='\\t').iloc[:, 1:].values.shape[0]\n",
    "            idx = int(file.stem)\n",
    "            index.append(idx)\n",
    "            length.append(l)\n",
    "    idx_sort = np.argsort(np.array(index))\n",
    "    return np.array(length)[idx_sort]\n",
    "\n",
    "def tsne_map(x, label, figsize=(6, 6), s=10, specific_files=None, save=False, name=None):\n",
    "    # specific_files是真实文件号,表示自己选择的想要看位置的文件\n",
    "    # x 为 n* features的tabular数据\n",
    "    # label为 x 对应的标签信息\n",
    "    pos, neg = x[label==0], x[label==1]\n",
    "    plt.figure(figsize=figsize)\n",
    "    plt.scatter(pos[:, 0], pos[:, 1], alpha=0.5, marker='.', c='k', label='normal', s=6)\n",
    "    plt.scatter(neg[:, 0], neg[:, 1], c='magenta', marker='v', s=s, label='outlier')\n",
    "    if specific_files is not None:\n",
    "        files = np.array(specific_files) - 1\n",
    "        plt.scatter(x[files][:, 0], x[files][:, 1], c='cyan', marker='*', s=s, label='selected')\n",
    "    plt.legend()\n",
    "    plt.title(f'TSNE {x.shape[0]} samples')\n",
    "    if save and name is not None:\n",
    "        plt.savefig(f'./tsne_{name}.png', dpi=1000)        \n",
    "    plt.show()\n",
    "    \n",
    "def pca_map(x, label, figsize=(6, 6), s=10, specific_files=None, save=False, name=None):\n",
    "    # specific_files是真实文件号,表示自己选择的想要看位置的文件\n",
    "    # x 为 n* features的tabular数据\n",
    "    # label为 x 对应的标签信息\n",
    "    pos, neg = x[label==0], x[label==1]\n",
    "    plt.figure(figsize=figsize)\n",
    "    plt.scatter(pos[:, 0], pos[:, 1], alpha=0.5, marker='.', c='k', label='normal', s=6)\n",
    "    plt.scatter(neg[:, 0], neg[:, 1], c='magenta', marker='v', s=s, label='outlier')\n",
    "    if specific_files is not None:\n",
    "        files = np.array(specific_files) - 1\n",
    "        plt.scatter(x[files][:, 0], x[files][:, 1], c='cyan', marker='*', s=s, label='selected')\n",
    "    plt.legend()\n",
    "    plt.title(f'PCA {x.shape[0]} samples')\n",
    "    if save and name is not None:\n",
    "        plt.savefig(f'./pca_{name}.png', dpi=1000)        \n",
    "    plt.show()\n",
    "    \n",
    "def feature_infomation_tsfel():\n",
    "    with open(r'./tsfel-selected-features.txt', 'w') as f:\n",
    "        i = 0\n",
    "        write_time = 0\n",
    "        while i < len(selected_features):\n",
    "            if i+6 < len(selected_features):\n",
    "                print(features.columns[selected_features[i:i+6]])\n",
    "                for feature_name in features.columns[selected_features[i:i+6]]:\n",
    "                    feature_name = str(feature_name)\n",
    "                    if feature_name[0] == 'R':\n",
    "                        feature_name = 'I'+ feature_name[1:]\n",
    "                    f.write(feature_name)\n",
    "                    write_time += 1\n",
    "                    if write_time % 3 == 0:\n",
    "                        f.write('\\n')\n",
    "                    else:\n",
    "                        f.write(',   ')\n",
    "                i += 6\n",
    "            else:\n",
    "                print(features.columns[selected_features[i:]])\n",
    "                for feature_name in features.columns[selected_features[i:i+6]]:\n",
    "                    feature_name = str(feature_name)\n",
    "                    if feature_name[0] == 'R':\n",
    "                        feature_name = 'I'+ feature_name[1:]\n",
    "                    f.write(feature_name)\n",
    "                    write_time += 1\n",
    "                    if write_time % 3 == 0:\n",
    "                        f.write('\\n')\n",
    "                    else:\n",
    "                        f.write(',   ')\n",
    "                i = len(selected_features)"
   ]
  },
  {
   "cell_type": "code",
   "execution_count": 4,
   "id": "2f58ba78",
   "metadata": {
    "ExecuteTime": {
     "end_time": "2024-08-08T12:04:58.311223Z",
     "start_time": "2024-08-08T12:04:58.297129Z"
    }
   },
   "outputs": [],
   "source": [
    "def inne_func(x, labels, n_estimators=300, max_samples=2, contamination=0.05):\n",
    "    detector = INNE(n_estimators=n_estimators, max_samples=max_samples, contamination=contamination)\n",
    "    detector.fit(x)\n",
    "    anomaly_scores_inne = detector.decision_scores_\n",
    "    anomaly_labels_inne = detector.labels_.astype(bool)\n",
    "    x_roc, y_roc, _ = roc_curve(labels, anomaly_scores_inne, pos_label=1)\n",
    "    y_prc, x_prc, _ = precision_recall_curve(labels, anomaly_scores_inne, pos_label=1)\n",
    "    auc_roc = auc(x_roc, y_roc)\n",
    "    auc_pr = auc(x_prc[::-1], y_prc[::-1])\n",
    "    return auc_roc, auc_pr, anomaly_scores_inne\n",
    "\n",
    "def lof_func(x, labels, n_neighbors=300, contamination=0.05):\n",
    "    detector_lof = LOF(contamination=contamination, n_jobs=13, novelty=True, n_neighbors=n_neighbors, metric='euclidean')\n",
    "    detector_lof.fit(instance_reprs)\n",
    "    anomaly_labels_lof = detector_lof.labels_.astype(bool)\n",
    "    anomaly_scores_lof = detector_lof.decision_scores_\n",
    "    x_roc, y_roc, _ = roc_curve(labels, anomaly_scores_lof, pos_label=1)\n",
    "    y_prc, x_prc, _ = precision_recall_curve(labels, anomaly_scores_lof, pos_label=1)\n",
    "    auc_roc = auc(x_roc, y_roc)\n",
    "    auc_pr = auc(x_prc[::-1], y_prc[::-1]) \n",
    "    return auc_roc, auc_pr, anomaly_scores_lof\n",
    "\n",
    "def cof_func(x, labels, n_neighbors=5, contamination=0.05):\n",
    "    detector_cof = COF(contamination=0.06, n_neighbors=n_neighbors)\n",
    "    detector_cof.fit(instance_reprs)\n",
    "    anomaly_labels_cof = detector_cof.labels_.astype(bool)\n",
    "    anomaly_scores_cof = detector_cof.decision_scores_\n",
    "    x_roc, y_roc, _ = roc_curve(labels, anomaly_scores_cof, pos_label=1)\n",
    "    y_prc, x_prc, _ = precision_recall_curve(labels, anomaly_scores_cof, pos_label=1)\n",
    "    auc_roc = auc(x_roc, y_roc)\n",
    "    auc_pr = auc(x_prc[::-1], y_prc[::-1]) \n",
    "    return auc_roc, auc_pr, anomaly_scores_cof\n",
    "\n",
    "def eif_func(x, labels, sub_size=256, contamination=0.05):\n",
    "    eif = EIF(sub_size=sub_size, contamination=contamination, n_estimators=300)\n",
    "    eif.fit(instance_reprs)\n",
    "    anomaly_labels_eif = eif.label.astype(bool)\n",
    "    anomaly_scores_eif = eif.scores\n",
    "    x_roc, y_roc, _ = roc_curve(labels, anomaly_scores_eif, pos_label=1)\n",
    "    y_prc, x_prc, _ = precision_recall_curve(labels, anomaly_scores_eif, pos_label=1)\n",
    "    auc_roc = auc(x_roc, y_roc)\n",
    "    auc_pr = auc(x_prc[::-1], y_prc[::-1]) \n",
    "    return auc_roc, auc_pr, anomaly_scores_eif\n",
    "\n",
    "def if_func(x, labels, sub_size=256, contamination=0.05):\n",
    "    ifs = EIF(sub_size=256, contamination=0.06, extension=0, n_estimators=300)\n",
    "    ifs.fit(instance_reprs)\n",
    "    anomaly_labels_ifs = ifs.label.astype(bool)\n",
    "    anomaly_scores_ifs = ifs.scores\n",
    "    x_roc, y_roc, _ = roc_curve(labels, anomaly_scores_ifs, pos_label=1)\n",
    "    y_prc, x_prc, _ = precision_recall_curve(labels, anomaly_scores_ifs, pos_label=1)\n",
    "    auc_roc = auc(x_roc, y_roc)\n",
    "    auc_pr = auc(x_prc[::-1], y_prc[::-1])\n",
    "    return auc_roc, auc_pr, anomaly_scores_ifs\n",
    "\n",
    "def knn_func(x, labels, n_neighbors=60, contamination=0.05, method='median'):\n",
    "    knn = KNN(n_neighbors=n_neighbors, method=method, metric='euclidean', n_jobs=13)\n",
    "    knn.fit(instance_reprs)\n",
    "    anomaly_labels_knn = knn.labels_.astype(bool)\n",
    "    anomaly_scores_knn = knn.decision_scores_\n",
    "    x_roc, y_roc, _ = roc_curve(labels, anomaly_scores_knn, pos_label=1)\n",
    "    y_prc, x_prc, _ = precision_recall_curve(labels, anomaly_scores_knn, pos_label=1)\n",
    "    auc_roc = auc(x_roc, y_roc)\n",
    "    auc_pr = auc(x_prc[::-1], y_prc[::-1]) \n",
    "    return auc_roc, auc_pr, anomaly_scores_knn\n",
    "\n",
    "def dif_func(x, labels, max_samples=60, contamination=0.05):\n",
    "    random_state=np.random.randint(1, 10000)\n",
    "    dif = DeepIsolationForest(n_jobs=14, device='cpu', max_samples=max_samples, n_estimators=50, rep_dim=256,\n",
    "                              hidden_dims='256,256', act='ReLU', n_ensemble=25, verbose=0, random_state=random_state)\n",
    "    dif.fit(instance_reprs)\n",
    "    anomaly_scores_dif = dif.decision_scores_\n",
    "    x_roc, y_roc, _ = roc_curve(labels, anomaly_scores_dif, pos_label=1)\n",
    "    y_prc, x_prc, _ = precision_recall_curve(labels, anomaly_scores_dif, pos_label=1)\n",
    "    auc_roc = auc(x_roc, y_roc)\n",
    "    auc_pr = auc(x_prc[::-1], y_prc[::-1]) \n",
    "    return auc_roc, auc_pr, anomaly_scores_dif"
   ]
  },
  {
   "cell_type": "markdown",
   "id": "df57b137",
   "metadata": {},
   "source": [
    "# Instance-Level-Representations"
   ]
  },
  {
   "cell_type": "markdown",
   "id": "79cd2f4e",
   "metadata": {
    "ExecuteTime": {
     "end_time": "2024-03-08T01:59:43.065360Z",
     "start_time": "2024-03-08T01:59:43.051785Z"
    }
   },
   "source": [
    "## TSFEL Features"
   ]
  },
  {
   "cell_type": "code",
   "execution_count": 86,
   "id": "54578554",
   "metadata": {
    "ExecuteTime": {
     "end_time": "2024-06-13T12:41:01.475442Z",
     "start_time": "2024-06-13T12:41:01.453274Z"
    }
   },
   "outputs": [
    {
     "name": "stdout",
     "output_type": "stream",
     "text": [
      "original feature number:794\n",
      "dell nan feature number:792\n"
     ]
    }
   ],
   "source": [
    "num_of_series = [0, 702, 602, 63, 288, 120, 59, 103, 116, 50, 193, 121, 65, 60, 53, 67, 49, 96, 48, 106, 200]\n",
    "class_index = np.cumsum(num_of_series)\n",
    "class_no = 14\n",
    "use_norm = False\n",
    "save = True\n",
    "select = False\n",
    "select_features = 256\n",
    "name = 'tsfel'\n",
    "reprs_path = r'D:\\Jupyter\\AD\\datasets-ad\\battery\\all_data_resample_8928\\tsfel_features.npy'\n",
    "labels_path = fr'D:\\Jupyter\\AD\\datasets-ad\\battery\\all_data_resample_8928\\all_data_labels.npy'\n",
    "instance_reprs = np.load(reprs_path)\n",
    "print(f'original feature number:{instance_reprs.shape[1]}')\n",
    "labels = np.load(labels_path)\n",
    "if select:\n",
    "    var_rank = np.argsort(instance_reprs.var(ddof=1, axis=0))[::-1]\n",
    "    selected_features = var_rank[:select_features]\n",
    "    instance_reprs = instance_reprs[:, selected_features]\n",
    "nan_matrix = np.isnan(instance_reprs)\n",
    "nan_features = nan_matrix.sum(axis=0) != 0\n",
    "used_features = np.arange(nan_features.shape[0])[~nan_features]\n",
    "print(f'dell nan feature number:{used_features.shape[0]}')\n",
    "instance_reprs = instance_reprs[:, used_features]\n",
    "path = Path(f'global2class_{name}_{instance_reprs.shape[1]}')\n",
    "path.mkdir(exist_ok=True)\n",
    "\n",
    "instance_reprs = instance_reprs[class_index[class_no-1]:class_index[class_no]]\n",
    "labels = labels[class_index[class_no-1]:class_index[class_no]]"
   ]
  },
  {
   "cell_type": "code",
   "execution_count": 29,
   "id": "31b6959b",
   "metadata": {
    "ExecuteTime": {
     "end_time": "2024-08-08T13:19:15.568186Z",
     "start_time": "2024-08-08T13:19:15.536110Z"
    }
   },
   "outputs": [
    {
     "name": "stdout",
     "output_type": "stream",
     "text": [
      "class_no:9, series:40, have_outlier:1\n"
     ]
    }
   ],
   "source": [
    "# Finch\n",
    "class_no = 9\n",
    "use_norm = False\n",
    "save = True\n",
    "name = 'tsfel'\n",
    "reprs_path = fr'D:\\Jupyter\\AD\\datasets-ad\\battery\\all_data_resample_8928\\tsfel_features.npy'\n",
    "# labels_path = fr'D:\\Jupyter\\AD\\datasets-ad\\battery\\all_data_resample_8928\\all_data_labels.npy'\n",
    "labels_path = r'./new_anomaly_labels.npy'\n",
    "class_labels_path = r'./finch_class_labels_tsfel.npy'\n",
    "\n",
    "instance_reprs = np.load(reprs_path)\n",
    "outlier_labels = np.load(labels_path)\n",
    "class_labels = np.load(class_labels_path)\n",
    "path = Path(f'global2class_{name}_{instance_reprs.shape[1]}_global')\n",
    "path.mkdir(exist_ok=True)\n",
    "\n",
    "nan_matrix = np.isnan(instance_reprs)\n",
    "nan_features = nan_matrix.sum(axis=0) != 0\n",
    "used_features = np.arange(nan_features.shape[0])[~nan_features]\n",
    "instance_reprs = instance_reprs[:, used_features]\n",
    "\n",
    "instance_reprs = instance_reprs[class_labels==class_no]\n",
    "outlier_labels = outlier_labels[class_labels==class_no]\n",
    "have_outlier = outlier_labels.sum()\n",
    "print(f'class_no:{class_no}, series:{instance_reprs.shape[0]}, have_outlier:{have_outlier}')"
   ]
  },
  {
   "cell_type": "code",
   "execution_count": null,
   "id": "a585714c",
   "metadata": {},
   "outputs": [],
   "source": [
    "#class_no:0, series:1612, have_outlier:1\n",
    "#class_no:1, series:88, have_outlier:0\n",
    "#class_no:2, series:165, have_outlier:0\n",
    "#class_no:3, series:317, have_outlier:0\n",
    "#class_no:4, series:2, have_outlier:0\n",
    "#class_no:5, series:213, have_outlier:3\n",
    "#class_no:6, series:5, have_outlier:0\n",
    "#class_no:7, series:2, have_outlier:0\n",
    "#class_no:8, series:3, have_outlier:1\n",
    "#class_no:9, series:40, have_outlier:1\n",
    "#class_no:10, series:110, have_outlier:0\n",
    "#class_no:11, series:480, have_outlier:0\n",
    "#class_no:12, series:4, have_outlier:0\n",
    "#class_no:13, series:74, have_outlier:0\n",
    "#class_no:14, series:14, have_outlier:0\n",
    "#class_no:15, series:32, have_outlier:0\n",
    "#class_no:16, series:0, have_outlier:0\n",
    "#class_no:17, series:0, have_outlier:0\n",
    "#class_no:18, series:0, have_outlier:0\n",
    "#class_no:19, series:0, have_outlier:0"
   ]
  },
  {
   "cell_type": "code",
   "execution_count": 30,
   "id": "b76fd818",
   "metadata": {
    "ExecuteTime": {
     "end_time": "2024-08-08T13:19:31.735182Z",
     "start_time": "2024-08-08T13:19:31.364518Z"
    }
   },
   "outputs": [
    {
     "data": {
      "image/png": "[encoded data removed]",
      "text/plain": [
       "<Figure size 600x600 with 1 Axes>"
      ]
     },
     "metadata": {},
     "output_type": "display_data"
    },
    {
     "data": {
      "image/png": "[encoded data removed]",
      "text/plain": [
       "<Figure size 600x600 with 1 Axes>"
      ]
     },
     "metadata": {},
     "output_type": "display_data"
    }
   ],
   "source": [
    "instance_reprs = StandardScaler().fit_transform(instance_reprs) if use_norm else instance_reprs\n",
    "tsne = TSNE(n_jobs=12, perplexity=30, n_iter=1000)\n",
    "reprs_2d_tsne = tsne.fit_transform(instance_reprs)\n",
    "reprs_2d_pca = PCA().fit_transform(instance_reprs)\n",
    "tsne_map(reprs_2d_tsne, outlier_labels)\n",
    "pca_map(reprs_2d_pca, outlier_labels)"
   ]
  },
  {
   "cell_type": "markdown",
   "id": "57f7b98d",
   "metadata": {},
   "source": [
    "## TS2Vec Features"
   ]
  },
  {
   "cell_type": "code",
   "execution_count": 18,
   "id": "60ead407",
   "metadata": {
    "ExecuteTime": {
     "end_time": "2024-06-21T08:18:22.125612Z",
     "start_time": "2024-06-21T08:18:22.118097Z"
    }
   },
   "outputs": [],
   "source": [
    "num_of_series = [0, 702, 602, 63, 288, 120, 59, 103, 116, 50, 193, 121, 65, 60, 53, 67, 49, 96, 48, 106, 200]\n",
    "class_index = np.cumsum(num_of_series)\n",
    "class_no = 1\n",
    "use_norm = False\n",
    "save = False\n",
    "name = 'ts2vec'\n",
    "reprs_path = fr'D:\\Jupyter\\AD\\datasets-ad\\battery\\all_data_resample_8928\\ts2vec_256_reprs_global.npy'\n",
    "labels_path = fr'D:\\Jupyter\\AD\\datasets-ad\\battery\\all_data_resample_8928\\all_data_labels.npy'\n",
    "instance_reprs = np.load(reprs_path)\n",
    "labels = np.load(labels_path)\n",
    "path = Path(f'global2class_{name}_{instance_reprs.shape[1]}_global')\n",
    "path.mkdir(exist_ok=True)\n",
    "instance_reprs = instance_reprs[class_index[class_no-1]:class_index[class_no]]\n",
    "labels = labels[class_index[class_no-1]:class_index[class_no]]"
   ]
  },
  {
   "cell_type": "code",
   "execution_count": 118,
   "id": "907bf406",
   "metadata": {
    "ExecuteTime": {
     "end_time": "2024-08-09T07:05:31.432207Z",
     "start_time": "2024-08-09T07:05:31.411585Z"
    }
   },
   "outputs": [
    {
     "name": "stdout",
     "output_type": "stream",
     "text": [
      "class_no:15, series:142, have_outlier:4\n"
     ]
    }
   ],
   "source": [
    "# Finch\n",
    "class_no = 15\n",
    "use_norm = False\n",
    "save = False\n",
    "name = 'ts2vec'\n",
    "reprs_path = fr'D:\\Jupyter\\AD\\datasets-ad\\battery\\all_data_resample_8928\\ts2vec_256_reprs_global.npy'\n",
    "# labels_path = fr'D:\\Jupyter\\AD\\datasets-ad\\battery\\all_data_resample_8928\\all_data_labels.npy'\n",
    "labels_path = r'./new_anomaly_labels.npy'\n",
    "class_labels_path = r'./finch_class_labels.npy'\n",
    "\n",
    "instance_reprs = np.load(reprs_path)\n",
    "outlier_labels = np.load(labels_path)\n",
    "class_labels = np.load(class_labels_path)\n",
    "path = Path(f'global2class_{name}_{instance_reprs.shape[1]}_global')\n",
    "path.mkdir(exist_ok=True)\n",
    "\n",
    "instance_reprs = instance_reprs[class_labels==class_no]\n",
    "outlier_labels = outlier_labels[class_labels==class_no]\n",
    "have_outlier = outlier_labels.sum()\n",
    "print(f'class_no:{class_no}, series:{instance_reprs.shape[0]}, have_outlier:{have_outlier}')"
   ]
  },
  {
   "cell_type": "code",
   "execution_count": 11,
   "id": "c8ef2407",
   "metadata": {
    "ExecuteTime": {
     "end_time": "2024-08-08T06:06:27.927890Z",
     "start_time": "2024-08-08T06:06:27.920889Z"
    }
   },
   "outputs": [],
   "source": [
    "# new label\n",
    "#class_no:0, series:354, have_outlier:0\n",
    "#class_no:1, series:275, have_outlier:0\n",
    "#class_no:2, series:177, have_outlier:0\n",
    "#class_no:3, series:337, have_outlier:0\n",
    "#class_no:4, series:280, have_outlier:0\n",
    "#class_no:5, series:105, have_outlier:2\n",
    "#class_no:6, series:194, have_outlier:1\n",
    "#class_no:7, series:99, have_outlier:0\n",
    "#class_no:8, series:149, have_outlier:0\n",
    "#class_no:9, series:88, have_outlier:0\n",
    "#class_no:10, series:227, have_outlier:0\n",
    "#class_no:11, series:153, have_outlier:0\n",
    "#class_no:12, series:48, have_outlier:0\n",
    "#class_no:13, series:267, have_outlier:1\n",
    "#class_no:14, series:113, have_outlier:0\n",
    "#class_no:15, series:142, have_outlier:0\n",
    "#class_no:16, series:94, have_outlier:2\n",
    "#class_no:17, series:59, have_outlier:0"
   ]
  },
  {
   "cell_type": "code",
   "execution_count": 119,
   "id": "71f6d54e",
   "metadata": {
    "ExecuteTime": {
     "end_time": "2024-08-09T07:05:34.282772Z",
     "start_time": "2024-08-09T07:05:33.591238Z"
    }
   },
   "outputs": [
    {
     "data": {
      "image/png": "[encoded data removed]",
      "text/plain": [
       "<Figure size 600x600 with 1 Axes>"
      ]
     },
     "metadata": {},
     "output_type": "display_data"
    },
    {
     "data": {
      "image/png": "[encoded data removed]",
      "text/plain": [
       "<Figure size 600x600 with 1 Axes>"
      ]
     },
     "metadata": {},
     "output_type": "display_data"
    }
   ],
   "source": [
    "instance_reprs = StandardScaler().fit_transform(instance_reprs) if use_norm else instance_reprs\n",
    "tsne = TSNE(n_jobs=12, perplexity=30, n_iter=2000)\n",
    "reprs_2d_tsne = tsne.fit_transform(instance_reprs)\n",
    "reprs_2d_pca = PCA().fit_transform(instance_reprs)\n",
    "tsne_map(reprs_2d_tsne, outlier_labels, save=save, name=f'ts2vec_finch_{class_no}')\n",
    "pca_map(reprs_2d_pca, outlier_labels, save=save, name=f'ts2vec_finch_{class_no}')"
   ]
  },
  {
   "cell_type": "markdown",
   "id": "971316bc",
   "metadata": {},
   "source": [
    "## CRT Features"
   ]
  },
  {
   "cell_type": "code",
   "execution_count": null,
   "id": "dd998a97",
   "metadata": {
    "ExecuteTime": {
     "end_time": "2024-04-19T01:13:57.633340Z",
     "start_time": "2024-04-19T01:13:57.615766Z"
    }
   },
   "outputs": [],
   "source": [
    "class_no = 10\n",
    "use_norm = False\n",
    "use_best = False\n",
    "reprs_path = fr'D:\\Jupyter\\AD\\datasets-ad\\battery\\class_resample_8928\\class_{class_no}\\crt_class_features_Last_128_exchange.npy'\n",
    "reprs_best_path = fr'D:\\Jupyter\\AD\\datasets-ad\\battery\\class_resample_8928\\class_{class_no}\\crt_class_features_128_exchange.npy'\n",
    "labels_path = fr'D:\\Jupyter\\AD\\datasets-ad\\battery\\class_resample_8928\\class_{class_no}\\class_labels.npy'\n",
    "reprs_random = fr'D:\\Jupyter\\TS Projects\\CRT\\random_encode.npy'\n",
    "instance_reprs = np.load(reprs_path) if not use_best else np.load(reprs_best_path)\n",
    "labels = np.load(labels_path)\n",
    "path = Path(f'crt_class_{instance_reprs.shape[1]}')\n",
    "path.mkdir(exist_ok=True)"
   ]
  },
  {
   "cell_type": "code",
   "execution_count": null,
   "id": "63d3f154",
   "metadata": {
    "ExecuteTime": {
     "end_time": "2024-04-19T06:20:37.257151Z",
     "start_time": "2024-04-19T06:20:35.927238Z"
    }
   },
   "outputs": [],
   "source": [
    "instance_reprs = StandardScaler().fit_transform(instance_reprs) if use_norm else instance_reprs\n",
    "tsne = TSNE(n_jobs=12, perplexity=50, n_iter=1000)\n",
    "reprs_2d_tsne = tsne.fit_transform(instance_reprs)\n",
    "reprs_2d_pca = PCA().fit_transform(instance_reprs)\n",
    "tsne_map(reprs_2d_tsne, labels)\n",
    "pca_map(reprs_2d_pca, labels)"
   ]
  },
  {
   "cell_type": "markdown",
   "id": "b0517a60",
   "metadata": {},
   "source": [
    "# RT "
   ]
  },
  {
   "cell_type": "code",
   "execution_count": 82,
   "id": "2f6460c4",
   "metadata": {
    "ExecuteTime": {
     "end_time": "2024-04-24T12:03:29.879272Z",
     "start_time": "2024-04-24T12:03:29.871266Z"
    }
   },
   "outputs": [],
   "source": [
    "num_of_series = [0, 702, 602, 63, 288, 120, 59, 103, 116, 50, 193, 121, 65, 60, 53, 67, 49, 96, 48, 106, 200]\n",
    "class_index = np.cumsum(num_of_series)\n",
    "class_no = 2\n",
    "use_norm = False\n",
    "use_random = False\n",
    "save = False\n",
    "name = 'rt'\n",
    "reprs_path = fr'D:\\Jupyter\\TS Projects\\RT\\rt_model1_all_dataset_norm_Last_256_4.npy'\n",
    "labels_path = fr'D:\\Jupyter\\AD\\datasets-ad\\battery\\all_data_resample_8928\\all_data_labels.npy'\n",
    "reprs_random = fr'D:\\Jupyter\\TS Projects\\RT\\rt_model1_all_dataset_norm_256_random.npy'\n",
    "instance_reprs = np.load(reprs_path) if not use_random else np.load(reprs_random)\n",
    "labels = np.load(labels_path)\n",
    "path = Path(f'global2class_{name}_{instance_reprs.shape[1]}')\n",
    "path.mkdir(exist_ok=True)\n",
    "instance_reprs = instance_reprs[class_index[class_no-1]:class_index[class_no]]\n",
    "labels = labels[class_index[class_no-1]:class_index[class_no]]"
   ]
  },
  {
   "cell_type": "code",
   "execution_count": null,
   "id": "db5d7eb7",
   "metadata": {
    "ExecuteTime": {
     "end_time": "2024-04-24T12:03:31.340182Z",
     "start_time": "2024-04-24T12:03:29.880826Z"
    }
   },
   "outputs": [],
   "source": [
    "instance_reprs = StandardScaler().fit_transform(instance_reprs) if use_norm else instance_reprs\n",
    "tsne = TSNE(n_jobs=12, perplexity=50, n_iter=1000)\n",
    "reprs_2d_tsne = tsne.fit_transform(instance_reprs)\n",
    "reprs_2d_pca = PCA().fit_transform(instance_reprs)\n",
    "tsne_map(reprs_2d_tsne, labels)\n",
    "pca_map(reprs_2d_pca, labels)"
   ]
  },
  {
   "cell_type": "markdown",
   "id": "1b00e579",
   "metadata": {},
   "source": [
    "# SimMTM"
   ]
  },
  {
   "cell_type": "code",
   "execution_count": null,
   "id": "9e259d64",
   "metadata": {
    "ExecuteTime": {
     "end_time": "2024-04-07T01:42:50.563613Z",
     "start_time": "2024-04-07T01:42:50.547978Z"
    }
   },
   "outputs": [],
   "source": [
    "path1 = r'D:\\Jupyter\\TS Projects\\SimMTM\\SimMTM_Classification\\code\\experiments_logs\\battery\\dataset\\pre_train_5_pt_0.25_0.001_200\\best.npy'\n",
    "path2 = r'D:\\Jupyter\\TS Projects\\SimMTM\\SimMTM_Classification\\code\\experiments_logs\\battery\\dataset\\pre_train_5_pt_0.25_0.001_200\\random.npy'\n",
    "path3 = r'D:\\Jupyter\\TS Projects\\CRT\\random_encode.npy'"
   ]
  },
  {
   "cell_type": "code",
   "execution_count": null,
   "id": "f7c7fd55",
   "metadata": {
    "ExecuteTime": {
     "end_time": "2024-04-07T01:42:51.134262Z",
     "start_time": "2024-04-07T01:42:51.124902Z"
    }
   },
   "outputs": [],
   "source": [
    "instance_reprs = np.load(path3)\n",
    "# ss = StandardScaler()\n",
    "# instance_reprs = ss.fit_transform(instance_reprs)"
   ]
  },
  {
   "cell_type": "code",
   "execution_count": null,
   "id": "ee393a5d",
   "metadata": {
    "ExecuteTime": {
     "end_time": "2024-04-07T01:43:04.592158Z",
     "start_time": "2024-04-07T01:42:51.617022Z"
    }
   },
   "outputs": [],
   "source": [
    "tsne = TSNE(n_jobs=12, perplexity=50)\n",
    "reprs_2d = tsne.fit_transform(instance_reprs)\n",
    "tsne_map(reprs_2d, labels)"
   ]
  },
  {
   "cell_type": "markdown",
   "id": "a2daa72e",
   "metadata": {},
   "source": [
    "# Anomaly Detection Methods"
   ]
  },
  {
   "cell_type": "markdown",
   "id": "592a3266",
   "metadata": {},
   "source": [
    "## INNE"
   ]
  },
  {
   "cell_type": "code",
   "execution_count": null,
   "id": "362da1de",
   "metadata": {
    "ExecuteTime": {
     "end_time": "2024-02-26T12:53:08.817196Z",
     "start_time": "2024-02-26T12:53:08.805197Z"
    }
   },
   "outputs": [],
   "source": [
    "# max_samples: 2-16 "
   ]
  },
  {
   "cell_type": "code",
   "execution_count": null,
   "id": "dd088352",
   "metadata": {
    "ExecuteTime": {
     "end_time": "2024-04-29T02:35:48.712286Z",
     "start_time": "2024-04-29T02:35:48.425538Z"
    }
   },
   "outputs": [],
   "source": [
    "detector = INNE(n_estimators=300, max_samples=2, contamination=0.05)\n",
    "detector.fit(instance_reprs)\n",
    "anomaly_scores_inne = detector.decision_scores_\n",
    "anomaly_labels_inne = detector.labels_.astype(bool)\n",
    "print(detector.threshold_)\n",
    "print(sum(anomaly_labels_inne))\n",
    "anomaly_file_inne = np.arange(1, 9209)[anomaly_labels_inne.astype(bool)]\n",
    "\n",
    "# top_100设置\n",
    "top_100 = np.argsort(anomaly_scores_inne)[-100:]\n",
    "top_100_label = np.zeros_like(anomaly_scores_inne)\n",
    "top_100_label[top_100] = 1\n",
    "anomaly_files = top_100+1\n",
    "anomaly_score = anomaly_scores_inne[top_100]\n",
    "\n",
    "# auc计算设置, 文件名按照异常分从高向低排序\n",
    "score_index = np.argsort(anomaly_scores_inne)[::-1]\n",
    "scores = anomaly_scores_inne[score_index]\n",
    "files = np.arange(1, 9209)[score_index]\n",
    "\n",
    "# ROC-PR\n",
    "x_roc, y_roc, _ = roc_curve(labels, anomaly_scores_inne, pos_label=1)\n",
    "y_prc, x_prc, _ = precision_recall_curve(labels, anomaly_scores_inne, pos_label=1)\n",
    "auc_roc = auc(x_roc, y_roc)\n",
    "auc_pr = auc(x_prc[::-1], y_prc[::-1])\n",
    "print(f'AUC-ROC:{auc_roc:.4f}')\n",
    "print(f'AUC-PR:{auc_pr:.5f}')"
   ]
  },
  {
   "cell_type": "code",
   "execution_count": 120,
   "id": "be0087df",
   "metadata": {
    "ExecuteTime": {
     "end_time": "2024-08-09T07:07:29.950371Z",
     "start_time": "2024-08-09T07:05:39.064978Z"
    }
   },
   "outputs": [
    {
     "data": {
      "application/vnd.jupyter.widget-view+json": {
       "model_id": "267e26b4005e431b89d953b1d09b4155",
       "version_major": 2,
       "version_minor": 0
      },
      "text/plain": [
       "  0%|          | 0/58 [00:00<?, ?it/s]"
      ]
     },
     "metadata": {},
     "output_type": "display_data"
    },
    {
     "name": "stdout",
     "output_type": "stream",
     "text": [
      "AUC-ROC:0.8405797101449275\n",
      "AUC-PR:0.07681080094873198\n",
      "best p:4\n"
     ]
    }
   ],
   "source": [
    "use_pr_inne = True\n",
    "run_time = 10\n",
    "params = [i for i in range(2, 60)]\n",
    "# params = [i for i in range(16, 17)]\n",
    "\n",
    "best_roc, best_pr = 0, 0\n",
    "best_p = 2\n",
    "best_scores, best_rank = None, None\n",
    "for p in tqdm(params):\n",
    "    if p >= instance_reprs.shape[0]:\n",
    "        continue\n",
    "    args_inne = {'max_samples':p}\n",
    "    auc_roc_inne, auc_pr_inne, anomaly_scores, socres_rank = best_report(instance_reprs, outlier_labels, inne_func, args_inne\n",
    "                                                                         , run_time=run_time, use_pr=use_pr_inne)\n",
    "    if not use_pr_inne:\n",
    "        if auc_roc_inne > best_roc:\n",
    "            best_roc = auc_roc_inne\n",
    "            best_pr = auc_pr_inne\n",
    "            best_p = p\n",
    "            best_scores = anomaly_scores\n",
    "            best_rank = socres_rank\n",
    "    else:\n",
    "        if auc_pr_inne > best_pr:\n",
    "            best_roc = auc_roc_inne\n",
    "            best_pr = auc_pr_inne\n",
    "            best_p = p\n",
    "            best_scores = anomaly_scores\n",
    "            best_rank = socres_rank\n",
    "        \n",
    "print(f'AUC-ROC:{best_roc}')\n",
    "print(f'AUC-PR:{best_pr}')\n",
    "print(f'best p:{best_p}')\n",
    "if save:\n",
    "    anomaly_scores_inne, anomaly_rank_inne = best_scores, best_rank\n",
    "    np.save(path / f'anomaly_scores_inne_{name}_class{class_no}_finch.npy', anomaly_scores_inne)\n",
    "    np.save(path / f'anomaly_scores_rank_inne_{name}_class{class_no}_finch.npy', anomaly_rank_inne)"
   ]
  },
  {
   "cell_type": "code",
   "execution_count": null,
   "id": "73eff2df",
   "metadata": {
    "ExecuteTime": {
     "end_time": "2024-04-17T05:59:21.814958Z",
     "start_time": "2024-04-17T05:59:21.798249Z"
    }
   },
   "outputs": [],
   "source": [
    "# ts2vec-global\n",
    "class1 = {'AUC-ROC':1, 'AUC-PR':1, 'max_samples':21}\n",
    "class2 = {'AUC-ROC':1, 'AUC-PR':1, 'max_samples':2}\n",
    "class10 = {'AUC-ROC':0.8351, 'AUC-PR':0.3161, 'max_samples':2}\n",
    "class11 = {'AUC-ROC':1, 'AUC-PR':1, 'max_samples':2}\n",
    "class12 = {'AUC-ROC':0.6167, 'AUC-PR':0.0886, 'max_samples':24}\n",
    "class13 = {'AUC-ROC':1, 'AUC-PR':1, 'max_samples':2}\n",
    "class14= {'AUC-ROC':0.9231, 'AUC-PR':0.1, 'max_samples':15}\n",
    "# tsfel\n",
    "class1 = {'AUC-ROC':0.98, 'AUC-PR':0.0995, 'max_samples':5}\n",
    "class2 = {'AUC-ROC':1, 'AUC-PR':1, 'max_samples':28}\n",
    "class10 = {'AUC-ROC':0.6192, 'AUC-PR':0.2364, 'max_samples':2}\n",
    "class11 = {'AUC-ROC':1, 'AUC-PR':1, 'max_samples':2}\n",
    "class12 = {'AUC-ROC':0.4533, 'AUC-PR':0.0679, 'max_samples':10}\n",
    "class13 = {'AUC-ROC':0.9831, 'AUC-PR':0.25, 'max_samples':2}\n",
    "class14= {'AUC-ROC':0.9808, 'AUC-PR':0.25, 'max_samples':17}\n",
    "mix = {'AUC-ROC':0.9906, 'AUC-PR':0.3539, 'max_samples':17}\n",
    "# ts2vec_finch\n",
    "class5 = {'AUC-ROC':1, 'AUC-PR'1, 'max_samples':3}\n",
    "class6 = {'AUC-ROC':1, 'AUC-PR'1, 'max_samples':8}\n",
    "class13 = {'AUC-ROC':1, 'AUC-PR'1, 'max_samples':7}\n",
    "class16 = {'AUC-ROC':1, 'AUC-PR'1, 'max_samples':6}\n",
    "# tsfel_finch\n",
    "class0 = {'AUC-ROC':0.9926, 'AUC-PR'0.0385, 'max_samples':33}\n",
    "class5 = {'AUC-ROC':0.7746, 'AUC-PR':0.3717, 'max_samples':59}\n",
    "class8 = {'AUC-ROC':1, 'AUC-PR'1, 'max_samples':2}\n",
    "class9 = {'AUC-ROC':0.9487, 'AUC-PR'0.1667, 'max_samples':17}"
   ]
  },
  {
   "cell_type": "markdown",
   "id": "d24db489",
   "metadata": {},
   "source": [
    "## LOF-euclidean"
   ]
  },
  {
   "cell_type": "code",
   "execution_count": null,
   "id": "4292c877",
   "metadata": {
    "ExecuteTime": {
     "end_time": "2024-03-11T10:17:21.847761Z",
     "start_time": "2024-03-11T10:17:21.543682Z"
    }
   },
   "outputs": [],
   "source": [
    "detector_lof = LOF(contamination=0.06, n_jobs=13, novelty=True, n_neighbors=25, metric='euclidean')\n",
    "detector_lof.fit(instance_reprs)\n",
    "anomaly_labels_lof = detector_lof.labels_.astype(bool)\n",
    "anomaly_scores_lof = detector_lof.decision_scores_\n",
    "min_s, max_s = anomaly_scores_lof.min(), anomaly_scores_lof.max()\n",
    "anomaly_scores_lof = (anomaly_scores_lof-min_s) / (max_s-min_s)\n",
    "anomaly_file_lof = np.arange(1, 9209)[anomaly_labels_lof.astype(bool)]\n",
    "print('threshold:', (detector_lof.threshold_-min_s) / (max_s - min_s))\n",
    "print(f'anomaly numbers:', sum(anomaly_labels_lof))\n",
    "top_100 = np.argsort(anomaly_scores_lof)[-100:]\n",
    "top_100_label = np.zeros_like(anomaly_scores_lof)\n",
    "top_100_label[top_100] = 1\n",
    "anomaly_files = top_100+1\n",
    "anomaly_score = anomaly_scores_lof[top_100]\n",
    "\n",
    "# auc计算设置, 文件名按照异常分从高向低排序\n",
    "score_index = np.argsort(anomaly_scores_lof)[::-1]\n",
    "scores = anomaly_scores_lof[score_index]\n",
    "files = np.arange(1, 9209)[score_index]"
   ]
  },
  {
   "cell_type": "code",
   "execution_count": 114,
   "id": "a576ed12",
   "metadata": {
    "ExecuteTime": {
     "end_time": "2024-08-09T06:58:49.144012Z",
     "start_time": "2024-08-09T06:58:47.105775Z"
    }
   },
   "outputs": [
    {
     "data": {
      "application/vnd.jupyter.widget-view+json": {
       "model_id": "d52fd6e1101142a5ad756d382d0d8549",
       "version_major": 2,
       "version_minor": 0
      },
      "text/plain": [
       "  0%|          | 0/248 [00:00<?, ?it/s]"
      ]
     },
     "metadata": {},
     "output_type": "display_data"
    },
    {
     "name": "stdout",
     "output_type": "stream",
     "text": [
      "AUC-ROC:0.8501585623678647\n",
      "AUC-PR:0.3273293220267307\n",
      "best p:125\n"
     ]
    }
   ],
   "source": [
    "use_pr_lof = True\n",
    "run_time = 1\n",
    "params = np.arange(2, 250, 1)\n",
    "# params = np.arange(10, 11)\n",
    "\n",
    "best_roc, best_pr = 0, 0\n",
    "best_p = 2\n",
    "best_scores, best_rank = None, None\n",
    "for p in tqdm(params):\n",
    "    if p >= instance_reprs.shape[0]:\n",
    "        continue\n",
    "    args_lof = {'n_neighbors':p}\n",
    "    auc_roc_lof, auc_pr_lof, anomaly_scores, socres_rank = best_report(instance_reprs, outlier_labels, lof_func, args_lof, run_time=run_time, use_pr=use_pr_lof)\n",
    "    if not use_pr_lof:\n",
    "        if auc_roc_lof > best_roc:\n",
    "            best_roc = auc_roc_lof\n",
    "            best_pr = auc_pr_lof\n",
    "            best_p = p\n",
    "            best_scores = anomaly_scores\n",
    "            best_rank = socres_rank\n",
    "    else:\n",
    "        if auc_pr_lof > best_pr:\n",
    "            best_roc = auc_roc_lof\n",
    "            best_pr = auc_pr_lof\n",
    "            best_p = p\n",
    "            best_scores = anomaly_scores\n",
    "            best_rank = socres_rank\n",
    "        \n",
    "print(f'AUC-ROC:{best_roc}')\n",
    "print(f'AUC-PR:{best_pr}')\n",
    "print(f'best p:{best_p}')\n",
    "if save:\n",
    "    anomaly_scores_lof, anomaly_rank_lof = best_scores, best_rank\n",
    "    np.save(path / f'anomaly_scores_lof_{name}_class{class_no}_finch.npy', anomaly_scores_lof)\n",
    "    np.save(path / f'anomaly_scores_rank_lof_{name}_class{class_no}_finch.npy', anomaly_rank_lof)"
   ]
  },
  {
   "cell_type": "code",
   "execution_count": 380,
   "id": "b27a7999",
   "metadata": {
    "ExecuteTime": {
     "end_time": "2024-04-29T10:28:16.919742Z",
     "start_time": "2024-04-29T10:28:16.906725Z"
    }
   },
   "outputs": [],
   "source": [
    "# ts2vec-global\n",
    "class1 = {'AUC-ROC':1, 'AUC-PR':1, 'n_neighbors':3}\n",
    "class2 = {'AUC-ROC':1, 'AUC-PR':1, 'n_neighbors':2}\n",
    "class10 = {'AUC-ROC':0.8491, 'AUC-PR':0.32, 'n_neighbors':123}\n",
    "class11 = {'AUC-ROC':1, 'AUC-PR':1, 'n_neighbors':2}\n",
    "class12= {'AUC-ROC':0.8633, 'AUC-PR':0.2727, 'n_neighbors':64}\n",
    "class13= {'AUC-ROC':1, 'AUC-PR':1, 'n_neighbors':2}\n",
    "class14= {'AUC-ROC':0.9808, 'AUC-PR':0.25, 'n_neighbors':51}\n",
    "# tsfel\n",
    "class1 = {'AUC-ROC':0.9762, 'AUC-PR':0.0778, 'n_neighbors':201}\n",
    "class2 = {'AUC-ROC':0.9967, 'AUC-PR':0.1667, 'n_neighbors':235}\n",
    "class10 = {'AUC-ROC':0.7619, 'AUC-PR':0.3657, 'n_neighbors':190}\n",
    "class11 = {'AUC-ROC':1, 'AUC-PR':1, 'n_neighbors':3}\n",
    "class12= {'AUC-ROC':0.82, 'AUC-PR':0.1693, 'n_neighbors':60}\n",
    "class13= {'AUC-ROC':0.9830, 'AUC-PR':0.25, 'n_neighbors':2}\n",
    "class14= {'AUC-ROC':0.9615, 'AUC-PR':0.1667, 'n_neighbors':2}\n",
    "mix = {'AUC-ROC':0.8191, 'AUC-PR':0.1534, 'n_neighbors':2}\n",
    "# ts2vec_finch\n",
    "class5 = {'AUC-ROC':1, 'AUC-PR'1, 'n_neighbors':9}\n",
    "class6 = {'AUC-ROC':1, 'AUC-PR'1, 'n_neighbors':4}\n",
    "class13 = {'AUC-ROC':1, 'AUC-PR'1, 'n_neighbors':5}\n",
    "class16 = {'AUC-ROC':1, 'AUC-PR'1, 'n_neighbors':2}\n",
    "# tsfel_finch\n",
    "class0 = {'AUC-ROC':0.9938, 'AUC-PR'0.0455, 'n_neighbors':9}\n",
    "class5 = {'AUC-ROC':0.8587, 'AUC-PR':0.3633, 'n_neighbors':52}\n",
    "class8 = {'AUC-ROC':0.5, 'AUC-PR'0.67, 'n_neighbors':2}\n",
    "class9 = {'AUC-ROC':0.9231, 'AUC-PR'0.125, 'n_neighbors':16}"
   ]
  },
  {
   "cell_type": "markdown",
   "id": "5971a13a",
   "metadata": {},
   "source": [
    "## COF"
   ]
  },
  {
   "cell_type": "code",
   "execution_count": null,
   "id": "62d199cb",
   "metadata": {
    "ExecuteTime": {
     "end_time": "2024-03-11T14:26:31.843695Z",
     "start_time": "2024-03-11T14:25:11.446767Z"
    }
   },
   "outputs": [],
   "source": [
    "detector_cof = COF(contamination=0.06, n_neighbors=2)\n",
    "detector_cof.fit(instance_reprs)\n",
    "anomaly_labels_cof = detector_cof.labels_.astype(bool)\n",
    "anomaly_scores_cof = detector_cof.decision_scores_\n",
    "min_s, max_s = anomaly_scores_cof.min(), anomaly_scores_cof.max()\n",
    "anomaly_scores_cof = (anomaly_scores_cof-min_s) / (max_s-min_s)\n",
    "anomaly_file_cof = np.arange(1, 9209)[anomaly_labels_cof.astype(bool)]\n",
    "print('threshold:', (detector_cof.threshold_-min_s) / (max_s - min_s))\n",
    "print(f'anomaly numbers:', sum(anomaly_labels_cof))\n",
    "top_100 = np.argsort(anomaly_scores_cof)[-100:]\n",
    "top_100_label = np.zeros_like(anomaly_scores_cof)\n",
    "top_100_label[top_100] = 1\n",
    "anomaly_files = top_100+1\n",
    "anomaly_score = anomaly_scores_cof[top_100]\n",
    "\n",
    "# auc计算设置, 文件名按照异常分从高向低排序\n",
    "score_index = np.argsort(anomaly_scores_cof)[::-1]\n",
    "scores = anomaly_scores_cof[score_index]\n",
    "files = np.arange(1, 9209)[score_index]"
   ]
  },
  {
   "cell_type": "code",
   "execution_count": 115,
   "id": "f9a90b1a",
   "metadata": {
    "ExecuteTime": {
     "end_time": "2024-08-09T06:59:11.010488Z",
     "start_time": "2024-08-09T06:59:04.299733Z"
    }
   },
   "outputs": [
    {
     "data": {
      "application/vnd.jupyter.widget-view+json": {
       "model_id": "f827468c16194a7487536a91a98a50d6",
       "version_major": 2,
       "version_minor": 0
      },
      "text/plain": [
       "  0%|          | 0/98 [00:00<?, ?it/s]"
      ]
     },
     "metadata": {},
     "output_type": "display_data"
    },
    {
     "name": "stdout",
     "output_type": "stream",
     "text": [
      "AUC-ROC:0.6065010570824524\n",
      "AUC-PR:0.32115270180146094\n",
      "best p:18\n"
     ]
    }
   ],
   "source": [
    "use_pr_cof = True\n",
    "run_time = 1\n",
    "params = np.arange(2, 100, 1).tolist()\n",
    "\n",
    "best_roc, best_pr = 0, 0\n",
    "best_p = 2\n",
    "best_scores, best_rank = None, None\n",
    "for p in tqdm(params):\n",
    "    if p >= instance_reprs.shape[0]:\n",
    "        continue\n",
    "    args_cof = {'n_neighbors':p}\n",
    "    auc_roc_cof, auc_pr_cof, anomaly_scores, socres_rank = best_report(instance_reprs, outlier_labels, cof_func, args_cof, run_time=run_time, use_pr=use_pr_cof)\n",
    "    if not use_pr_cof:\n",
    "        if auc_roc_cof > best_roc:\n",
    "            best_roc = auc_roc_cof\n",
    "            best_pr = auc_pr_cof\n",
    "            best_p = p\n",
    "            best_scores = anomaly_scores\n",
    "            best_rank = socres_rank\n",
    "    else:\n",
    "        if auc_pr_cof > best_pr:\n",
    "            best_roc = auc_roc_cof\n",
    "            best_pr = auc_pr_cof\n",
    "            best_p = p\n",
    "            best_scores = anomaly_scores\n",
    "            best_rank = socres_rank\n",
    "        \n",
    "print(f'AUC-ROC:{best_roc}')\n",
    "print(f'AUC-PR:{best_pr}')\n",
    "print(f'best p:{best_p}')\n",
    "if save:\n",
    "    anomaly_scores_cof, anomaly_rank_cof = best_scores, best_rank\n",
    "    np.save(path / f'anomaly_scores_cof_{name}_class{class_no}_finch.npy', anomaly_scores_cof)\n",
    "    np.save(path / f'anomaly_scores_rank_cof_{name}_class{class_no}_finch.npy', anomaly_rank_cof)"
   ]
  },
  {
   "cell_type": "code",
   "execution_count": null,
   "id": "448b8887",
   "metadata": {},
   "outputs": [],
   "source": [
    "# ts2vec-global\n",
    "class1 = {'AUC-ROC':1, 'AUC-PR':1, 'n_neighbors':6}\n",
    "class2 = {'AUC-ROC':1, 'AUC-PR':1, 'n_neighbors':3}\n",
    "class10 = {'AUC-ROC':0.5878, 'AUC-PR':0.2706, 'n_neighbors':18}\n",
    "class11 = {'AUC-ROC':1, 'AUC-PR':1, 'n_neighbors':2}\n",
    "class12 = {'AUC-ROC':0.6367, 'AUC-PR':0.1069, 'n_neighbors':30}\n",
    "class13 = {'AUC-ROC':1, 'AUC-PR':1, 'n_neighbors':2}\n",
    "class14 = {'AUC-ROC':0.9808, 'AUC-PR':0.25, 'n_neighbors':4}\n",
    "# tsfel\n",
    "class1 = {'AUC-ROC':0.9771, 'AUC-PR':0.0826, 'n_neighbors':87}\n",
    "class2 = {'AUC-ROC':0.9933, 'AUC-PR':0.1, 'n_neighbors':4}\n",
    "class10 = {'AUC-ROC':0.5327, 'AUC-PR':0.2061, 'n_neighbors':109}\n",
    "class11 = {'AUC-ROC':1, 'AUC-PR':1, 'n_neighbors':3}\n",
    "class12 = {'AUC-ROC':0.5233, 'AUC-PR':0.0771, 'n_neighbors':10}\n",
    "class13 = {'AUC-ROC':0.9831, 'AUC-PR':0.25, 'n_neighbors':2}\n",
    "class14 = {'AUC-ROC':0.9808, 'AUC-PR':0.25, 'n_neighbors':2}\n",
    "mix = {'AUC-ROC':0.8119, 'AUC-PR':0.1457, 'n_neighbors':2}\n",
    "# ts2vec_finch\n",
    "class5 = {'AUC-ROC':1, 'AUC-PR'1, 'n_neighbors':12}\n",
    "class6 = {'AUC-ROC':1, 'AUC-PR'1, 'n_neighbors':10}\n",
    "class13 = {'AUC-ROC':1, 'AUC-PR'1, 'n_neighbors':7}\n",
    "class16 = {'AUC-ROC':1, 'AUC-PR'1, 'n_neighbors':3}\n",
    "# tsfel_finch\n",
    "class0 = {'AUC-ROC':0.9937, 'AUC-PR':0.0455, 'n_neighbors':13}\n",
    "class5 = {'AUC-ROC':0.746, 'AUC-PR':0.3966, 'n_neighbors':3}\n",
    "class8 = {'AUC-ROC':1, 'AUC-PR'1, 'n_neighbors':2}\n",
    "class9 = {'AUC-ROC':0.8462, 'AUC-PR'0.0714, 'n_neighbors':3}"
   ]
  },
  {
   "cell_type": "markdown",
   "id": "224bade5",
   "metadata": {},
   "source": [
    "## EIF"
   ]
  },
  {
   "cell_type": "code",
   "execution_count": null,
   "id": "dce2dea2",
   "metadata": {
    "ExecuteTime": {
     "end_time": "2024-03-11T10:47:22.457412Z",
     "start_time": "2024-03-11T10:47:10.241959Z"
    }
   },
   "outputs": [],
   "source": [
    "eif = EIF(sub_size=2, contamination=0.06, n_estimators=300)\n",
    "eif.fit(instance_reprs)\n",
    "anomaly_labels_eif = eif.label.astype(bool)\n",
    "anomaly_scores_eif = eif.scores\n",
    "min_s, max_s = anomaly_scores_eif.min(), anomaly_scores_eif.max()\n",
    "anomaly_scores_eif = (anomaly_scores_eif-min_s) / (max_s-min_s)\n",
    "anomaly_file_eif = np.arange(1, 9209)[anomaly_labels_eif.astype(bool)]\n",
    "print('threshold:', (eif.threshold-min_s) / (max_s - min_s))\n",
    "print(f'anomaly numbers:', sum(anomaly_labels_eif))\n",
    "top_100 = np.argsort(anomaly_scores_eif)[-100:]\n",
    "top_100_label = np.zeros_like(anomaly_scores_eif)\n",
    "top_100_label[top_100] = 1\n",
    "anomaly_files = top_100 + 1\n",
    "anomaly_score = anomaly_scores_eif[top_100]\n",
    "\n",
    "# auc计算设置, 文件名按照异常分从高向低排序\n",
    "score_index = np.argsort(anomaly_scores_eif)[::-1]\n",
    "scores = anomaly_scores_eif[score_index]\n",
    "files = np.arange(1, 9209)[score_index]"
   ]
  },
  {
   "cell_type": "code",
   "execution_count": 116,
   "id": "611d8bf5",
   "metadata": {
    "ExecuteTime": {
     "end_time": "2024-08-09T07:04:41.054015Z",
     "start_time": "2024-08-09T06:59:28.093824Z"
    }
   },
   "outputs": [
    {
     "data": {
      "application/vnd.jupyter.widget-view+json": {
       "model_id": "4403c65d120a40399731407b03ed5baf",
       "version_major": 2,
       "version_minor": 0
      },
      "text/plain": [
       "  0%|          | 0/8 [00:00<?, ?it/s]"
      ]
     },
     "metadata": {},
     "output_type": "display_data"
    },
    {
     "name": "stdout",
     "output_type": "stream",
     "text": [
      "AUC-ROC:0.7139270613107822\n",
      "AUC-PR:0.2716236361342732\n",
      "best p:6\n"
     ]
    }
   ],
   "source": [
    "use_pr_eif = True\n",
    "run_time = 10\n",
    "params = [i for i in range(4, 20, 2)]\n",
    "# params = [i for i in range(4, 5)]\n",
    "# \n",
    "best_roc, best_pr = 0, 0\n",
    "best_p = 2\n",
    "best_scores, best_rank = None, None\n",
    "for p in tqdm(params):\n",
    "    if p >= instance_reprs.shape[0]:\n",
    "        continue \n",
    "    args_eif = {'sub_size':p}\n",
    "    auc_roc_eif, auc_pr_eif, anomaly_scores, socres_rank = best_report(instance_reprs, outlier_labels, eif_func, args_eif, run_time=run_time, use_pr=use_pr_eif)\n",
    "    if not use_pr_eif:\n",
    "        if auc_roc_eif > best_roc:\n",
    "            best_roc = auc_roc_eif\n",
    "            best_pr = auc_pr_eif\n",
    "            best_p = p\n",
    "            best_scores = anomaly_scores\n",
    "            best_rank = socres_rank\n",
    "    else:\n",
    "        if auc_pr_eif > best_pr:\n",
    "            best_roc = auc_roc_eif\n",
    "            best_pr = auc_pr_eif\n",
    "            best_p = p\n",
    "            best_scores = anomaly_scores\n",
    "            best_rank = socres_rank\n",
    "        \n",
    "print(f'AUC-ROC:{best_roc}')\n",
    "print(f'AUC-PR:{best_pr}')\n",
    "print(f'best p:{best_p}')\n",
    "if save:\n",
    "    anomaly_scores_eif, anomaly_rank_eif = best_scores, best_rank\n",
    "    np.save(path / f'anomaly_scores_eif_{name}_class{class_no}_finch.npy', anomaly_scores_eif)\n",
    "    np.save(path / f'anomaly_scores_rank_eif_{name}_class{class_no}_finch.npy', anomaly_rank_eif)"
   ]
  },
  {
   "cell_type": "code",
   "execution_count": null,
   "id": "519d8d83",
   "metadata": {
    "ExecuteTime": {
     "end_time": "2024-04-16T02:14:29.656377Z",
     "start_time": "2024-04-16T02:14:29.637691Z"
    }
   },
   "outputs": [],
   "source": [
    "## ts2vec-global\n",
    "class1 = {'AUC-ROC':0.9995, 'AUC-PR':0.9333, 'max_samples':4}\n",
    "class2 = {'AUC-ROC':1, 'AUC-PR':1, 'max_samples':4}\n",
    "class10 = {'AUC-ROC':0.6559, 'AUC-PR':0.3035, 'max_samples':4}\n",
    "class11 = {'AUC-ROC':1, 'AUC-PR':1, 'max_samples':4}\n",
    "class12 = {'AUC-ROC':0.7333, 'AUC-PR':0.1466, 'max_samples':4}\n",
    "class13 = {'AUC-ROC':1, 'AUC-PR':1, 'max_samples':4}\n",
    "class14 = {'AUC-ROC':0.7692, 'AUC-PR':0.0385, 'max_samples':14}\n",
    "## tsfel\n",
    "class1 = {'AUC-ROC':0.9814, 'AUC-PR':0.0987, 'max_samples':6}\n",
    "class2 = {'AUC-ROC':1, 'AUC-PR':1, 'max_samples':4}\n",
    "class10 = {'AUC-ROC':0.5292, 'AUC-PR':0.2450, 'max_samples':4}\n",
    "class11 = {'AUC-ROC':1, 'AUC-PR':1, 'max_samples':4}\n",
    "class12 = {'AUC-ROC':0.4133, 'AUC-PR':0.06, 'max_samples':8}\n",
    "class13 = {'AUC-ROC':0.9831, 'AUC-PR':0.25, 'max_samples':4}\n",
    "class14 = {'AUC-ROC':0.9231, 'AUC-PR':0.1, 'max_samples':4}\n",
    "mix = {'AUC-ROC':0.9536, 'AUC-PR':0.3023, 'max_samples':4}\n",
    "# ts2vec_finch\n",
    "class5 = {'AUC-ROC':0.9976, 'AUC-PR':0.9167, 'max_samples':4}\n",
    "class6 = {'AUC-ROC':0.9896, 'AUC-PR':0.1667, 'max_samples':4}\n",
    "class13 = {'AUC-ROC':0.9624, 'AUC-PR':0.0455, 'max_samples':18}\n",
    "class16 = {'AUC-ROC':1, 'AUC-PR':1, 'max_samples':4}\n",
    "# tsfel_finch\n",
    "class0 = {'AUC-ROC':0.7638, 'AUC-PR':0.0013, 'max_samples':4}\n",
    "class5 = {'AUC-ROC':0.8127, 'AUC-PR':0.4203, 'max_samples':4}\n",
    "class8 = {'AUC-ROC':0.9455, 'AUC-PR':0.03125, 'max_samples':12} # fail\n",
    "class9 = {'AUC-ROC':0.923, 'AUC-PR':0.125, 'max_samples':6}"
   ]
  },
  {
   "cell_type": "markdown",
   "id": "971fbadf",
   "metadata": {},
   "source": [
    "## IF"
   ]
  },
  {
   "cell_type": "code",
   "execution_count": null,
   "id": "b4fc9c5b",
   "metadata": {
    "ExecuteTime": {
     "end_time": "2024-04-27T03:01:17.718352Z",
     "start_time": "2024-04-27T03:01:16.906257Z"
    }
   },
   "outputs": [],
   "source": [
    "ifs = EIF(sub_size=2, contamination=0.06, extension=0, n_estimators=200)\n",
    "ifs.fit(instance_reprs)\n",
    "anomaly_labels_ifs = ifs.label.astype(bool)\n",
    "anomaly_scores_ifs = ifs.scores\n",
    "min_s, max_s = anomaly_scores_ifs.min(), anomaly_scores_ifs.max()\n",
    "anomaly_scores_ifs = (anomaly_scores_ifs-min_s) / (max_s-min_s)\n",
    "anomaly_file_ifs = np.arange(1, 9209)[anomaly_labels_ifs.astype(bool)]\n",
    "print('threshold:', (ifs.threshold-min_s) / (max_s - min_s))\n",
    "print(f'anomaly numbers:', sum(anomaly_labels_ifs))\n",
    "top_100 = np.argsort(anomaly_scores_ifs)[-100:]\n",
    "top_100_label = np.zeros_like(anomaly_scores_ifs)\n",
    "top_100_label[top_100] = 1\n",
    "anomaly_files = top_100+1\n",
    "anomaly_score = anomaly_scores_ifs[top_100]"
   ]
  },
  {
   "cell_type": "code",
   "execution_count": 85,
   "id": "be07bac1",
   "metadata": {
    "ExecuteTime": {
     "end_time": "2024-08-09T06:47:39.215964Z",
     "start_time": "2024-08-09T06:38:37.258867Z"
    }
   },
   "outputs": [
    {
     "data": {
      "application/vnd.jupyter.widget-view+json": {
       "model_id": "8441ad695e444c598059bd8114f0e252",
       "version_major": 2,
       "version_minor": 0
      },
      "text/plain": [
       "  0%|          | 0/3 [00:00<?, ?it/s]"
      ]
     },
     "metadata": {},
     "output_type": "display_data"
    },
    {
     "name": "stdout",
     "output_type": "stream",
     "text": [
      "AUC-ROC:0.9951456310679612\n",
      "AUC-PR:0.7916666666666666\n",
      "best p:4\n"
     ]
    }
   ],
   "source": [
    "use_pr_if = True\n",
    "run_time = 10\n",
    "# params = [4, 8, 16]\n",
    "params = [i for i in range(4, 10, 2)]\n",
    "\n",
    "best_roc, best_pr = 0, 0\n",
    "best_p = 2\n",
    "best_scores, best_rank = None, None\n",
    "for p in tqdm(params):\n",
    "    if p >= instance_reprs.shape[0]:\n",
    "        continue\n",
    "    args_if = {'sub_size':p}\n",
    "    auc_roc_if, auc_pr_if, anomaly_scores, socres_rank = best_report(instance_reprs, outlier_labels, if_func, args_if, run_time=run_time, use_pr=use_pr_if)\n",
    "    if not use_pr_if:\n",
    "        if auc_roc_if > best_roc:\n",
    "            best_roc = auc_roc_if\n",
    "            best_pr = auc_pr_if\n",
    "            best_p = p\n",
    "            best_scores = anomaly_scores\n",
    "            best_rank = socres_rank\n",
    "    else:\n",
    "        if auc_pr_if > best_pr:\n",
    "            best_roc = auc_roc_if\n",
    "            best_pr = auc_pr_if\n",
    "            best_p = p\n",
    "            best_scores = anomaly_scores\n",
    "            best_rank = socres_rank\n",
    "        \n",
    "print(f'AUC-ROC:{best_roc}')\n",
    "print(f'AUC-PR:{best_pr}')\n",
    "print(f'best p:{best_p}')\n",
    "if save:\n",
    "    anomaly_scores_if, anomaly_rank_if = best_scores, best_rank\n",
    "    np.save(path / f'anomaly_scores_if_{name}_class{class_no}_finch.npy', anomaly_scores_if)\n",
    "    np.save(path / f'anomaly_scores_rank_if_{name}_class{class_no}_finch.npy', anomaly_rank_if)"
   ]
  },
  {
   "cell_type": "code",
   "execution_count": 84,
   "id": "9f3f5a9e",
   "metadata": {
    "ExecuteTime": {
     "end_time": "2024-04-27T01:48:45.039097Z",
     "start_time": "2024-04-27T01:48:44.983400Z"
    }
   },
   "outputs": [],
   "source": [
    "# ts2vec-global\n",
    "class1 = {'AUC-ROC':1, 'AUC-PR':1, 'max_samples':4}\n",
    "class2 = {'AUC-ROC':1, 'AUC-PR':1, 'max_samples':4}\n",
    "class10 = {'AUC-ROC':0.691, 'AUC-PR':0.2254, 'max_samples':6}\n",
    "class11 = {'AUC-ROC':0.9917, 'AUC-PR':0.25, 'max_samples':4}\n",
    "class12 = {'AUC-ROC':0.4566, 'AUC-PR':0.0673, 'max_samples':4}\n",
    "class13 = {'AUC-ROC':1, 'AUC-PR':1, 'max_samples':4}\n",
    "class14 = {'AUC-ROC':0.5, 'AUC-PR':0.0185, 'max_samples':6}\n",
    "# tsfel\n",
    "class1 = {'AUC-ROC':0.9372, 'AUC-PR':0.0314, 'max_samples':8}\n",
    "class2 = {'AUC-ROC':0.9684, 'AUC-PR':0.025, 'max_samples':6}\n",
    "class10 = {'AUC-ROC':0.3942, 'AUC-PR':0.1018, 'max_samples':6}\n",
    "class11 = {'AUC-ROC':1, 'AUC-PR':1, 'max_samples':4}\n",
    "class12 = {'AUC-ROC':0.3433, 'AUC-PR':0.0553, 'max_samples':6}\n",
    "class13 = {'AUC-ROC':1, 'AUC-PR':1, 'max_samples':4}\n",
    "class14 = {'AUC-ROC':1, 'AUC-PR':1, 'max_samples':6}\n",
    "mix = {'AUC-ROC':0.9475, 'AUC-PR':0.2555, 'max_samples':6}\n",
    "# ts2vec_finch\n",
    "class5 = {'AUC-ROC':0.9951, 'AUC-PR':0.7917, 'max_samples':4}\n",
    "class6 = {'AUC-ROC':0.9741, 'AUC-PR':0.0833, 'max_samples':6}\n",
    "class13 = {'AUC-ROC':1, 'AUC-PR':1, 'max_samples':4}\n",
    "class16 = {'AUC-ROC':1, 'AUC-PR':1, 'max_samples':4}\n",
    "# tsfel_finch\n",
    "class0 = {'AUC-ROC':0.81, 'AUC-PR':0.0016, 'max_samples':4}\n",
    "class5 = {'AUC-ROC':0.9317, 'AUC-PR':0.1401, 'max_samples':8}\n",
    "class8 = {'AUC-ROC':1, 'AUC-PR':1, 'max_samples':4} # fail\n",
    "class9 = {'AUC-ROC':0.641, 'AUC-PR':0.0333, 'max_samples':4}"
   ]
  },
  {
   "cell_type": "markdown",
   "id": "0cff29e8",
   "metadata": {},
   "source": [
    "## KNN"
   ]
  },
  {
   "cell_type": "code",
   "execution_count": null,
   "id": "df8f3f3f",
   "metadata": {
    "ExecuteTime": {
     "end_time": "2024-03-11T13:05:38.344930Z",
     "start_time": "2024-03-11T13:05:37.582346Z"
    }
   },
   "outputs": [],
   "source": [
    "knn = KNN(n_neighbors=60, method='mean', metric='euclidean', n_jobs=13)\n",
    "knn.fit(instance_reprs)\n",
    "anomaly_labels_knn = knn.labels_.astype(bool)\n",
    "anomaly_scores_knn = knn.decision_scores_\n",
    "min_s, max_s = anomaly_scores_knn.min(), anomaly_scores_knn.max()\n",
    "anomaly_scores_knn = (anomaly_scores_knn-min_s) / (max_s-min_s)\n",
    "anomaly_file_knn = np.arange(1, 9209)[anomaly_labels_knn.astype(bool)]\n",
    "print('threshold:', (knn.threshold_-min_s) / (max_s - min_s))\n",
    "print(f'anomaly numbers:', sum(anomaly_labels_knn))\n",
    "top_100 = np.argsort(anomaly_scores_knn)[-100:]\n",
    "top_100_label = np.zeros_like(anomaly_scores_knn)\n",
    "top_100_label[top_100] = 1\n",
    "anomaly_files = top_100+1\n",
    "anomaly_score = anomaly_scores_knn[top_100]\n",
    "\n",
    "# auc计算设置, 文件名按照异常分从高向低排序\n",
    "score_index = np.argsort(anomaly_scores_knn)[::-1]\n",
    "scores = anomaly_scores_knn[score_index]\n",
    "files = np.arange(1, 9209)[score_index]"
   ]
  },
  {
   "cell_type": "code",
   "execution_count": 80,
   "id": "ea6a6131",
   "metadata": {
    "ExecuteTime": {
     "end_time": "2024-08-09T06:06:41.797439Z",
     "start_time": "2024-08-09T06:06:40.737173Z"
    }
   },
   "outputs": [
    {
     "data": {
      "application/vnd.jupyter.widget-view+json": {
       "model_id": "108149ae9eaa42d388c02e6f74cdc0be",
       "version_major": 2,
       "version_minor": 0
      },
      "text/plain": [
       "  0%|          | 0/198 [00:00<?, ?it/s]"
      ]
     },
     "metadata": {},
     "output_type": "display_data"
    },
    {
     "name": "stdout",
     "output_type": "stream",
     "text": [
      "AUC-ROC:1.0\n",
      "AUC-PR:1.0\n",
      "best p:63\n"
     ]
    }
   ],
   "source": [
    "use_pr_knn = True\n",
    "run_time = 1\n",
    "params = np.arange(2, 200, 1)\n",
    "\n",
    "best_roc, best_pr = 0, 0\n",
    "best_p = 2\n",
    "best_scores, best_rank = None, None\n",
    "for p in tqdm(params):\n",
    "    if p >= instance_reprs.shape[0]:\n",
    "        continue\n",
    "    args_knn = {'n_neighbors':p}\n",
    "    auc_roc_knn, auc_pr_knn, anomaly_scores, socres_rank = best_report(instance_reprs, outlier_labels, knn_func, args_knn, run_time=run_time, use_pr=use_pr_knn)\n",
    "    if not use_pr_knn:\n",
    "        if auc_roc_knn > best_roc:\n",
    "            best_roc = auc_roc_knn\n",
    "            best_pr = auc_pr_knn\n",
    "            best_p = p\n",
    "            best_scores = anomaly_scores\n",
    "            best_rank = socres_rank\n",
    "    else:\n",
    "        if auc_pr_knn > best_pr:\n",
    "            best_roc = auc_roc_knn\n",
    "            best_pr = auc_pr_knn\n",
    "            best_p = p\n",
    "            best_scores = anomaly_scores\n",
    "            best_rank = socres_rank\n",
    "        \n",
    "print(f'AUC-ROC:{best_roc}')\n",
    "print(f'AUC-PR:{best_pr}')\n",
    "print(f'best p:{best_p}')\n",
    "if save:\n",
    "    anomaly_scores_knn, anomaly_rank_knn = best_scores, best_rank\n",
    "    np.save(path / f'anomaly_scores_knn_{name}_class{class_no}_finch.npy', anomaly_scores_knn)\n",
    "    np.save(path / f'anomaly_scores_rank_knn_{name}_class{class_no}_finch.npy', anomaly_rank_knn)"
   ]
  },
  {
   "cell_type": "code",
   "execution_count": null,
   "id": "1a30268d",
   "metadata": {
    "ExecuteTime": {
     "end_time": "2024-04-16T08:12:18.661779Z",
     "start_time": "2024-04-16T08:12:18.650269Z"
    }
   },
   "outputs": [],
   "source": [
    "# ts2vec-global\n",
    "class1 = {'AUC-ROC':1, 'AUC-PR':1, 'n_neighbors':2}\n",
    "class2 = {'AUC-ROC':1, 'AUC-PR':1, 'n_neighbors':2}\n",
    "class10 = {'AUC-ROC'0.7849, 'AUC-PR':0.3004, 'n_neighbors':114}\n",
    "class11 = {'AUC-ROC':1, 'AUC-PR':1, 'n_neighbors':2}\n",
    "class12 = {'AUC-ROC':0.6217, 'AUC-PR':0.0895, 'n_neighbors':3}\n",
    "class13 = {'AUC-ROC':1, 'AUC-PR':1, 'n_neighbors':2}\n",
    "class14 = {'AUC-ROC':0.8462, 'AUC-PR':0.0555, 'n_neighbors':2}\n",
    "# tsfel\n",
    "class1 = {'AUC-ROC':0.9814, 'AUC-PR':0.0961, 'n_neighbors':2}\n",
    "class2 = {'AUC-ROC':0.9967, 'AUC-PR':0.1667, 'n_neighbors':2}\n",
    "class10 = {'AUC-ROC'0.6132, 'AUC-PR':0.2380, 'n_neighbors':147}\n",
    "class11 = {'AUC-ROC':1, 'AUC-PR':1, 'n_neighbors':2}\n",
    "class12 = {'AUC-ROC':0.6667, 'AUC-PR':0.1009, 'n_neighbors':3}\n",
    "class13 = {'AUC-ROC':0.9831, 'AUC-PR':0.25, 'n_neighbors':2}\n",
    "class14 = {'AUC-ROC':0.9231, 'AUC-PR':0.1, 'n_neighbors':2}\n",
    "mix = {'AUC-ROC':0.8235, 'AUC-PR':0.1609, 'n_neighbors':2}\n",
    "# ts2vec_finch\n",
    "class5 = {'AUC-ROC':1, 'AUC-PR':1, 'n_neighbors':2}\n",
    "class6 = {'AUC-ROC':0.9948, 'AUC-PR':0.25, 'n_neighbors':2}\n",
    "class13 = {'AUC-ROC':1, 'AUC-PR':1, 'n_neighbors':2}\n",
    "class16 = {'AUC-ROC':1, 'AUC-PR':1, 'n_neighbors':63}\n",
    "# tsfel_finch\n",
    "class0 = {'AUC-ROC':0.9907, 'AUC-PR':0.0313, 'n_neighbors':2}\n",
    "class5 = {'AUC-ROC':0.9079, 'AUC-PR':0.3783, 'n_neighbors':2}\n",
    "class8 = {'AUC-ROC':1, 'AUC-PR':1, 'n_neighbors':2} # fail\n",
    "class9 = {'AUC-ROC':0.9744, 'AUC-PR':0.25, 'n_neighbors':2}"
   ]
  },
  {
   "cell_type": "markdown",
   "id": "9744af3d",
   "metadata": {},
   "source": [
    "## DIF"
   ]
  },
  {
   "cell_type": "code",
   "execution_count": null,
   "id": "d00e8931",
   "metadata": {
    "ExecuteTime": {
     "end_time": "2024-04-16T07:21:54.204499Z",
     "start_time": "2024-04-16T07:21:51.821720Z"
    }
   },
   "outputs": [],
   "source": [
    "dif = DeepIsolationForest(n_jobs=13, device='cpu', max_samples=256, n_estimators=50, rep_dim=128, hidden_dims='100,50'\n",
    "                         , act='ReLU', n_ensemble=50)\n",
    "dif.fit(instance_reprs)\n",
    "anomaly_scores_dif = dif.decision_scores_\n",
    "min_s, max_s = anomaly_scores_dif.min(), anomaly_scores_dif.max()\n",
    "anomaly_scores_dif = (anomaly_scores_dif-min_s) / (max_s-min_s)\n",
    "print('threshold:', (dif.threshold_-min_s) / (max_s - min_s))\n",
    "top_100 = np.argsort(anomaly_scores_dif)[-100:]\n",
    "top_100_label = np.zeros_like(anomaly_scores_dif)\n",
    "top_100_label[top_100] = 1\n",
    "anomaly_files = top_100+1\n",
    "anomaly_score = anomaly_scores_dif[top_100]\n",
    "\n",
    "# auc计算设置, 文件名按照异常分从高向低排序\n",
    "score_index = np.argsort(anomaly_scores_dif)[::-1]\n",
    "scores = anomaly_scores_dif[score_index]\n",
    "files = np.arange(1, 9209)[score_index]"
   ]
  },
  {
   "cell_type": "code",
   "execution_count": 81,
   "id": "9d8b8c96",
   "metadata": {
    "ExecuteTime": {
     "end_time": "2024-08-09T06:15:31.398598Z",
     "start_time": "2024-08-09T06:06:41.799445Z"
    }
   },
   "outputs": [
    {
     "data": {
      "application/vnd.jupyter.widget-view+json": {
       "model_id": "9df46451d0e94fe1b03393dabef2ddc6",
       "version_major": 2,
       "version_minor": 0
      },
      "text/plain": [
       "  0%|          | 0/20 [00:00<?, ?it/s]"
      ]
     },
     "metadata": {},
     "output_type": "display_data"
    },
    {
     "name": "stdout",
     "output_type": "stream",
     "text": [
      "AUC-ROC:0.9945652173913043\n",
      "AUC-PR:0.7916666666666666\n",
      "best p:30\n"
     ]
    }
   ],
   "source": [
    "use_pr_dif = True\n",
    "run_time = 10\n",
    "# params = [i for i in range(4, 30, 2)]\n",
    "params = [i for i in range(30, 70, 2)]\n",
    "best_roc, best_pr = 0, 0\n",
    "best_p = 2\n",
    "best_scores, best_rank = None, None\n",
    "for p in tqdm(params):\n",
    "    if p >= instance_reprs.shape[0]:\n",
    "        continue\n",
    "    args_dif = {'max_samples':p}\n",
    "    auc_roc_dif, auc_pr_dif, anomaly_scores, socres_rank = best_report(instance_reprs, outlier_labels, dif_func, args_dif, run_time=run_time, use_pr=use_pr_dif)\n",
    "    if not use_pr_dif:\n",
    "        if auc_roc_dif > best_roc:\n",
    "            best_roc = auc_roc_dif\n",
    "            best_pr = auc_pr_dif\n",
    "            best_p = p\n",
    "            best_scores = anomaly_scores\n",
    "            best_rank = socres_rank\n",
    "    else:\n",
    "        if auc_pr_dif > best_pr:\n",
    "            best_roc = auc_roc_dif\n",
    "            best_pr = auc_pr_dif\n",
    "            best_p = p\n",
    "            best_scores = anomaly_scores\n",
    "            best_rank = socres_rank\n",
    "        \n",
    "print(f'AUC-ROC:{best_roc}')\n",
    "print(f'AUC-PR:{best_pr}')\n",
    "print(f'best p:{best_p}')\n",
    "if save:\n",
    "    anomaly_scores_dif, anomaly_rank_dif = best_scores, best_rank\n",
    "    np.save(path / f'anomaly_scores_dif_{name}_class{class_no}_finch.npy', anomaly_scores_dif)\n",
    "    np.save(path / f'anomaly_scores_rank_dif_{name}_class{class_no}_finch.npy', anomaly_rank_dif)"
   ]
  },
  {
   "cell_type": "code",
   "execution_count": null,
   "id": "ff57a9d4",
   "metadata": {
    "ExecuteTime": {
     "end_time": "2024-04-29T07:05:16.264007Z",
     "start_time": "2024-04-29T07:05:16.249776Z"
    }
   },
   "outputs": [],
   "source": [
    "# ts2vec-global\n",
    "class1 = {'AUC-ROC':0.9971, 'AUC-PR':0.3778, 'max_samples':46}\n",
    "class2 = {'AUC-ROC':1, 'AUC-PR':1, 'max_samples':30}\n",
    "class10 = {'AUC-ROC':0.7522, 'AUC-PR'::0.2788, 'max_samples':30}\n",
    "class11 = {'AUC-ROC':1, 'AUC-PR':1, 'max_samples':30}\n",
    "class12 = {'AUC-ROC':0.5633, 'AUC-PR':0.0803, 'max_samples':46}\n",
    "class13 = {'AUC-ROC':1, 'AUC-PR':1, 'max_samples':30}\n",
    "class14 = {'AUC-ROC':0.6731, 'AUC-PR':0.0278, 'max_samples':46}\n",
    "# tsfel\n",
    "class1 = {'AUC-ROC':0.9771, 'AUC-PR':0.0799, 'max_samples':50}\n",
    "class2 = {'AUC-ROC':0.9867, 'AUC-PR':0.0556, 'max_samples':32}\n",
    "class10 = {'AUC-ROC':0.4831, 'AUC-PR':0.1886, 'max_samples':32}\n",
    "class11 = {'AUC-ROC':1, 'AUC-PR':1, 'max_samples':30}\n",
    "class12 = {'AUC-ROC':0.32, 'AUC-PR':0.0559, 'max_samples':34}\n",
    "class13 = {'AUC-ROC':0.9831, 'AUC-PR':0.25, 'max_samples':30}\n",
    "class14 = {'AUC-ROC':0.9615, 'AUC-PR':0.1667, 'max_samples':46}\n",
    "mix = {'AUC-ROC':0.9171, 'AUC-PR':0.1491, 'max_samples':46}\n",
    "# ts2vec_finch\n",
    "class5 = {'AUC-ROC':1, 'AUC-PR':1, 'max_samples':30}\n",
    "class6 = {'AUC-ROC':0.9793, 'AUC-PR':0.1, 'max_samples':52}\n",
    "class13 = {'AUC-ROC':1, 'AUC-PR':1, 'max_samples':62}\n",
    "class16 = {'AUC-ROC':0.9946, 'AUC-PR':0.7917, 'max_samples':30}\n",
    "# tsfel_finch\n",
    "class0 = {'AUC-ROC':0.9392, 'AUC-PR':0.005, 'max_samples':66}\n",
    "class5 = {'AUC-ROC':0.8571, 'AUC-PR':0.3617, 'max_samples':62}\n",
    "class8 = {'AUC-ROC':0.9924, 'AUC-PR':0.1666, 'max_samples':30} # fail\n",
    "class9 = {'AUC-ROC':0.9231, 'AUC-PR':0.125, 'max_samples':32}"
   ]
  },
  {
   "cell_type": "markdown",
   "id": "85843fe2",
   "metadata": {},
   "source": [
    "# 全数据异常分析"
   ]
  },
  {
   "cell_type": "code",
   "execution_count": 12,
   "id": "fdd9cc4a",
   "metadata": {
    "ExecuteTime": {
     "end_time": "2024-07-02T12:41:51.188586Z",
     "start_time": "2024-07-02T12:41:51.175505Z"
    }
   },
   "outputs": [],
   "source": [
    "num_of_series = [0, 702, 602, 63, 288, 120, 59, 103, 116, 50, 193, 121, 65, 60, 53, 67, 49, 96, 48, 106, 200]\n",
    "num_of_series= np.cumsum(num_of_series)\n",
    "instance_reprs = np.load(r'D:\\Jupyter\\AD\\datasets-ad\\battery\\all_data_resample_8928\\ts2vec_256_reprs_global.npy')\n",
    "labels = np.load(r'D:\\Jupyter\\AD\\datasets-ad\\battery\\all_data_resample_8928\\all_data_labels.npy')\n",
    "# 区分出每个类别\n",
    "class_reprs = [reprs[num_of_series[i]:num_of_series[i+1]] for i in range(len(num_of_series)-1)]\n",
    "class_labels = [labels[num_of_series[i]:num_of_series[i+1]] for i in range(len(num_of_series)-1)]\n",
    "new_labels = []\n",
    "for i in range(len(class_labels)):\n",
    "    if (i+1) in [1, 2, 11, 13]:\n",
    "        new_labels.append(class_labels[i])\n",
    "    else:\n",
    "        new_labels.append(np.zeros(class_labels[i].shape[0]))\n",
    "new_labels = np.concatenate(new_labels, axis=0)"
   ]
  },
  {
   "cell_type": "code",
   "execution_count": 77,
   "id": "66114193",
   "metadata": {
    "ExecuteTime": {
     "end_time": "2024-07-02T13:21:14.961930Z",
     "start_time": "2024-07-02T13:17:39.085035Z"
    }
   },
   "outputs": [
    {
     "data": {
      "application/vnd.jupyter.widget-view+json": {
       "model_id": "67658823c86547209f80c65bc5ed140c",
       "version_major": 2,
       "version_minor": 0
      },
      "text/plain": [
       "  0%|          | 0/28 [00:00<?, ?it/s]"
      ]
     },
     "metadata": {},
     "output_type": "display_data"
    },
    {
     "name": "stdout",
     "output_type": "stream",
     "text": [
      "AUC-ROC:0.9524035921817222\n",
      "AUC-PR:0.256407764409751\n",
      "best p:28\n"
     ]
    }
   ],
   "source": [
    "use_pr_inne = True\n",
    "run_time = 10\n",
    "params = [i for i in range(2, 30)]\n",
    "# params = [i for i in range(9, 30)]\n",
    "\n",
    "best_roc, best_pr = 0, 0\n",
    "best_p = 2\n",
    "best_scores, best_rank = None, None\n",
    "for p in tqdm(params):\n",
    "    if p >= instance_reprs.shape[0]:\n",
    "        continue\n",
    "    args_inne = {'max_samples':p}\n",
    "    auc_roc_inne, auc_pr_inne, anomaly_scores, socres_rank = best_report(instance_reprs, new_labels, inne_func, args_inne\n",
    "                                                                         , run_time=run_time, use_pr=use_pr_inne)\n",
    "    if not use_pr_inne:\n",
    "        if auc_roc_inne > best_roc:\n",
    "            best_roc = auc_roc_inne\n",
    "            best_pr = auc_pr_inne\n",
    "            best_p = p\n",
    "            best_scores = anomaly_scores\n",
    "            best_rank = socres_rank\n",
    "    else:\n",
    "        if auc_pr_inne > best_pr:\n",
    "            best_roc = auc_roc_inne\n",
    "            best_pr = auc_pr_inne\n",
    "            best_p = p\n",
    "            best_scores = anomaly_scores\n",
    "            best_rank = socres_rank\n",
    "        \n",
    "print(f'AUC-ROC:{best_roc}')\n",
    "print(f'AUC-PR:{best_pr}')\n",
    "print(f'best p:{best_p}')"
   ]
  },
  {
   "cell_type": "code",
   "execution_count": null,
   "id": "db1b3843",
   "metadata": {
    "ExecuteTime": {
     "end_time": "2024-07-02T12:53:51.677460Z",
     "start_time": "2024-07-02T12:53:45.806401Z"
    }
   },
   "outputs": [],
   "source": [
    "reprs_2d = TSNE(perplexity=21, metric='cosine', n_iter=2000, init='pca').fit_transform(instance_reprs)\n",
    "# 区分出每个类别\n",
    "class_reprs = [reprs_2d[num_of_series[i]:num_of_series[i+1]] for i in range(len(num_of_series)-1)]\n",
    "class_labels = [np.full(each.shape[0], idx+1) for idx, each in enumerate(class_reprs)]"
   ]
  },
  {
   "cell_type": "code",
   "execution_count": 80,
   "id": "f4936d2f",
   "metadata": {
    "ExecuteTime": {
     "end_time": "2024-07-02T13:21:48.285156Z",
     "start_time": "2024-07-02T13:21:45.598162Z"
    }
   },
   "outputs": [
    {
     "data": {
      "image/png": "[encoded data removed]",
      "text/plain": [
       "<Figure size 1000x800 with 2 Axes>"
      ]
     },
     "metadata": {},
     "output_type": "display_data"
    }
   ],
   "source": [
    "anomaly_scores = (best_scores - best_scores.min()) / (best_scores.max() - best_scores.min())\n",
    "# anomaly_scores = best_scores\n",
    "plt.figure(figsize=(10, 8))\n",
    "plt.scatter(reprs_2d[:, 0], reprs_2d[:, 1], s=3, cmap=plt.get_cmap('Reds'), c=anomaly_scores)\n",
    "colorbar = plt.colorbar()\n",
    "colorbar.ax.tick_params(labelsize=15)\n",
    "plt.tick_params(labelsize=15)\n",
    "plt.savefig(f'./visualize/anomaly_score_distrubution_tsne_inne.png', dpi=1000)\n",
    "plt.show()"
   ]
  },
  {
   "cell_type": "code",
   "execution_count": null,
   "id": "c63e5c23",
   "metadata": {},
   "outputs": [],
   "source": []
  }
 ],
 "metadata": {
  "kernelspec": {
   "display_name": "deepod",
   "language": "python",
   "name": "deepod"
  },
  "language_info": {
   "codemirror_mode": {
    "name": "ipython",
    "version": 3
   },
   "file_extension": ".py",
   "mimetype": "text/x-python",
   "name": "python",
   "nbconvert_exporter": "python",
   "pygments_lexer": "ipython3",
   "version": "3.8.18"
  }
 },
 "nbformat": 4,
 "nbformat_minor": 5
}
