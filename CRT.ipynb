{
 "cells": [
  {
   "cell_type": "code",
   "execution_count": 8,
   "id": "22aa63ea",
   "metadata": {
    "ExecuteTime": {
     "end_time": "2024-03-18T10:01:26.834524Z",
     "start_time": "2024-03-18T10:01:26.439261Z"
    }
   },
   "outputs": [],
   "source": [
    "import torch\n",
    "from torch import nn\n",
    "from torch.nn import functional as F\n",
    "from pathlib import Path\n",
    "import numpy as np\n",
    "import pandas as pd\n",
    "import einops\n",
    "from scipy.io import loadmat\n",
    "from scipy.io.arff import loadarff\n",
    "from sklearn.preprocessing import StandardScaler\n",
    "import matplotlib.pyplot as plt"
   ]
  },
  {
   "cell_type": "code",
   "execution_count": 2,
   "id": "dce0a2a1",
   "metadata": {
    "ExecuteTime": {
     "end_time": "2024-03-18T09:56:10.776596Z",
     "start_time": "2024-03-18T09:56:10.774548Z"
    }
   },
   "outputs": [],
   "source": [
    "# base model"
   ]
  },
  {
   "cell_type": "code",
   "execution_count": 3,
   "id": "3f048af3",
   "metadata": {
    "ExecuteTime": {
     "end_time": "2024-03-18T09:56:10.865856Z",
     "start_time": "2024-03-18T09:56:10.776596Z"
    }
   },
   "outputs": [],
   "source": [
    "class ZeroPad1d(nn.Module):\n",
    "    '在最后一个维度上，左右进行padding，最后一个维度在TS中通常指Time维'\n",
    "    def __init__(self, left_pad, right_pad):\n",
    "        super().__init__()\n",
    "        self.left_pad = left_pad\n",
    "        self.right_pad = right_pad\n",
    "    def forward(self, x):\n",
    "        assert x.ndim == 3\n",
    "        return F.pad(x, (self.left_pad, self.right_pad))\n",
    "    \n",
    "def conv(in_planes, out_planes, stride=1, kernel_size=3):\n",
    "    \"convolution with padding 自动使用zeros进行padding\"\n",
    "    \"same input and output\"\n",
    "    return nn.Conv1d(in_planes, out_planes, kernel_size=kernel_size, stride=stride,\n",
    "                     padding=(kernel_size - 1) // 2, bias=False)\n",
    "\n",
    "class ZeroPad1d(nn.Module):\n",
    "    '在 time 维度上左右进行pad (B, C, T)'\n",
    "    def __init__(self, pad_left, pad_right):\n",
    "        super().__init__()\n",
    "        self.pad_left = pad_left\n",
    "        self.pad_right = pad_right\n",
    "\n",
    "    def forward(self, x):\n",
    "        assert x.ndim == 3\n",
    "        return F.pad(x, (self.pad_left, self.pad_right))\n",
    "\n",
    "\n",
    "class BasicBlock1d(nn.Module):\n",
    "    'Resnet14 和 Resnet18 的卷积模块'\n",
    "    expansion = 1\n",
    "\n",
    "    def __init__(self, inplanes, planes, stride=1, downsample=None):\n",
    "        super().__init__()\n",
    "\n",
    "        self.conv1 = conv(inplanes, planes, stride=stride, kernel_size=3)\n",
    "        self.bn1 = nn.BatchNorm1d(planes)\n",
    "        self.relu = nn.ReLU(inplace=True)\n",
    "\n",
    "        self.conv2 = conv(planes, planes, kernel_size=3)\n",
    "        self.bn2 = nn.BatchNorm1d(planes)\n",
    "\n",
    "        self.downsample = downsample\n",
    "        self.stride = stride\n",
    "\n",
    "    def forward(self, x):\n",
    "        residual = x\n",
    "\n",
    "        out = self.conv1(x)  # [b, c_in, t] -> [b, c_out, t]\n",
    "        out = self.bn1(out)\n",
    "        out = self.relu(out)\n",
    "\n",
    "        out = self.conv2(out)  # [b, c_out, t] -> [b, c_out, t]\n",
    "        out = self.bn2(out)\n",
    "\n",
    "        if self.downsample is not None:\n",
    "            residual = self.downsample(x)\n",
    "\n",
    "        out += residual\n",
    "        out = self.relu(out)  # 一个Relu两用\n",
    "\n",
    "        return out\n",
    "\n",
    "\n",
    "class Bottleneck1d(nn.Module):\n",
    "    \"\"\"Bottleneck for ResNet52 ...\"\"\"\n",
    "    'c_in -> 4*c_out'\n",
    "    expansion = 4\n",
    "\n",
    "    def __init__(self, inplanes, planes, stride=1, downsample=None):\n",
    "        super().__init__()\n",
    "        kernel_size = 3\n",
    "        self.conv1 = nn.Conv1d(inplanes, planes, kernel_size=1, bias=False)\n",
    "        self.bn1 = nn.BatchNorm1d(planes)\n",
    "        self.conv2 = nn.Conv1d(planes, planes, kernel_size=kernel_size, stride=stride,\n",
    "                               padding=(kernel_size - 1) // 2, bias=False)\n",
    "        self.bn2 = nn.BatchNorm1d(planes)\n",
    "        self.conv3 = nn.Conv1d(planes, planes * 4, kernel_size=1, bias=False)\n",
    "        self.bn3 = nn.BatchNorm1d(planes * 4)\n",
    "        self.relu = nn.ReLU(inplace=True)\n",
    "        self.downsample = downsample\n",
    "        self.stride = stride\n",
    "\n",
    "    def forward(self, x):\n",
    "        residual = x\n",
    "\n",
    "        out = self.conv1(x)\n",
    "        out = self.bn1(out)\n",
    "        out = self.relu(out)\n",
    "\n",
    "        out = self.conv2(out)\n",
    "        out = self.bn2(out)\n",
    "        out = self.relu(out)\n",
    "\n",
    "        out = self.conv3(out)\n",
    "        out = self.bn3(out)\n",
    "\n",
    "        if self.downsample is not None:\n",
    "            residual = self.downsample(x)\n",
    "\n",
    "        out += residual\n",
    "        out = self.relu(out)\n",
    "\n",
    "        return out\n",
    "\n",
    "class ResNet1d(nn.Module):\n",
    "    '''1d adaptation of the torchvision resnet'''\n",
    "\n",
    "    def __init__(self, block, layers, kernel_size=3, input_channels=2, inplanes=64,\n",
    "                 fix_feature_dim=False, kernel_size_stem=None, stride_stem=2, pooling_stem=True,\n",
    "                 stride=2, project=False, dim=500):\n",
    "        # layers = [2, 2, 2, 2]\n",
    "        # block = basicblock\n",
    "        super(ResNet1d, self).__init__()\n",
    "\n",
    "        self.inplanes = inplanes\n",
    "        self.project = project\n",
    "        layers_tmp = []\n",
    "        if kernel_size_stem is None:\n",
    "            kernel_size_stem = kernel_size[0] if isinstance(kernel_size, list) else kernel_size  # 3\n",
    "            # 初始kernel size\n",
    "\n",
    "        # conv-bn-relu (basic feature extraction)\n",
    "        # 初始卷积模块，将原始channel 映射到inplanes\n",
    "        layers_tmp.append(nn.Conv1d(input_channels, inplanes,\n",
    "                                    kernel_size=kernel_size_stem,\n",
    "                                    stride=stride_stem,\n",
    "                                    padding=(kernel_size_stem - 1) // 2, bias=False))\n",
    "        # [b, 2, 2000] -> [b, 64, 1000]\n",
    "        # kernel_size=3, stride=2, padding=1, 经过此轮卷积后，序列长度减半\n",
    "        layers_tmp.append(nn.BatchNorm1d(inplanes))\n",
    "        layers_tmp.append(nn.ReLU(inplace=True))\n",
    "\n",
    "\n",
    "        if pooling_stem is True:\n",
    "            layers_tmp.append(nn.MaxPool1d(kernel_size=3, stride=2, padding=1))\n",
    "            # 序列长度再减半\n",
    "        # [b, 64, 1000] -> [b, 64, 500]\n",
    "\n",
    "        for i, l in enumerate(layers):\n",
    "            if i == 0:\n",
    "                layers_tmp.append(self._make_block(block, inplanes, layers[0]))\n",
    "                # 两个64->64的block，无downsample，由sequential所包裹\n",
    "            else:\n",
    "                layers_tmp.append(\n",
    "                    self._make_block(block, inplanes if fix_feature_dim else (2 ** i) * inplanes, layers[i],\n",
    "                                     stride=stride))\n",
    "                # 依次返回64->128, 128->256, 256->512的带downsample的两个block组成的sequential，序列长度一共会经过5次压缩\n",
    "\n",
    "        self.feature_extractor = nn.Sequential(*layers_tmp)\n",
    "        if project:\n",
    "            self.maxpool = nn.AdaptiveMaxPool1d(1)\n",
    "            self.mlp = nn.Sequential(nn.Linear(self.inplanes, self.inplanes//2), nn.ReLU(inplace=True)\n",
    "                                , nn.BatchNorm1d(self.inplanes//2), nn.Linear(self.inplanes//2, dim))\n",
    "\n",
    "    def _make_block(self, block, planes, blocks, stride=1, kernel_size=3):\n",
    "        # 0: block=basicblock, planes=64, blocks=2, stride=1, expansion of basic block is 1\n",
    "        # layer 0 不会进行下采样，是 64->64的映射\n",
    "        down_sample = None\n",
    "\n",
    "        # 注定会进行下采样\n",
    "        if stride != 1 or self.inplanes != planes * block.expansion:\n",
    "            down_sample = nn.Sequential(\n",
    "                nn.Conv1d(self.inplanes, planes * block.expansion, kernel_size=1, stride=stride, bias=False),\n",
    "                nn.BatchNorm1d(planes * block.expansion),\n",
    "            )\n",
    "            # 下采样，序列长度减半\n",
    "\n",
    "        layers = []\n",
    "        layers.append(block(self.inplanes, planes, stride, down_sample))\n",
    "        self.inplanes = planes * block.expansion\n",
    "\n",
    "        for i in range(1, blocks):\n",
    "            layers.append(block(self.inplanes, planes))\n",
    "\n",
    "        return nn.Sequential(*layers)\n",
    "\n",
    "    def forward(self, x):\n",
    "        if x.ndim == 4:\n",
    "            x = x.squeeze(-1)\n",
    "        out =  self.feature_extractor(x)\n",
    "        if self.project:\n",
    "            out = self.maxpool(out).squeeze()\n",
    "            out = self.mlp(out)\n",
    "        return out\n",
    "    \n",
    "def resnet1d18(**kwargs): # [b, 2, 2000] -> [b, 512, 63], 压缩序列长度，提升特征\n",
    "    return ResNet1d(BasicBlock1d, [2, 2, 2, 2], **kwargs)\n",
    "\n",
    "class AdaptiveConcatPool1d(nn.Module):\n",
    "    \"Layer that concats `AdaptiveAvgPool1d` and `AdaptiveMaxPool1d`.\"\n",
    "\n",
    "    def __init__(self, sz=None):\n",
    "        \"Output will be 2*sz or 2 if sz is None\"\n",
    "        super().__init__()\n",
    "        sz = sz or 1\n",
    "        self.ap, self.mp = nn.AdaptiveAvgPool1d(sz), nn.AdaptiveMaxPool1d(sz)\n",
    "\n",
    "    def forward(self, x):\n",
    "        \"\"\"x is shaped of B, C, T\"\"\"\n",
    "        # [b,c,1] + [b, c, 1] + [b, c, 1] -> [b, 3c, 1]\n",
    "        return torch.cat([self.mp(x), self.ap(x), x[..., -1:]], 1)"
   ]
  },
  {
   "cell_type": "markdown",
   "id": "13c21827",
   "metadata": {},
   "source": [
    "# preprocessing"
   ]
  },
  {
   "cell_type": "code",
   "execution_count": 3,
   "id": "4dba6e22",
   "metadata": {
    "ExecuteTime": {
     "end_time": "2024-03-07T13:29:18.269503Z",
     "start_time": "2024-03-07T13:29:17.926150Z"
    }
   },
   "outputs": [],
   "source": [
    "import numpy as np\n",
    "import os\n",
    "import matplotlib.pyplot as plt"
   ]
  },
  {
   "cell_type": "code",
   "execution_count": 19,
   "id": "da992d9f",
   "metadata": {
    "ExecuteTime": {
     "end_time": "2024-03-18T10:21:16.924608Z",
     "start_time": "2024-03-18T10:21:16.920214Z"
    }
   },
   "outputs": [],
   "source": [
    "def plot_channels(data, sample_range):\n",
    "    for idx in sample_range:\n",
    "        sample = data[idx]\n",
    "        fig, pics = plt.subplots(1, 2, figsize=(8, 2))\n",
    "        for i in np.arange(2):\n",
    "            c_i = sample[i]\n",
    "            pics[i].plot(np.arange(c_i.shape[0]), c_i)\n",
    "        plt.tight_layout()\n",
    "        plt.show()\n",
    "        \n",
    "def plot_signal(data):\n",
    "    channels = data.shape[0]\n",
    "    fig, ax = plt.subplots(1, channels*3, figsize=(4, 2))\n",
    "    length = [0, 2000, 3000, 4000]\n",
    "    for i in range(channels):\n",
    "        if i == 0:\n",
    "            adds = 0\n",
    "        else:\n",
    "            adds = 2\n",
    "        for num in range(len(length)-1):\n",
    "            ax[i+adds].plot(np.arange(length[num+1]-length[num]), data[i][length[num]:length[num+1]])\n",
    "            adds += 1\n",
    "    plt.show()"
   ]
  },
  {
   "cell_type": "code",
   "execution_count": 28,
   "id": "b3d1480b",
   "metadata": {
    "ExecuteTime": {
     "end_time": "2024-03-08T02:10:37.598317Z",
     "start_time": "2024-03-08T02:10:37.594747Z"
    }
   },
   "outputs": [],
   "source": [
    "magnitude_path = r'D:\\Jupyter\\AD\\datasets-ad\\battery\\resample_dataset_norm\\magnitude.npy'\n",
    "phase_path = r'D:\\Jupyter\\AD\\datasets-ad\\battery\\resample_dataset_norm\\phase.npy'\n",
    "data_path = r'D:\\Jupyter\\AD\\datasets-ad\\battery\\resample_dataset_norm\\time_freq_data.npy'"
   ]
  },
  {
   "cell_type": "markdown",
   "id": "994b2aac",
   "metadata": {
    "ExecuteTime": {
     "end_time": "2024-03-08T02:49:35.878971Z",
     "start_time": "2024-03-08T02:49:35.829394Z"
    }
   },
   "source": [
    "# patchlize"
   ]
  },
  {
   "cell_type": "code",
   "execution_count": 143,
   "id": "3027856c",
   "metadata": {
    "ExecuteTime": {
     "end_time": "2024-03-08T05:27:43.483490Z",
     "start_time": "2024-03-08T05:27:43.479644Z"
    }
   },
   "outputs": [],
   "source": [
    "def to_patch(data, patch_length):\n",
    "    temp = einops.rearrange(data, 'b c (n p)->b n c p', p=patch_length)\n",
    "    return einops.rearrange(temp, 'b n c p->(b n) c p')\n",
    "\n",
    "def patch2seq(patch, batch):\n",
    "    mp = nn.AdaptiveMaxPool1d(1)\n",
    "    return einops.rearrange(mp(patch), '(b n) c 1->b n c', b=batch)"
   ]
  },
  {
   "cell_type": "markdown",
   "id": "b7a113a4",
   "metadata": {},
   "source": [
    "# Normalize"
   ]
  },
  {
   "cell_type": "code",
   "execution_count": 12,
   "id": "e81fb08e",
   "metadata": {
    "ExecuteTime": {
     "end_time": "2024-03-11T02:24:37.476496Z",
     "start_time": "2024-03-11T02:24:37.453012Z"
    }
   },
   "outputs": [],
   "source": [
    "def normalize(x, mode='dataset'):\n",
    "    'x.shape = [n, c, t]'\n",
    "    assert mode in ['dataset', 'series'], 'only support normalize through whole dataset or using zscore to each series'\n",
    "    if mode == 'dataset':\n",
    "        mean, var = [], []\n",
    "        for channel in range(x.shape[1]):\n",
    "            x_c = x[:, channel]\n",
    "            mean.append(x_c.mean())\n",
    "            var.append(x_c.var(ddof=1))\n",
    "        mean, var = np.array(mean).reshape(-1, 1), np.array(var).reshape(-1, 1)  # [c, 1]\n",
    "        x_norm = (x  - mean) / (var + 1e-8)**0.5\n",
    "    else:\n",
    "        mean = x.mean(axis=-1).reshape(x.shape[0], x.shape[1], 1)\n",
    "        var = x.var(axis=-1, ddof=1).reshape(x.shape[0], x.shape[1], 1)\n",
    "        x_norm = (x - mean) / (var + 1e-8) **0.5\n",
    "    return x_norm\n",
    "\n",
    "def read_ts(cols=2, root=r'D:\\Jupyter\\AD\\datasets-ad\\battery\\resample', normalize=False, channel_first=True):\n",
    "    root = Path(root)\n",
    "    assert root.is_dir() and root.exists()\n",
    "    assert cols in [1, 2]\n",
    "    data = []\n",
    "    index = []\n",
    "    for f in root.iterdir():\n",
    "        if f.is_file and f.suffix == '.txt':\n",
    "            use_col = 1 if cols == 2 else 2\n",
    "            d = pd.read_csv(f, sep='\\t').iloc[:, use_col:].values\n",
    "            data.append(d)\n",
    "            index.append(int(f.stem))\n",
    "    zips = [(d, i) for d, i in zip(data, index)]\n",
    "    zips.sort(key=lambda x:x[1])\n",
    "    data = np.concatenate([d.reshape(1, d.shape[0], d.shape[1]) for d, _ in zips])\n",
    "    data =  normalize(data, 'series') if normalize else data\n",
    "    return np.transpose(data, (0, 2, 1)) if channel_first else data"
   ]
  },
  {
   "cell_type": "code",
   "execution_count": 4,
   "id": "085b67ed",
   "metadata": {
    "ExecuteTime": {
     "end_time": "2024-03-10T13:04:23.475971Z",
     "start_time": "2024-03-10T13:04:13.065157Z"
    }
   },
   "outputs": [],
   "source": [
    "data = read_ts()"
   ]
  },
  {
   "cell_type": "code",
   "execution_count": 11,
   "id": "b98fb417",
   "metadata": {
    "ExecuteTime": {
     "end_time": "2024-03-10T13:06:19.292451Z",
     "start_time": "2024-03-10T13:06:18.076820Z"
    }
   },
   "outputs": [],
   "source": [
    "norm_data = normalize(data, 'series')"
   ]
  },
  {
   "cell_type": "code",
   "execution_count": 8,
   "id": "aebb4232",
   "metadata": {
    "ExecuteTime": {
     "end_time": "2024-03-10T13:04:52.373877Z",
     "start_time": "2024-03-10T13:04:52.370556Z"
    }
   },
   "outputs": [],
   "source": [
    "path1 = Path(r'D:\\Jupyter\\AD\\datasets-ad\\battery\\resample_dataset_norm')\n",
    "path2 = Path(r'D:\\Jupyter\\AD\\datasets-ad\\battery\\resample_norm')\n",
    "path1.mkdir(exist_ok=True)\n",
    "path2.mkdir(exist_ok=True)"
   ]
  },
  {
   "cell_type": "code",
   "execution_count": 12,
   "id": "74ed81f0",
   "metadata": {
    "ExecuteTime": {
     "end_time": "2024-03-10T13:06:53.888459Z",
     "start_time": "2024-03-10T13:06:19.914961Z"
    }
   },
   "outputs": [],
   "source": [
    "for i, each in enumerate(norm_data):\n",
    "    file = pd.DataFrame({'I':each[0], 'V':each[1]})\n",
    "    file.to_csv(path2/f'{i+1}.txt')\n",
    "np.save(path2/'series_norm_data.npy', norm_data)"
   ]
  },
  {
   "cell_type": "code",
   "execution_count": 4,
   "id": "f95ed1ec",
   "metadata": {
    "ExecuteTime": {
     "end_time": "2024-03-18T09:56:16.958176Z",
     "start_time": "2024-03-18T09:56:16.666035Z"
    }
   },
   "outputs": [],
   "source": [
    "data = np.load(r'D:\\Jupyter\\AD\\datasets-ad\\battery\\resample_dataset_norm\\time_freq_data_dataset_norm.npy')"
   ]
  },
  {
   "cell_type": "code",
   "execution_count": 22,
   "id": "bdeff887",
   "metadata": {
    "ExecuteTime": {
     "end_time": "2024-03-18T10:21:49.576887Z",
     "start_time": "2024-03-18T10:21:49.573450Z"
    }
   },
   "outputs": [],
   "source": [
    "data = data[:, 1:]"
   ]
  },
  {
   "cell_type": "code",
   "execution_count": 24,
   "id": "5eace48b",
   "metadata": {
    "ExecuteTime": {
     "end_time": "2024-03-18T10:21:57.620172Z",
     "start_time": "2024-03-18T10:21:57.525009Z"
    }
   },
   "outputs": [
    {
     "data": {
      "image/png": "[encoded data removed]",
      "text/plain": [
       "<Figure size 400x200 with 3 Axes>"
      ]
     },
     "metadata": {},
     "output_type": "display_data"
    }
   ],
   "source": [
    "plot_signal(data[100])"
   ]
  },
  {
   "cell_type": "code",
   "execution_count": null,
   "id": "3d925348",
   "metadata": {},
   "outputs": [],
   "source": []
  }
 ],
 "metadata": {
  "kernelspec": {
   "display_name": "deep",
   "language": "python",
   "name": "pytorch"
  },
  "language_info": {
   "codemirror_mode": {
    "name": "ipython",
    "version": 3
   },
   "file_extension": ".py",
   "mimetype": "text/x-python",
   "name": "python",
   "nbconvert_exporter": "python",
   "pygments_lexer": "ipython3",
   "version": "3.11.4"
  }
 },
 "nbformat": 4,
 "nbformat_minor": 5
}
