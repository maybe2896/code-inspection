{
 "cells": [
  {
   "cell_type": "code",
   "execution_count": 1,
   "id": "bc1c077a",
   "metadata": {
    "ExecuteTime": {
     "end_time": "2024-04-07T12:44:43.894990Z",
     "start_time": "2024-04-07T12:44:40.778847Z"
    }
   },
   "outputs": [],
   "source": [
    "import os\n",
    "import pathlib\n",
    "import torch\n",
    "import numpy as np\n",
    "from torch.nn import functional as F\n",
    "from torch import nn\n",
    "import logging\n",
    "import datetime\n",
    "import sys\n",
    "import visdom"
   ]
  },
  {
   "cell_type": "code",
   "execution_count": 34,
   "id": "f87c9b47",
   "metadata": {
    "ExecuteTime": {
     "end_time": "2024-03-27T08:20:48.994992Z",
     "start_time": "2024-03-27T08:20:48.989706Z"
    }
   },
   "outputs": [],
   "source": [
    "def get_positive_and_negative_mask(similarity_matrix, cur_batch_size, positive_nums=3):\n",
    "    '''\n",
    "    similarity_matrix:当前batch内所有样本的表示之间的相似度矩阵，shape=[b*b]，与mask序列无关, 32*32\n",
    "    cur_batch_size: 当前batch内所包含的样本数，绝对样本数，与mask序列的个数无关, 32\n",
    "    '''\n",
    "    diag = np.eye(cur_batch_size)\n",
    "    mask = torch.from_numpy(diag)\n",
    "    mask = mask.type(torch.bool)  # 单位阵，用于mask掉序列自身与自身的相似度\n",
    "\n",
    "    oral_batch_size = cur_batch_size // (positive_nums + 1)   # 32//4 = 8\n",
    "\n",
    "    positives_mask = np.zeros(similarity_matrix.size())  # 32*32的全0矩阵\n",
    "    for i in range(positive_nums + 1):  # 0 1 2 3\n",
    "        # k用于控制1的位置，k为正整数，则1的位置向右上对角处移动k个单位，反之则向左下角移动k个单位\n",
    "        ll = np.eye(cur_batch_size, cur_batch_size, k=oral_batch_size * i)\n",
    "        lr = np.eye(cur_batch_size, cur_batch_size, k=-oral_batch_size * i)\n",
    "        positives_mask += ll\n",
    "        positives_mask += lr\n",
    "    # 中对角线为2，右上和左下的第8， 16， 24的对角线位置为1\n",
    "\n",
    "    positives_mask = torch.from_numpy(positives_mask).to(similarity_matrix.device)\n",
    "    positives_mask[mask] = 0  # 对角线置为0， 右上和左下的第8， 16， 24的对角线位置为1\n",
    "\n",
    "    negatives_mask = 1 - positives_mask  # 右上和左下的第8， 16， 24的对角线位置为0，其余位置为1\n",
    "    negatives_mask[mask] = 0  # 对角线位置置0\n",
    "\n",
    "    return positives_mask.type(torch.bool), negatives_mask.type(torch.bool)"
   ]
  },
  {
   "cell_type": "markdown",
   "id": "55c40ba3",
   "metadata": {},
   "source": [
    "# Mask-使用状态转换机制进行mask，不针对time，针对ravel后的每个feature"
   ]
  },
  {
   "cell_type": "code",
   "execution_count": 90,
   "id": "5ffee558",
   "metadata": {
    "ExecuteTime": {
     "end_time": "2024-03-29T06:40:07.303551Z",
     "start_time": "2024-03-29T06:40:07.299622Z"
    }
   },
   "outputs": [],
   "source": [
    "def geom_noise_mask_single(L, lm, masking_ratio):\n",
    "    \"\"\"\n",
    "    Randomly create a boolean mask of length `L`, consisting of subsequences of average length lm, masking with 0s a `masking_ratio`\n",
    "    proportion of the sequence L. The length of masking subsequences and intervals follow a geometric distribution.\n",
    "    Args:\n",
    "        L: length of mask and sequence to be masked\n",
    "        lm: average length of masking subsequences (streaks of 0s)\n",
    "        masking_ratio: proportion of L to be masked\n",
    "    Returns:\n",
    "        (L,) boolean numpy array intended to mask ('drop') with 0s a sequence of length L\n",
    "    \"\"\"\n",
    "    # 并不是mask每个timestep而是mask每个timestep的每个特征，因此可以更好的保留\n",
    "    keep_mask = np.ones(L, dtype=int)\n",
    "    # mask ratio: 0.5 -> p_m=1/3, p_u=1/3\n",
    "    # mask ratio: 0.25 -> p_m=1/3, p_u=1/9\n",
    "    # mask ratio: 0.75 -> p_m=1/3, p_u=1  被mask的概率最大，每个mask序列之间仅间隔1个unmask的位置\n",
    "    # lm: 每次产生的连续的mask序列的平均长度\n",
    "    p_m = 1 / lm  # probability of each masking sequence stopping. parameter of geometric distribution.\n",
    "    p_u = p_m * masking_ratio / (\n",
    "            1 - masking_ratio)  # probability of each unmasked sequence stopping. parameter of geometric distribution.\n",
    "    p = [p_m, p_u]\n",
    "\n",
    "    # Start in state 0 with masking_ratio probability\n",
    "    state = int(np.random.rand() > masking_ratio)  # state 0 means masking, 1 means not masking\n",
    "    for i in range(L):\n",
    "        keep_mask[i] = state  # here it happens that state and masking value corresponding to state are identical\n",
    "        if np.random.rand() < p[state]:\n",
    "            state = 1 - state\n",
    "\n",
    "    return keep_mask"
   ]
  },
  {
   "cell_type": "markdown",
   "id": "e1329d6f",
   "metadata": {},
   "source": [
    "# FuncTest"
   ]
  },
  {
   "cell_type": "code",
   "execution_count": 2,
   "id": "45f86eb7",
   "metadata": {
    "ExecuteTime": {
     "end_time": "2024-04-07T13:28:59.312204Z",
     "start_time": "2024-04-07T13:28:59.287339Z"
    }
   },
   "outputs": [
    {
     "data": {
      "text/plain": [
       "tensor([[ 0.0059, -0.3411, -0.5214,  1.9569,  0.3225],\n",
       "        [-0.9424, -0.0469,  0.5886,  0.7259, -1.1834]])"
      ]
     },
     "execution_count": 2,
     "metadata": {},
     "output_type": "execute_result"
    }
   ],
   "source": [
    "torch.randn(2, 5)"
   ]
  },
  {
   "cell_type": "code",
   "execution_count": null,
   "id": "f35ce73c",
   "metadata": {},
   "outputs": [],
   "source": []
  }
 ],
 "metadata": {
  "kernelspec": {
   "display_name": "deep",
   "language": "python",
   "name": "pytorch"
  },
  "language_info": {
   "codemirror_mode": {
    "name": "ipython",
    "version": 3
   },
   "file_extension": ".py",
   "mimetype": "text/x-python",
   "name": "python",
   "nbconvert_exporter": "python",
   "pygments_lexer": "ipython3",
   "version": "3.11.4"
  }
 },
 "nbformat": 4,
 "nbformat_minor": 5
}
