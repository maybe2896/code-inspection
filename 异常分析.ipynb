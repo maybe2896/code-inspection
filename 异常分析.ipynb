{
 "cells": [
  {
   "cell_type": "code",
   "execution_count": 1,
   "id": "166ed8bc",
   "metadata": {
    "ExecuteTime": {
     "end_time": "2024-08-09T07:10:49.192474Z",
     "start_time": "2024-08-09T07:10:45.658567Z"
    }
   },
   "outputs": [],
   "source": [
    "import pandas as pd\n",
    "import numpy as np\n",
    "from sklearn.manifold import TSNE\n",
    "from sklearn.decomposition import PCA\n",
    "from sklearn.metrics import roc_curve, precision_recall_curve, auc\n",
    "from sklearn.metrics.pairwise import euclidean_distances, cosine_distances\n",
    "from sklearn.neighbors import KNeighborsClassifier\n",
    "import joblib\n",
    "import matplotlib.pyplot as plt\n",
    "import matplotlib as mpl\n",
    "from matplotlib import cm\n",
    "from pathlib import Path\n",
    "from scipy.io import loadmat\n",
    "from datetime import datetime\n",
    "import torch\n",
    "import seaborn as sns\n",
    "import os\n",
    "import shutil"
   ]
  },
  {
   "cell_type": "code",
   "execution_count": 2,
   "id": "fbd79d7a",
   "metadata": {
    "ExecuteTime": {
     "end_time": "2024-08-09T07:10:49.197310Z",
     "start_time": "2024-08-09T07:10:49.193718Z"
    }
   },
   "outputs": [],
   "source": [
    "filtered_files = '8835-8844,8865,886,892,893,8589-8598,8700,8724,8729,894,896,907,909,8614,8644,8690,8679,1234-1240,1257-1264,\\\n",
    "1274,1254,1256,1272,1273,1701-1708,1706,1707'\n",
    "c1 = '1-48,102-242,653-673,690-711,1709-2018,2364-3308,6534-6713,6884-7038,7784-7888,961-1046,1411-1455'\n",
    "c2 = '49-101,243-263,314-381,452-500,2019-2363,3309-3508,3864-4408,4944-5333,917-960,1456-1500,7889-8018'\n",
    "c3 = '289-313,3674-3863'\n",
    "c4 = '264-288,382-424,526-566,3509-3673,4409-4768,5504-5873'\n",
    "c5 = '425-451,567-588,4769-4943,5874-6053'\n",
    "c6 = '501-525,5334-5503'\n",
    "c7 = '589-628,6054-6368'\n",
    "c8 = '629-652,802-822,6369-6533,8019-8208'\n",
    "c9 = '674-689,6714-6883'\n",
    "c10 = '712-738,861-885,1363-1410,7039-7213,7484-7598,8394-8568'\n",
    "c11 = '739-759,1317-1362,7214-7483'\n",
    "c12 = '760-778,8744-8834,8845-8983'\n",
    "c13 = '779-801,7599-7783'\n",
    "c14 = '823-838,8209-8393'\n",
    "c15 = '839-860,8984-9208'  # 有待剔除的2个异常\n",
    "c16 = '887-891,895,897-906,908,910-914,916,8569-8588,8599-8613,8619,8624-8643,8645-8670,8680-8689,8695,8705-8723,8734-8743'\n",
    "c17 = '1047-1142'\n",
    "c18 = '1143-1190'\n",
    "c19 = '1191-1233,1241-1253,1255,1265-1271,1275-1316'\n",
    "c20 = '1501-1700'  # 需要重新指定采样频率 or 单独处理  232s的采样频率后，长度为8938\n",
    "# 标准长度：8928\n",
    "freqs = ['5min']*19 + ['232s']\n",
    "classes_str = [c1, c2, c3, c4, c5, c6, c7, c8, c9, c10, c11, c12, c13, c14, c15, c16, c17, c18, c19, c20]"
   ]
  },
  {
   "cell_type": "code",
   "execution_count": 3,
   "id": "3fb30755",
   "metadata": {
    "ExecuteTime": {
     "end_time": "2024-08-09T07:10:49.324923Z",
     "start_time": "2024-08-09T07:10:49.198399Z"
    }
   },
   "outputs": [],
   "source": [
    "# 字符串分割函数，提取每一类的文件号, int类型\n",
    "def str2class(class_str):\n",
    "    file_segments = class_str.split(',')\n",
    "    class_files = []\n",
    "    for segment in file_segments:\n",
    "        if '-' in segment:\n",
    "            befor, after = segment.split('-')\n",
    "            list_segment = np.arange(int(befor), int(after)+1).tolist()\n",
    "            class_files.extend(list_segment)\n",
    "        else:\n",
    "            class_files.append(int(segment))\n",
    "    return class_files\n",
    "\n",
    "# 重采样和长度统一函数\n",
    "def resample_uniform(file_no, labels, low_bound=8000, length=8928, freq='5min', origin_data=r'D:\\Jupyter\\AD\\datasets-ad\\battery\\data', channel_first=True):\n",
    "    '''\n",
    "    input: 文件号\n",
    "    output: 统一长度之后的时间序列,shape=[length, channels], np.ndarray\n",
    "    函数作用: 读取文件，重采样，统一长度并返回重采样的序列和对应的标签\n",
    "    '''\n",
    "    file_path = Path(origin_data) / f'{file_no}.txt'\n",
    "    data = pd.read_csv(file_path, sep='\\t', header=None)\n",
    "    timestamps, values = data.iloc[:, 0].values, data.iloc[:, 1:].values\n",
    "    timestamps = np.vectorize(datetime.fromtimestamp)(timestamps)\n",
    "    data = pd.DataFrame(values, index=pd.DatetimeIndex(timestamps))\n",
    "    data = data.resample(freq).mean().ffill().values\n",
    "    time = data.shape[0]\n",
    "    if time <= low_bound:\n",
    "        return None\n",
    "    else:\n",
    "        if time < length:\n",
    "            delta = np.zeros((length-time, data.shape[1]))\n",
    "            delta[:] = data[0]\n",
    "            data = np.concatenate([delta, data], axis=0)\n",
    "        elif time > length:\n",
    "            data = data[:length, :]\n",
    "        label = int(labels[file_no-1])\n",
    "        if channel_first:\n",
    "            return data.T, label, file_no\n",
    "        else:\n",
    "            return data, label, file_no\n",
    "    \n",
    "def class_resample(class_str, labels, low_bound=8000, freq='5min', length=8928, channel_first=True):\n",
    "    '''\n",
    "    class_str: 记录一类文件的字符串\n",
    "    函数作用：将字符串内包含的文件重采样到指定长度后，返回一个类的数据和标签，返回shape为[n_samples, c, time]\n",
    "    '''\n",
    "    class_files = str2class(class_str)\n",
    "    class_data = []\n",
    "    class_labels = []\n",
    "    file_nos = []\n",
    "    for f in class_files:\n",
    "        infos = resample_uniform(f, labels, length=length, freq=freq, channel_first=channel_first, low_bound=low_bound)\n",
    "        if infos is not None:\n",
    "            data, label, file_no = infos\n",
    "            class_data.append(data)\n",
    "            class_labels.append(label)\n",
    "            file_nos.append(file_no)\n",
    "    class_data = np.stack(class_data)\n",
    "    return class_data, class_labels, file_nos\n",
    "\n",
    "def normalize(x, mode='dataset'):\n",
    "    'x.shape = [n, c, t]'\n",
    "    assert mode in ['dataset', 'series'], 'only support normalize through whole dataset or using zscore to each series'\n",
    "    if mode == 'dataset':\n",
    "        mean, var = [], []\n",
    "        for channel in range(x.shape[1]):\n",
    "            x_c = x[:, channel]\n",
    "            mean.append(x_c.mean())\n",
    "            var.append(x_c.var(ddof=1))\n",
    "        mean, var = np.array(mean).reshape(-1, 1), np.array(var).reshape(-1, 1)  # [c, 1]\n",
    "        x_norm = (x  - mean) / (var + 1e-8)**0.5\n",
    "    else:\n",
    "        mean = x.mean(axis=-1).reshape(x.shape[0], x.shape[1], 1)\n",
    "        var = x.var(axis=-1, ddof=1).reshape(x.shape[0], x.shape[1], 1)\n",
    "        x_norm = (x - mean) / (var + 1e-8) **0.5\n",
    "    return x_norm\n",
    "\n",
    "def normalize_save(classes_strs, labels, freqs, length=8928, channel_first=True, save_dir=r'D:\\Jupyter\\AD\\datasets-ad\\battery', to_txt=False):\n",
    "    # class normalize save\n",
    "    # 一步到位的函数\n",
    "    '''\n",
    "    classes_strs: 记录一类中所包含的文件号的字符串列表\n",
    "    freqs: 记录每个类的采样频率的列表\n",
    "    函数作用: 创建两个文件夹，一个存储所有数据重采样后和全数据标准化的结果，另一个存储每个类重采样和类内标准化的结果，返回所有样本的个数\n",
    "    '''\n",
    "    all_data_dir = Path(save_dir) / f'all_data_resample_{length}'\n",
    "    class_data_dir = Path(save_dir) / f'class_resample_{length}'\n",
    "    class_data_dir.mkdir(exist_ok=True)\n",
    "    all_data_dir.mkdir(exist_ok=True)\n",
    "    all_data_origin = all_data_dir / 'origin_resample.npy'\n",
    "    all_data_norm = all_data_dir / 'resample_datasetnorm.npy'\n",
    "    all_data_labels = all_data_dir / 'all_data_labels.npy'\n",
    "    all_data = []\n",
    "    all_labels = []\n",
    "    for idx, (c, freq) in enumerate(zip(classes_strs, freqs)):\n",
    "        c_folder = class_data_dir / f'class_{idx+1}'\n",
    "        c_folder.mkdir(exist_ok=True)\n",
    "        c_dir = c_folder / 'origin_resample.npy'\n",
    "        c_norm_dir = c_folder / 'resample_classnorm.npy'\n",
    "        c_labels_dir = c_folder / 'class_labels.npy'\n",
    "        c_data, c_labels, file_nos = class_resample(c, labels, freq=freq, length=length, channel_first=channel_first)\n",
    "        np.save(c_dir, c_data)\n",
    "        np.save(c_norm_dir, normalize(c_data))\n",
    "        np.save(c_labels_dir, c_labels)\n",
    "        all_data.append(c_data)\n",
    "        all_labels.append(c_labels)\n",
    "        if to_txt:\n",
    "            class_txt_dir = c_folder / 'txt'\n",
    "            class_txt_dir.mkdir(exist_ok=True)\n",
    "            for idx, d in enumerate(c_data):\n",
    "                dataframe = pd.DataFrame(d)\n",
    "                dataframe.to_csv(class_txt_dir/f'{idx+1}.txt', sep='\\t')\n",
    "    all_data = np.concatenate(all_data, axis=0)\n",
    "    all_labels = np.concatenate(all_labels, axis=0)\n",
    "    normalized_data = normalize(all_data)\n",
    "    np.save(all_data_origin, all_data)\n",
    "    np.save(all_data_norm, normalized_data)\n",
    "    np.save(all_data_labels, all_labels)\n",
    "    if to_txt:\n",
    "        data_txt_dir = all_data_dir / 'norm_txt'\n",
    "        data_txt_dir.mkdir(exist_ok=True)\n",
    "        for idx, d in enumerate(normalized_data):\n",
    "            dataframe = pd.DataFrame(d)\n",
    "            dataframe.to_csv(data_txt_dir/f'{idx+1}.txt', sep='\\t')\n",
    "    return all_data.shape[0]\n",
    "\n",
    "def class_plot(class_str, labels, freq='5min', figsize=(10, 4), one_pic=False, save=False, no=1\n",
    "              , anomaly_scores=None, anomaly_ranks=None):\n",
    "    '''\n",
    "    函数作用：给出一个类内文件说明字符串和标签，可以绘制出一个类内序列\n",
    "    class_str: 说明类内文件的字符串\n",
    "    labels: 全数据的标签\n",
    "    freq:采样间隔\n",
    "    one_pic: 是否绘制在一张图中\n",
    "    no: 类编号\n",
    "    '''\n",
    "    if anomaly_ranks is not None and (not isinstance(anomaly_ranks, list)):\n",
    "        anomaly_ranks = list(anomaly_ranks)\n",
    "    class_data, class_labels, file_nos = class_resample(class_str, labels, freq=freq)\n",
    "    if not one_pic:\n",
    "        for idx, (d, label,file_no) in enumerate(zip(class_data, class_labels, file_nos)):\n",
    "            c = 'b'\n",
    "            if label == 1:\n",
    "                c = 'r'\n",
    "            fig, pics = plt.subplots(1, 2, figsize=figsize)\n",
    "            for i in range(2):\n",
    "                pics[i].plot(range(1, d.shape[1]+1), d[i], c=c)\n",
    "                if i == 0:\n",
    "                    if anomaly_scores is None:\n",
    "                        pics[i].set_title(f'mean={d[i].mean():.4f}, length={d.shape[1]}, file:{file_no}')\n",
    "                    else:\n",
    "                        pics[i].set_title(f'mean={d[i].mean():.4f}, score={anomaly_scores[idx]:.4f}, file:{file_no}')\n",
    "                else:\n",
    "                    if anomaly_ranks is None:\n",
    "                        pics[i].set_title(f'mean={d[i].mean():.4f}')\n",
    "                    else:\n",
    "                        pics[i].set_title(f'mean={d[i].mean():.4f}, rank={anomaly_ranks.index(idx+1)+1}')\n",
    "            plt.tight_layout()\n",
    "            plt.show()\n",
    "    else:\n",
    "        fig, pics = plt.subplots(1, 2, figsize=figsize)\n",
    "        for d, label in zip(class_data, class_labels):\n",
    "            c, zorder, alpha = 'b', 1, 0.5\n",
    "            if label == 1:\n",
    "                c, zorder, alpha = 'r', 2, 1\n",
    "            for i in range(2):\n",
    "                pics[i].plot(range(1, d.shape[1]+1), d[i], c=c, zorder=zorder, alpha=alpha)\n",
    "                pics[i].tick_params(labelsize=12)\n",
    "        plt.tight_layout()\n",
    "        if save:\n",
    "            save_dir = Path(r'./class_polt')\n",
    "            save_dir.mkdir(exist_ok=True)\n",
    "            class_dir = save_dir / f'class_{no}.png'\n",
    "            plt.savefig(class_dir, dpi=1000)\n",
    "        plt.show()\n",
    "    return class_data.shape[0]"
   ]
  },
  {
   "cell_type": "code",
   "execution_count": 4,
   "id": "34a6b81b",
   "metadata": {
    "ExecuteTime": {
     "end_time": "2024-08-09T07:10:49.348682Z",
     "start_time": "2024-08-09T07:10:49.326138Z"
    }
   },
   "outputs": [],
   "source": [
    "def read_origin(file, origin_data=r'D:\\Jupyter\\AD\\datasets-ad\\battery\\data', channel_first=True, resample=False):\n",
    "    '''\n",
    "    file: 文件号\n",
    "    函数作用: 读取文件，并返回时间轴的采样频率信息以及采样的起始和终止时间\n",
    "    '''\n",
    "    file_path = Path(origin_data) / f'{file}.txt'\n",
    "    data = pd.read_csv(file_path, sep='\\t', header=None)\n",
    "    value, timestamp = data.iloc[:, 1:].values, np.vectorize(datetime.fromtimestamp)(data.iloc[:, 0].values)\n",
    "    frequency = timestamp[1:] - timestamp[:-1]\n",
    "    frequency = [i.total_seconds()//60 for i in frequency]\n",
    "    if channel_first:\n",
    "        value = value.T\n",
    "    if not resample:\n",
    "        return (timestamp[0], timestamp[-1]), (int(min(frequency)), int(max(frequency))), value\n",
    "    else:\n",
    "        if channel_first:\n",
    "            data = pd.DataFrame(value.T, index=pd.DatetimeIndex(timestamp))\n",
    "        else:\n",
    "            data = pd.DataFrame(value, index=pd.DatetimeIndex(timestamp))\n",
    "        return (timestamp[0], timestamp[-1]), (int(min(frequency)), int(max(frequency))), data\n",
    "    \n",
    "def resample_save(interval, root=r'D:\\Jupyter\\AD\\datasets-ad\\battery', length=2000, local=10):\n",
    "    data_root = Path(root) / 'data'\n",
    "    target_root = (Path(root) / 'resample_test')\n",
    "    target_root.mkdir(exist_ok=True)\n",
    "    files = sorted([int(f.stem) for f in data_root.iterdir() if f.suffix == '.txt'])\n",
    "    for i, f in enumerate(files):\n",
    "        if interval[0] <= int(f.stem) <interval[1]:\n",
    "            path = data_root / f'{f}.txt'\n",
    "            d = pd.read_csv(path, sep='\\t', header=None).iloc[:, 1:].values\n",
    "            sampled_d = resample(d, length, local)\n",
    "            d = pd.DataFrame(sampled_d)\n",
    "            d.to_csv(target_root / f'{f}.txt')\n",
    "            \n",
    "def resample(signal, length, local=10, retmode=False, keep_local_extrem=None):\n",
    "    keep_local_extrem = int(0.1*length) if keep_local_extrem is None else keep_local_extrem\n",
    "    signal = np.array(signal)\n",
    "    n = signal.shape[0]\n",
    "    if n == length:\n",
    "        if retmode:\n",
    "            return (signal, 'hold')\n",
    "        else:\n",
    "            return signal\n",
    "    mode = 'down' if signal.shape[0] > length else 'up'\n",
    "    if mode == 'down':\n",
    "        index = np.floor(np.linspace(0, signal.shape[0] - 1, length)).astype(np.int32)\n",
    "        res = np.take(signal, index, axis=0)\n",
    "        # 局部极值\n",
    "        loc_extrem = [(np.abs(point - signal[:, 1][i:i + local].mean()) + np.abs(\n",
    "            point - signal[:, 1][i + local:i + 2 * local].mean())) / 2\n",
    "                      for i, point in enumerate(signal[:, 1][local:-local])]\n",
    "        extrem_ind = np.argsort(np.array(loc_extrem))[-keep_local_extrem:] + local\n",
    "        ind = np.floor(length * (extrem_ind / signal.shape[0])).astype(np.int32)\n",
    "        res[ind] = signal[extrem_ind]\n",
    "    else:\n",
    "        if signal.ndim == 1:\n",
    "            shape = length\n",
    "        else:\n",
    "            shape = (length, signal.shape[1])\n",
    "        res = np.full(shape, np.inf)\n",
    "        pos = np.floor(np.linspace(0, length - 1, n)).astype(np.int32)  # 选出均匀的原信号索引\n",
    "        ind = 0\n",
    "        for i in range(length):\n",
    "            if i in pos:  # 有n个原位置\n",
    "                res[i] = signal[ind]\n",
    "                ind += 1\n",
    "            else:  # length - n 个待填充位置\n",
    "                res[i] = res[i - 1]\n",
    "    if retmode:\n",
    "        return res, mode\n",
    "    else:\n",
    "        return res\n",
    "\n",
    "def read_ts(cols=2, root=r'D:\\Jupyter\\AD\\datasets-ad\\battery\\resample', normalize=False, channel_first=True, sep='\\t'):\n",
    "    def normalize(x, mode='dataset'):\n",
    "        # x.shape = [n, c, t]\n",
    "        assert mode in ['dataset', 'series'], 'only support normalize through whole dataset or using zscore to each series'\n",
    "        if mode == 'dataset':\n",
    "            mean, var = [], []\n",
    "            for channel in range(x.shape[1]):\n",
    "                x_c = x[:, channel]\n",
    "                mean.append(x_c.mean())\n",
    "                var.append(x_c.var(ddof=1))\n",
    "            mean, var = np.array(mean).reshape(-1, 1), np.array(var).reshape(-1, 1)  # [c, 1]\n",
    "            x_norm = (x  - mean) / (var + 1e-8)**0.5\n",
    "        else:\n",
    "            mean = x.mean(axis=-1).reshape(x.shape[0], x.shape[1], 1)\n",
    "            var = x.var(axis=-1, ddof=1).reshape(x.shape[0], x.shape[1], 1)\n",
    "            x_norm = (x - mean) / (var + 1e-8) **0.5\n",
    "        return x_norm\n",
    "\n",
    "    root = Path(root)\n",
    "    assert root.is_dir() and root.exists()\n",
    "    assert cols in [1, 2]\n",
    "    data = []\n",
    "    index = []\n",
    "    for f in root.iterdir():\n",
    "        if f.is_file and f.suffix == '.txt' and len(f.stem) < 5:\n",
    "            use_col = 1 if cols == 2 else 2\n",
    "            d = pd.read_csv(f, sep=sep).iloc[:, use_col:].values\n",
    "            d = d if not channel_first else d.T\n",
    "            data.append(d)\n",
    "            index.append(int(f.stem))\n",
    "    zips = [(d, i) for d, i in zip(data, index)]\n",
    "    zips.sort(key=lambda x:x[1])\n",
    "    data = np.concatenate([d.reshape(1, d.shape[0], d.shape[1]) for d, _ in zips])\n",
    "    return normalize(data) if normalize else data\n",
    "\n",
    "def plot_signal_resample(files, anomaly_files, low_bound=8000, anomaly_scores=None, batch_in_one=False, anomaly_scores_rank=None, resample=True, resample_freq='5min'):\n",
    "    # files 就是原本的文件号列表, 从1开始\n",
    "    # specific 是指定的文件号，也是原始文件号\n",
    "    for f in files:\n",
    "        c = 'b'\n",
    "        if f in anomaly_files:\n",
    "            c = 'r'\n",
    "        if not resample:\n",
    "            timestamps, frequencys, signal = read_origin(f, resample=resample)\n",
    "            time_origin = signal.shape[1]\n",
    "        else:\n",
    "            timestamps, frequencys, signal = read_origin(f, resample=resample)\n",
    "            resample_signal = signal.resample(resample_freq).mean().ffill().values.T\n",
    "            time_resample = resample_signal.shape[1]\n",
    "            signal = signal.values.T\n",
    "            time_origin = signal.shape[1]\n",
    "            if time_resample < low_bound and c != 'r':\n",
    "                c = 'green'\n",
    "        print('='*60+f'file:{f}'+'='*60)\n",
    "        print(f'Time Span:{timestamps[0]}-{timestamps[1]}')\n",
    "        print(f'Freq Span:{frequencys[0]}-{frequencys[1]}')\n",
    "        if not resample:\n",
    "            fig, pics = plt.subplots(1, 2, figsize=(10, 4))\n",
    "        else:\n",
    "            fig, pics = plt.subplots(2, 2, figsize=(10, 4))\n",
    "        if not resample:\n",
    "            for i, pic in enumerate(pics):\n",
    "                pic.plot(range(1, time_origin+1), signal[i], c=c)\n",
    "                if i == 0:\n",
    "                    pic.set_xlabel(f'anomaly_score:{anomaly_scores[f-1]}')\n",
    "                    pic.set_title(f'mean:{signal[i].mean():.4f}, length:{signal.shape[1]}')\n",
    "                else:\n",
    "                    pic.set_xlabel(f'anomaly_score_rank:{anomaly_scores_rank.index(f)+1}')\n",
    "                    pic.set_title(f'mean:{signal[i].mean():.4f}, min:{signal[i].min():.4f}, min_loc:{np.argmin(signal[i])+1}')\n",
    "        \n",
    "        else:\n",
    "            for col in range(2):\n",
    "                pics[0, col].plot(range(1, time_origin+1), signal[col], c=c)\n",
    "                if col == 0:\n",
    "                    pics[0, col].set_xlabel(f'anomaly_score:{anomaly_scores[f-1]}')\n",
    "                    pics[0, col].set_title(f'mean:{signal[col].mean():.4f}, length:{signal.shape[1]}')\n",
    "                else:\n",
    "                    pics[0, col].set_xlabel(f'anomaly_score_rank:{anomaly_scores_rank.index(f)+1}')\n",
    "                    pics[0, col].set_title(f'mean:{signal[col].mean():.4f}, min:{signal[col].min():.4f}, min_loc:{np.argmin(signal[col])+1}')\n",
    "            for col in range(2):\n",
    "                pics[1, col].plot(range(1, time_resample+1), resample_signal[col], c=c)\n",
    "                if col == 0:\n",
    "                    pics[1, col].set_title(f'mean:{resample_signal[col].mean():.4f}, length:{resample_signal.shape[1]}')\n",
    "                else:\n",
    "                    pics[1, col].set_title(f'mean:{resample_signal[col].mean():.4f}, min:{resample_signal[col].min():.4f}, min_loc:{np.argmin(resample_signal[col])+1}')\n",
    "                    \n",
    "        if not batch_in_one:\n",
    "            plt.tight_layout()\n",
    "            plt.show()\n",
    "    if batch_in_one:\n",
    "        plt.tight_layout()\n",
    "        plt.show()\n",
    "    \n",
    "def tsne_map(x, label, figsize=(6, 6), s=10, specific_files=None, path=None, dpi=2000, fontsize=14):\n",
    "    # specific_files是真实文件号,表示自己选择的想要看位置的文件\n",
    "    # x 为 n* features的tabular数据\n",
    "    # label为 x 对应的标签信息\n",
    "    pos, neg = x[label==0], x[label==1]\n",
    "    plt.figure(figsize=figsize)\n",
    "    plt.scatter(pos[:, 0], pos[:, 1], alpha=0.5, marker='.', c='k', label='normal', s=6)\n",
    "    plt.scatter(neg[:, 0], neg[:, 1], c='magenta', marker='v', s=s, label='outlier')\n",
    "    if specific_files is not None:\n",
    "        files = np.array(specific_files) - 1\n",
    "        plt.scatter(x[files][:, 0], x[files][:, 1], c='cyan', marker='*', s=s, label='selected')\n",
    "    plt.legend(loc='upper right', fontsize=fontsize)\n",
    "    if path is not None:\n",
    "        if dpi is None:\n",
    "            plt.savefig(path)\n",
    "        else:\n",
    "            plt.savefig(path, dpi=dpi)\n",
    "    plt.tick_params(labelsize=fontsize+2)\n",
    "    plt.show()\n",
    "    \n",
    "def plot_signal(file_range, data, labels, anomaly_scores, anomaly_ranks):\n",
    "    for f_idx in file_range:\n",
    "        fig, pics = plt.subplots(1, 2, figsize=(8, 2))\n",
    "        c = 'b'\n",
    "        if labels[f_idx] == 1:\n",
    "            c = 'r'\n",
    "        for i in range(2):\n",
    "            pics[i].plot(range(1, data.shape[2]+1), data[f_idx][i], c=c)\n",
    "            if i == 0:\n",
    "                pics[i].set_title(f'anomaly_score:{anomaly_scores[f_idx]:.4f},mean:{data[f_idx][i].mean():.4f}')\n",
    "            else:\n",
    "                pics[i].set_title(f'anomaly_rank:{anomaly_ranks.index(f_idx+1)+1},mean:{data[f_idx][i].mean():.4f}')\n",
    "        plt.tight_layout()\n",
    "        plt.show()"
   ]
  },
  {
   "cell_type": "markdown",
   "id": "b5f2e7f6",
   "metadata": {},
   "source": [
    "# 分类/可视化"
   ]
  },
  {
   "cell_type": "code",
   "execution_count": null,
   "id": "e5fecff2",
   "metadata": {
    "ExecuteTime": {
     "end_time": "2024-07-08T03:44:51.246727Z",
     "start_time": "2024-07-08T03:44:51.158188Z"
    }
   },
   "outputs": [],
   "source": [
    "# anomaly_scores_inne = np.load('anomaly_scores_inne_crt.npy')\n",
    "# anomaly_rank_inne = np.load('anomaly_scores_rank_inne_crt.npy').tolist()\n",
    "infos = loadmat(r'D:\\Jupyter\\AD\\datasets-ad\\battery\\data.mat')\n",
    "labels = infos['class'].reshape(-1)\n",
    "anomaly_files = np.arange(1, 9209)[labels==1]"
   ]
  },
  {
   "cell_type": "code",
   "execution_count": null,
   "id": "574a911a",
   "metadata": {
    "ExecuteTime": {
     "end_time": "2024-04-15T13:20:00.334903Z",
     "start_time": "2024-04-15T13:01:52.586368Z"
    }
   },
   "outputs": [],
   "source": [
    "plot_signal(str2class(c1), anomaly_files, resample=True, resample_freq='5min', low_bound=4000, \n",
    "            anomaly_scores=anomaly_scores_inne, anomaly_scores_rank=anomaly_rank_inne, batch_in_one=False)"
   ]
  },
  {
   "cell_type": "code",
   "execution_count": null,
   "id": "12f2cceb",
   "metadata": {},
   "outputs": [],
   "source": [
    "tsne_map(reprs_2d, labels, specific_files=np.arange(8870, 8984))"
   ]
  },
  {
   "cell_type": "code",
   "execution_count": null,
   "id": "78912e24",
   "metadata": {
    "ExecuteTime": {
     "end_time": "2024-04-15T08:11:41.718853Z",
     "start_time": "2024-04-15T08:11:15.061147Z"
    }
   },
   "outputs": [],
   "source": [
    "plot_signal(str2class(c1), anomaly_files, resample=True, resample_freq='10min', low_bound=4000, \n",
    "            anomaly_scores=anomaly_scores_inne, anomaly_scores_rank=anomaly_rank_inne, batch_in_one=False)"
   ]
  },
  {
   "cell_type": "code",
   "execution_count": null,
   "id": "6ffe9f1f",
   "metadata": {
    "ExecuteTime": {
     "end_time": "2024-04-15T05:50:03.997801Z",
     "start_time": "2024-04-15T05:50:03.768320Z"
    }
   },
   "outputs": [],
   "source": [
    "data = pd.read_csv(r'D:\\Jupyter\\AD\\datasets-ad\\battery\\data\\1501.txt', sep='\\t', header=None)\n",
    "timestamps =  np.vectorize(datetime.fromtimestamp)(data.iloc[:, 0].values)\n",
    "intervals = timestamps[1:] - timestamps[:-1]\n",
    "min_i = 10\n",
    "max_i = -1\n",
    "max_befor, max_after = None, None\n",
    "min_befor, min_after = None, None\n",
    "for idx, i in enumerate(intervals):\n",
    "    print(i.total_seconds()//60)\n",
    "    if i.total_seconds()//60 > max_i:\n",
    "        max_i = i.total_seconds()//60\n",
    "        max_befor = timestamps[idx]\n",
    "        max_after = timestamps[idx+1]\n",
    "    elif i.total_seconds()//60 < min_i:\n",
    "        min_i = i.total_seconds()//60\n",
    "        min_befor = timestamps[idx]\n",
    "        min_after = timestamps[idx+1]\n",
    "print(f'max_interval:{max_i}, befor:{max_befor}, after:{max_after}')\n",
    "print(f'min_interval:{min_i}, befor:{min_befor}, after:{min_after}')"
   ]
  },
  {
   "cell_type": "code",
   "execution_count": null,
   "id": "e63883e6",
   "metadata": {
    "ExecuteTime": {
     "end_time": "2024-04-15T05:50:18.549600Z",
     "start_time": "2024-04-15T05:50:18.368290Z"
    }
   },
   "outputs": [],
   "source": [
    "for t in timestamps:\n",
    "    print(t)"
   ]
  },
  {
   "cell_type": "markdown",
   "id": "c554f642",
   "metadata": {},
   "source": [
    "# 保存/可视化分析"
   ]
  },
  {
   "cell_type": "code",
   "execution_count": null,
   "id": "eee76f56",
   "metadata": {
    "ExecuteTime": {
     "end_time": "2024-04-15T09:04:42.343182Z",
     "start_time": "2024-04-15T08:56:47.049997Z"
    }
   },
   "outputs": [],
   "source": [
    "normalize_save(classes_str, labels, freqs, to_txt=False)"
   ]
  },
  {
   "cell_type": "code",
   "execution_count": null,
   "id": "0f4f0790",
   "metadata": {
    "ExecuteTime": {
     "end_time": "2024-07-08T03:44:39.504263Z",
     "start_time": "2024-07-08T03:44:39.501008Z"
    }
   },
   "outputs": [],
   "source": [
    "# 各类中包含序列的个数\n",
    "# 以及去除了39个异常\n",
    "# 总共可用样本数量：3161\n",
    "# 0是方便的，从索引1开始是第一类的序列数量\n",
    "num_of_series = [0, 702, 602, 63, 288, 120, 59, 103, 116, 50, 193, 121, 65, 60, 53, 67, 49, 96, 48, 106, 200]\n",
    "class_index = np.cumsum(num_of_series)"
   ]
  },
  {
   "cell_type": "code",
   "execution_count": null,
   "id": "58f9589a",
   "metadata": {
    "ExecuteTime": {
     "end_time": "2024-07-08T03:49:08.492262Z",
     "start_time": "2024-07-08T03:48:00.730716Z"
    }
   },
   "outputs": [],
   "source": [
    "# class 1\n",
    "class1_num = class_plot(c1, labels, freq='5min', figsize=(10, 2), one_pic=True, save=True, no=1)\n",
    "print(class1_num)"
   ]
  },
  {
   "cell_type": "code",
   "execution_count": null,
   "id": "7beab701",
   "metadata": {
    "ExecuteTime": {
     "end_time": "2024-07-08T03:50:37.707740Z",
     "start_time": "2024-07-08T03:49:53.512808Z"
    }
   },
   "outputs": [],
   "source": [
    "# class 2\n",
    "class2_num = class_plot(c2, labels, freq='5min', figsize=(10, 2), one_pic=True, save=True, no=2)\n",
    "print(class2_num)"
   ]
  },
  {
   "cell_type": "code",
   "execution_count": null,
   "id": "281dac14",
   "metadata": {
    "ExecuteTime": {
     "end_time": "2024-04-15T08:32:55.669310Z",
     "start_time": "2024-04-15T08:32:51.346735Z"
    }
   },
   "outputs": [],
   "source": [
    "# class 3\n",
    "class3_num = class_plot(c3, labels, freq='5min', figsize=(10, 2), one_pic=True, save=True, no=3)\n",
    "print(class3_num)"
   ]
  },
  {
   "cell_type": "code",
   "execution_count": null,
   "id": "ac58a7dd",
   "metadata": {
    "ExecuteTime": {
     "end_time": "2024-04-15T08:37:08.801129Z",
     "start_time": "2024-04-15T08:36:54.868142Z"
    }
   },
   "outputs": [],
   "source": [
    "# class 4\n",
    "class4_num = class_plot(c4, labels, freq='5min', figsize=(10, 2), one_pic=True, save=True, no=4)\n",
    "print(class4_num)"
   ]
  },
  {
   "cell_type": "code",
   "execution_count": null,
   "id": "f60126d4",
   "metadata": {
    "ExecuteTime": {
     "end_time": "2024-04-15T08:38:04.857236Z",
     "start_time": "2024-04-15T08:37:58.528865Z"
    }
   },
   "outputs": [],
   "source": [
    "# class 5\n",
    "class5_num = class_plot(c5, labels, freq='5min', figsize=(10, 2), one_pic=True, save=True, no=5)\n",
    "print(class5_num)"
   ]
  },
  {
   "cell_type": "code",
   "execution_count": null,
   "id": "b3bc5f2e",
   "metadata": {
    "ExecuteTime": {
     "end_time": "2024-04-15T08:39:14.782216Z",
     "start_time": "2024-04-15T08:39:11.824919Z"
    }
   },
   "outputs": [],
   "source": [
    "# class 6\n",
    "class6_num = class_plot(c6, labels, freq='5min', figsize=(10, 2), one_pic=True, save=True, no=6)\n",
    "print(class6_num)"
   ]
  },
  {
   "cell_type": "code",
   "execution_count": null,
   "id": "bf8edcb6",
   "metadata": {
    "ExecuteTime": {
     "end_time": "2024-04-15T08:44:48.866226Z",
     "start_time": "2024-04-15T08:44:06.223811Z"
    }
   },
   "outputs": [],
   "source": [
    "# class 7\n",
    "class7_num = class_plot(c7, labels, freq='5min', figsize=(10, 2), one_pic=True, save=True, no=7)\n",
    "print(class7_num)"
   ]
  },
  {
   "cell_type": "code",
   "execution_count": null,
   "id": "f33d744d",
   "metadata": {
    "ExecuteTime": {
     "end_time": "2024-04-15T08:50:22.886947Z",
     "start_time": "2024-04-15T08:49:30.192114Z"
    }
   },
   "outputs": [],
   "source": [
    "# class 8\n",
    "class8_num = class_plot(c8, labels, freq='5min', figsize=(10, 2), one_pic=True, save=True, no=8)\n",
    "print(class8_num)"
   ]
  },
  {
   "cell_type": "code",
   "execution_count": null,
   "id": "03b2657f",
   "metadata": {
    "ExecuteTime": {
     "end_time": "2024-04-15T08:50:35.503373Z",
     "start_time": "2024-04-15T08:50:22.887951Z"
    }
   },
   "outputs": [],
   "source": [
    "# class 9\n",
    "class9_num = class_plot(c9, labels, freq='5min', figsize=(10, 2), one_pic=True, save=True, no=9)\n",
    "print(class9_num)"
   ]
  },
  {
   "cell_type": "code",
   "execution_count": null,
   "id": "02f4c81e",
   "metadata": {
    "ExecuteTime": {
     "end_time": "2024-04-15T08:50:47.653285Z",
     "start_time": "2024-04-15T08:50:35.504553Z"
    }
   },
   "outputs": [],
   "source": [
    "# class 10\n",
    "class10_num = class_plot(c10, labels, freq='5min', figsize=(10, 2), one_pic=True, save=True, no=10)\n",
    "print(class10_num)"
   ]
  },
  {
   "cell_type": "code",
   "execution_count": null,
   "id": "fb431660",
   "metadata": {
    "ExecuteTime": {
     "end_time": "2024-07-08T03:50:46.528324Z",
     "start_time": "2024-07-08T03:50:37.708742Z"
    }
   },
   "outputs": [],
   "source": [
    "# class 11\n",
    "class11_num = class_plot(c11, labels, freq='5min', figsize=(10, 2), one_pic=True, save=True, no=11)\n",
    "print(class11_num)"
   ]
  },
  {
   "cell_type": "code",
   "execution_count": null,
   "id": "1100cb81",
   "metadata": {
    "ExecuteTime": {
     "end_time": "2024-04-15T08:51:35.219224Z",
     "start_time": "2024-04-15T08:50:55.000770Z"
    }
   },
   "outputs": [],
   "source": [
    "# class 12\n",
    "class12_num = class_plot(c12, labels, freq='5min', figsize=(10, 2), one_pic=True, save=True, no=12)\n",
    "print(class12_num)"
   ]
  },
  {
   "cell_type": "code",
   "execution_count": null,
   "id": "da3930a8",
   "metadata": {
    "ExecuteTime": {
     "end_time": "2024-07-08T03:51:24.621678Z",
     "start_time": "2024-07-08T03:50:46.529326Z"
    }
   },
   "outputs": [],
   "source": [
    "# class 13\n",
    "class13_num = class_plot(c13, labels, freq='5min', figsize=(10, 2), one_pic=True, save=True, no=13)\n",
    "print(class13_num)"
   ]
  },
  {
   "cell_type": "code",
   "execution_count": null,
   "id": "ac2d3e15",
   "metadata": {
    "ExecuteTime": {
     "end_time": "2024-04-15T08:52:14.135974Z",
     "start_time": "2024-04-15T08:52:09.690793Z"
    }
   },
   "outputs": [],
   "source": [
    "# class 14\n",
    "class14_num = class_plot(c14, labels, freq='5min', figsize=(10, 2), one_pic=True, save=True, no=14)\n",
    "print(class14_num)"
   ]
  },
  {
   "cell_type": "code",
   "execution_count": null,
   "id": "1b1f59c1",
   "metadata": {
    "ExecuteTime": {
     "end_time": "2024-04-15T08:52:51.421901Z",
     "start_time": "2024-04-15T08:52:14.137251Z"
    }
   },
   "outputs": [],
   "source": [
    "# class 15\n",
    "class15_num = class_plot(c15, labels, freq='5min', figsize=(10, 2), one_pic=True, save=True, no=15)\n",
    "print(class15_num)"
   ]
  },
  {
   "cell_type": "code",
   "execution_count": null,
   "id": "07ec1f57",
   "metadata": {
    "ExecuteTime": {
     "end_time": "2024-04-15T08:52:54.815895Z",
     "start_time": "2024-04-15T08:52:51.423098Z"
    }
   },
   "outputs": [],
   "source": [
    "# class 16\n",
    "class16_num = class_plot(c16, labels, freq='5min', figsize=(10, 2), one_pic=True, save=True, no=16)\n",
    "print(class16_num)"
   ]
  },
  {
   "cell_type": "code",
   "execution_count": null,
   "id": "e64d09d8",
   "metadata": {
    "ExecuteTime": {
     "end_time": "2024-04-15T08:52:56.239746Z",
     "start_time": "2024-04-15T08:52:54.816926Z"
    }
   },
   "outputs": [],
   "source": [
    "# class 17\n",
    "class17_num = class_plot(c17, labels, freq='5min', figsize=(10, 2), one_pic=True, save=True, no=17)\n",
    "print(class17_num)"
   ]
  },
  {
   "cell_type": "code",
   "execution_count": null,
   "id": "6be7ff2e",
   "metadata": {
    "ExecuteTime": {
     "end_time": "2024-04-15T08:52:57.237404Z",
     "start_time": "2024-04-15T08:52:56.240958Z"
    }
   },
   "outputs": [],
   "source": [
    "# class 18\n",
    "class18_num = class_plot(c18, labels, freq='5min', figsize=(10, 2), one_pic=True, save=True, no=18)\n",
    "print(class18_num)"
   ]
  },
  {
   "cell_type": "code",
   "execution_count": null,
   "id": "6bb7412c",
   "metadata": {
    "ExecuteTime": {
     "end_time": "2024-04-15T08:52:59.187677Z",
     "start_time": "2024-04-15T08:52:57.239517Z"
    }
   },
   "outputs": [],
   "source": [
    "# class 19\n",
    "class19_num = class_plot(c19, labels, freq='5min', figsize=(10, 2), one_pic=True, save=True, no=19)\n",
    "print(class19_num)"
   ]
  },
  {
   "cell_type": "code",
   "execution_count": null,
   "id": "d325654c",
   "metadata": {
    "ExecuteTime": {
     "end_time": "2024-04-15T08:53:05.509953Z",
     "start_time": "2024-04-15T08:52:59.190661Z"
    }
   },
   "outputs": [],
   "source": [
    "# class 20\n",
    "class20_num = class_plot(c20, labels, freq='232s', figsize=(10, 2), one_pic=True, save=True, no=20)\n",
    "print(class20_num)"
   ]
  },
  {
   "cell_type": "code",
   "execution_count": null,
   "id": "8c4bf31d",
   "metadata": {
    "ExecuteTime": {
     "end_time": "2024-04-15T08:53:08.987648Z",
     "start_time": "2024-04-15T08:53:05.512012Z"
    }
   },
   "outputs": [],
   "source": [
    "# outlier\n",
    "outlier_num = class_plot(filtered_files, labels, freq='5min', figsize=(10, 2), one_pic=True, save=True, no=21)\n",
    "print(outlier_num)"
   ]
  },
  {
   "cell_type": "markdown",
   "id": "73fb1e3a",
   "metadata": {},
   "source": [
    "# 分析清洗后的样本"
   ]
  },
  {
   "cell_type": "code",
   "execution_count": null,
   "id": "8e0a313e",
   "metadata": {
    "ExecuteTime": {
     "end_time": "2024-04-16T03:20:31.297702Z",
     "start_time": "2024-04-16T03:20:31.205402Z"
    }
   },
   "outputs": [],
   "source": [
    "all_data_path = r'D:\\Jupyter\\AD\\datasets-ad\\battery\\all_data_resample_8928\\resample_datasetnorm.npy'\n",
    "all_labels_path = r'D:\\Jupyter\\AD\\datasets-ad\\battery\\all_data_resample_8928\\all_data_labels.npy'\n",
    "data = np.load(all_data_path)\n",
    "labels = np.load(all_labels_path)\n",
    "anomaly_files = np.arange(1, 3162)[labels==1]"
   ]
  },
  {
   "cell_type": "code",
   "execution_count": null,
   "id": "db7752cc",
   "metadata": {
    "ExecuteTime": {
     "end_time": "2024-04-16T02:50:22.717401Z",
     "start_time": "2024-04-16T02:48:51.313345Z"
    }
   },
   "outputs": [],
   "source": [
    "# 所有样本的顺序是按照类别的顺序排的\n",
    "class_no = 1\n",
    "for d, label in zip(data[class_index[class_no-1]:class_index[class_no]], labels[class_index[class_no-1]:class_index[class_no]]):\n",
    "    fig, pics = plt.subplots(1, 2, figsize=(10, 2))\n",
    "    c = 'b'\n",
    "    if label == 1:\n",
    "        c = 'r'\n",
    "    for i in range(2):\n",
    "        pics[i].plot(range(1,data.shape[2]+1), d[i], c=c)\n",
    "        pics[i].set_title(f'mean={d[i].mean()}')\n",
    "    plt.tight_layout()\n",
    "    plt.show()"
   ]
  },
  {
   "cell_type": "code",
   "execution_count": null,
   "id": "b7314837",
   "metadata": {
    "ExecuteTime": {
     "end_time": "2024-04-15T11:59:56.519867Z",
     "start_time": "2024-04-15T11:59:32.093469Z"
    }
   },
   "outputs": [],
   "source": [
    "# class1\n",
    "class_no = 20\n",
    "class_data_path = fr'D:\\Jupyter\\AD\\datasets-ad\\battery\\class_resample_8928\\class_{class_no}\\resample_classnorm.npy'\n",
    "class_labels_path = fr'D:\\Jupyter\\AD\\datasets-ad\\battery\\class_resample_8928\\class_{class_no}\\class_labels.npy'\n",
    "data = np.load(class_data_path)\n",
    "labels = np.load(class_labels_path)\n",
    "for d, label in zip(data, labels):\n",
    "    fig, pics = plt.subplots(1, 2, figsize=(10, 2))\n",
    "    c = 'b'\n",
    "    if label == 1:\n",
    "        c = 'r'\n",
    "    for i in range(2):\n",
    "        pics[i].plot(range(1,data.shape[2]+1), d[i], c=c)\n",
    "        pics[i].set_title(f'mean={d[i].mean()}')\n",
    "    plt.tight_layout()\n",
    "    plt.show()"
   ]
  },
  {
   "cell_type": "markdown",
   "id": "6a6bab7f",
   "metadata": {},
   "source": [
    "# 异常分分布可视化"
   ]
  },
  {
   "cell_type": "code",
   "execution_count": 82,
   "id": "d98b0549",
   "metadata": {
    "ExecuteTime": {
     "end_time": "2024-08-09T07:24:11.370437Z",
     "start_time": "2024-08-09T07:24:11.366369Z"
    }
   },
   "outputs": [],
   "source": [
    "method = 'dif'\n",
    "embedding_method = 'ts2vec'\n",
    "name = 'global'\n",
    "dim = '256'\n",
    "path = Path(fr'anomaly_scores_distribution_{name}')\n",
    "predict_path = Path(r'./Predict_result')\n",
    "path.mkdir(exist_ok=True)"
   ]
  },
  {
   "cell_type": "code",
   "execution_count": null,
   "id": "4bcf20a3",
   "metadata": {
    "ExecuteTime": {
     "end_time": "2024-08-08T06:28:58.044356Z",
     "start_time": "2024-08-08T06:28:58.029273Z"
    }
   },
   "outputs": [],
   "source": [
    "new_labels = []\n",
    "for i in range(1, 21):\n",
    "    path = fr'D:\\Jupyter\\AD\\datasets-ad\\battery\\class_resample_8928\\class_{i}\\class_labels.npy'\n",
    "    original_labels = np.load(path)\n",
    "    n_samples = original_labels.shape[0]\n",
    "    if i not in [1, 2, 11, 13]:\n",
    "        c_labels = [0 for k in range(n_samples)]\n",
    "        new_labels.extend(c_labels)\n",
    "    else:\n",
    "        new_labels.extend(original_labels)\n",
    "new_labels = np.array(new_labels)"
   ]
  },
  {
   "cell_type": "code",
   "execution_count": null,
   "id": "448a9225",
   "metadata": {
    "ExecuteTime": {
     "end_time": "2024-08-08T06:29:06.614068Z",
     "start_time": "2024-08-08T06:29:06.609532Z"
    }
   },
   "outputs": [],
   "source": [
    "np.save('./new_anomaly_label')"
   ]
  },
  {
   "cell_type": "markdown",
   "id": "795562dd",
   "metadata": {},
   "source": [
    "## Class 5"
   ]
  },
  {
   "cell_type": "code",
   "execution_count": 83,
   "id": "be0e62ef",
   "metadata": {
    "ExecuteTime": {
     "end_time": "2024-08-09T07:24:13.562748Z",
     "start_time": "2024-08-09T07:24:13.556392Z"
    }
   },
   "outputs": [],
   "source": [
    "class_no = 5\n",
    "anomaly_scores_path = fr'./global2class_{embedding_method}_{dim}_{name}/anomaly_scores_{method}_{embedding_method}_class{class_no}_finch.npy'\n",
    "anomaly_ranks_path = fr'./global2class_{embedding_method}_{dim}_{name}/anomaly_scores_rank_{method}_{embedding_method}_class{class_no}_finch.npy'\n",
    "reprs_path = fr'D:\\Jupyter\\AD\\datasets-ad\\battery\\all_data_resample_8928\\ts2vec_256_reprs_global.npy'\n",
    "labels_path = r'./new_anomaly_labels.npy'\n",
    "class_labels_path = r'./finch_class_labels.npy'\n",
    "instance_reprs = np.load(reprs_path)\n",
    "outlier_labels = np.load(labels_path)\n",
    "class_labels = np.load(class_labels_path)\n",
    "instance_reprs = instance_reprs[class_labels==class_no]\n",
    "outlier_labels = outlier_labels[class_labels==class_no]\n",
    "anomaly_scores = np.load(anomaly_scores_path)\n",
    "anomaly_scores_rank = np.load(anomaly_ranks_path)"
   ]
  },
  {
   "cell_type": "code",
   "execution_count": 56,
   "id": "49301258",
   "metadata": {
    "ExecuteTime": {
     "end_time": "2024-08-09T07:23:01.673096Z",
     "start_time": "2024-08-09T07:23:01.670813Z"
    }
   },
   "outputs": [],
   "source": [
    "# class_plot(c1, labels, anomaly_scores=anomaly_scores, anomaly_ranks=anomaly_scores_rank)"
   ]
  },
  {
   "cell_type": "code",
   "execution_count": 57,
   "id": "523effde",
   "metadata": {
    "ExecuteTime": {
     "end_time": "2024-08-09T07:23:02.023535Z",
     "start_time": "2024-08-09T07:23:02.006984Z"
    }
   },
   "outputs": [
    {
     "ename": "NameError",
     "evalue": "name 'class_1_labels' is not defined",
     "output_type": "error",
     "traceback": [
      "\u001b[1;31m---------------------------------------------------------------------------\u001b[0m",
      "\u001b[1;31mNameError\u001b[0m                                 Traceback (most recent call last)",
      "Cell \u001b[1;32mIn[57], line 7\u001b[0m\n\u001b[0;32m      5\u001b[0m top_k_anomaly_scores \u001b[38;5;241m=\u001b[39m (top_k_anomaly_scores \u001b[38;5;241m-\u001b[39m top_k_anomaly_scores\u001b[38;5;241m.\u001b[39mmin()) \u001b[38;5;241m/\u001b[39m (top_k_anomaly_scores\u001b[38;5;241m.\u001b[39mmax()\u001b[38;5;241m-\u001b[39mtop_k_anomaly_scores\u001b[38;5;241m.\u001b[39mmin())\n\u001b[0;32m      6\u001b[0m \u001b[38;5;66;03m# top_k_anomaly_scores = (top_k_anomaly_scores - top_k_anomaly_scores.mean()) / top_k_anomaly_scores.std(ddof=1)\u001b[39;00m\n\u001b[1;32m----> 7\u001b[0m real_anomaly_index \u001b[38;5;241m=\u001b[39m np\u001b[38;5;241m.\u001b[39marange(class_1_labels\u001b[38;5;241m.\u001b[39mshape[\u001b[38;5;241m0\u001b[39m])[class_1_labels\u001b[38;5;241m==\u001b[39m\u001b[38;5;241m1\u001b[39m]\n\u001b[0;32m      8\u001b[0m \u001b[38;5;66;03m# real anomaly vs top 5 anomaly\u001b[39;00m\n\u001b[0;32m      9\u001b[0m fig, pics \u001b[38;5;241m=\u001b[39m plt\u001b[38;5;241m.\u001b[39msubplots(\u001b[38;5;241m1\u001b[39m, \u001b[38;5;241m2\u001b[39m, figsize\u001b[38;5;241m=\u001b[39m(\u001b[38;5;241m20\u001b[39m, \u001b[38;5;241m5\u001b[39m))\n",
      "\u001b[1;31mNameError\u001b[0m: name 'class_1_labels' is not defined"
     ]
    }
   ],
   "source": [
    "#anomaly score top 5 series\n",
    "top_k = 10\n",
    "top_k_anomaly_scores_index = np.argsort(anomaly_scores)[-top_k:]\n",
    "top_k_anomaly_scores = anomaly_scores[top_k_anomaly_scores_index]\n",
    "top_k_anomaly_scores = (top_k_anomaly_scores - top_k_anomaly_scores.min()) / (top_k_anomaly_scores.max()-top_k_anomaly_scores.min())\n",
    "# top_k_anomaly_scores = (top_k_anomaly_scores - top_k_anomaly_scores.mean()) / top_k_anomaly_scores.std(ddof=1)\n",
    "real_anomaly_index = np.arange(class_1_labels.shape[0])[class_1_labels==1]\n",
    "# real anomaly vs top 5 anomaly\n",
    "fig, pics = plt.subplots(1, 2, figsize=(20, 5))\n",
    "for col in range(2):\n",
    "    for i, idx in enumerate(top_k_anomaly_scores_index):\n",
    "        color = 'r' if idx in real_anomaly_index else 'b'\n",
    "        pics[col].plot(np.arange(class_1_data.shape[2]), class_1_data[idx][col], c=cm.Reds(top_k_anomaly_scores[i]), alpha=top_k_anomaly_scores[i])\n",
    "        pics[col].tick_params(labelsize=17)\n",
    "fig.suptitle(f'Top {top_k} anomaly score batteries predicted by {method} in class{class_no}', size=25)\n",
    "#添加独立的colorbar\n",
    "cax, _ = mpl.colorbar.make_axes(pics)\n",
    "cmap = cm.get_cmap('Reds')\n",
    "norm = mpl.colors.Normalize(vmin=0, vmax=1)\n",
    "cb = mpl.colorbar.ColorbarBase(cax, cmap=cmap, norm=norm)\n",
    "cb.ax.tick_params(labelsize=17)\n",
    "# 保存图片\n",
    "plt.savefig(predict_path / f'{method}_class{class_no}_top{top_k}.png', dpi=1000)\n",
    "plt.show()"
   ]
  },
  {
   "cell_type": "code",
   "execution_count": 84,
   "id": "275aee33",
   "metadata": {
    "ExecuteTime": {
     "end_time": "2024-08-09T07:24:18.413689Z",
     "start_time": "2024-08-09T07:24:16.053374Z"
    }
   },
   "outputs": [
    {
     "data": {
      "image/png": "[encoded data removed]",
      "text/plain": [
       "<Figure size 1000x700 with 1 Axes>"
      ]
     },
     "metadata": {},
     "output_type": "display_data"
    }
   ],
   "source": [
    "percentile = 99\n",
    "threshold = np.percentile(anomaly_scores, percentile)\n",
    "plt.figure(figsize=(10, 7))\n",
    "sns.histplot(anomaly_scores, kde=True, shrink=0.8, color='blue', bins=100)\n",
    "plt.ylabel('Count', size=25)\n",
    "plt.axvline(x=threshold, color='r', linestyle='--', label='threshold')\n",
    "plt.legend(fontsize=25, loc='upper right')\n",
    "plt.tick_params(labelsize=17)\n",
    "plt.title(f'threshold={threshold:.3f}, percentile={percentile}', size=25)\n",
    "plt.savefig(path/f'class{class_no}_{method}.png', dpi=1000)\n",
    "plt.show()\n",
    "# 双中心？"
   ]
  },
  {
   "cell_type": "markdown",
   "id": "61a54c5b",
   "metadata": {
    "ExecuteTime": {
     "end_time": "2024-04-19T13:17:38.288099Z",
     "start_time": "2024-04-19T13:17:38.285564Z"
    }
   },
   "source": [
    "## Class 6"
   ]
  },
  {
   "cell_type": "code",
   "execution_count": 85,
   "id": "15292b20",
   "metadata": {
    "ExecuteTime": {
     "end_time": "2024-08-09T07:24:18.419440Z",
     "start_time": "2024-08-09T07:24:18.414692Z"
    }
   },
   "outputs": [],
   "source": [
    "class_no = 5\n",
    "anomaly_scores_path = fr'./global2class_{embedding_method}_{dim}_{name}/anomaly_scores_{method}_{embedding_method}_class{class_no}_finch.npy'\n",
    "anomaly_ranks_path = fr'./global2class_{embedding_method}_{dim}_{name}/anomaly_scores_rank_{method}_{embedding_method}_class{class_no}_finch.npy'\n",
    "reprs_path = fr'D:\\Jupyter\\AD\\datasets-ad\\battery\\all_data_resample_8928\\ts2vec_256_reprs_global.npy'\n",
    "labels_path = r'./new_anomaly_labels.npy'\n",
    "class_labels_path = r'./finch_class_labels.npy'\n",
    "instance_reprs = np.load(reprs_path)\n",
    "outlier_labels = np.load(labels_path)\n",
    "class_labels = np.load(class_labels_path)\n",
    "instance_reprs = instance_reprs[class_labels==class_no]\n",
    "outlier_labels = outlier_labels[class_labels==class_no]\n",
    "anomaly_scores = np.load(anomaly_scores_path)\n",
    "anomaly_scores_rank = np.load(anomaly_ranks_path)"
   ]
  },
  {
   "cell_type": "code",
   "execution_count": 73,
   "id": "6d5c5a93",
   "metadata": {
    "ExecuteTime": {
     "end_time": "2024-08-09T07:23:44.964746Z",
     "start_time": "2024-08-09T07:23:44.960387Z"
    }
   },
   "outputs": [],
   "source": [
    "# class_plot(c2, labels, anomaly_scores=anomaly_scores, anomaly_ranks=anomaly_scores_rank)"
   ]
  },
  {
   "cell_type": "code",
   "execution_count": 86,
   "id": "f333bf46",
   "metadata": {
    "ExecuteTime": {
     "end_time": "2024-08-09T07:24:20.916811Z",
     "start_time": "2024-08-09T07:24:18.499390Z"
    }
   },
   "outputs": [
    {
     "data": {
      "image/png": "[encoded data removed]",
      "text/plain": [
       "<Figure size 1000x700 with 1 Axes>"
      ]
     },
     "metadata": {},
     "output_type": "display_data"
    }
   ],
   "source": [
    "percentile = 99\n",
    "threshold = np.percentile(anomaly_scores, percentile)\n",
    "plt.figure(figsize=(10, 7))\n",
    "sns.histplot(anomaly_scores, kde=True, shrink=0.8, color='blue')\n",
    "plt.ylabel('Count', size=25)\n",
    "plt.axvline(x=threshold, color='r', linestyle='--', label='threshold')\n",
    "plt.legend(fontsize=25, loc='upper right')\n",
    "plt.tick_params(labelsize=17)\n",
    "plt.title(f'threshold={threshold:.3f}, percentile={percentile}', size=25)\n",
    "plt.savefig(path/f'class{class_no}_{method}.png', dpi=1000)\n",
    "plt.show()\n",
    "# 双中心？"
   ]
  },
  {
   "cell_type": "code",
   "execution_count": null,
   "id": "cc0d5557",
   "metadata": {
    "ExecuteTime": {
     "end_time": "2024-07-03T05:32:42.704418Z",
     "start_time": "2024-07-03T05:32:39.192291Z"
    }
   },
   "outputs": [],
   "source": [
    "#anomaly score top 5 series\n",
    "top_k = 10\n",
    "top_k_anomaly_scores_index = np.argsort(anomaly_scores)[-top_k:]\n",
    "top_k_anomaly_scores = anomaly_scores[top_k_anomaly_scores_index]\n",
    "top_k_anomaly_scores = (top_k_anomaly_scores - top_k_anomaly_scores.min()) / (top_k_anomaly_scores.max()-top_k_anomaly_scores.min())\n",
    "# top_k_anomaly_scores = (top_k_anomaly_scores - top_k_anomaly_scores.mean()) / top_k_anomaly_scores.std(ddof=1)\n",
    "real_anomaly_index = np.arange(class_2_labels.shape[0])[class_2_labels==1]\n",
    "# real anomaly vs top 5 anomaly\n",
    "fig, pics = plt.subplots(1, 2, figsize=(20, 5))\n",
    "for col in range(2):\n",
    "    for i, idx in enumerate(top_k_anomaly_scores_index):\n",
    "        color = 'r' if idx in real_anomaly_index else 'b'\n",
    "        pics[col].plot(np.arange(class_2_data.shape[2]), class_2_data[idx][col], c=cm.Reds(top_k_anomaly_scores[i]), alpha=top_k_anomaly_scores[i])\n",
    "        pics[col].tick_params(labelsize=17)\n",
    "fig.suptitle(f'Top {top_k} anomaly score batteries predicted by {method} in class{class_no}', size=25)\n",
    "#添加独立的colorbar\n",
    "cax, _ = mpl.colorbar.make_axes(pics)\n",
    "cmap = cm.get_cmap('Reds')\n",
    "norm = mpl.colors.Normalize(vmin=0, vmax=1)\n",
    "cb = mpl.colorbar.ColorbarBase(cax, cmap=cmap, norm=norm)\n",
    "cb.ax.tick_params(labelsize=17)\n",
    "# 保存图片\n",
    "plt.savefig(predict_path / f'{method}_class{class_no}_top{top_k}.png', dpi=1000)\n",
    "plt.show()"
   ]
  },
  {
   "cell_type": "markdown",
   "id": "eb11b76b",
   "metadata": {},
   "source": [
    "## Class 13"
   ]
  },
  {
   "cell_type": "code",
   "execution_count": 87,
   "id": "d6630d16",
   "metadata": {
    "ExecuteTime": {
     "end_time": "2024-08-09T07:24:20.923928Z",
     "start_time": "2024-08-09T07:24:20.917815Z"
    }
   },
   "outputs": [],
   "source": [
    "class_no = 13\n",
    "anomaly_scores_path = fr'./global2class_{embedding_method}_{dim}_{name}/anomaly_scores_{method}_{embedding_method}_class{class_no}_finch.npy'\n",
    "anomaly_ranks_path = fr'./global2class_{embedding_method}_{dim}_{name}/anomaly_scores_rank_{method}_{embedding_method}_class{class_no}_finch.npy'\n",
    "reprs_path = fr'D:\\Jupyter\\AD\\datasets-ad\\battery\\all_data_resample_8928\\ts2vec_256_reprs_global.npy'\n",
    "labels_path = r'./new_anomaly_labels.npy'\n",
    "class_labels_path = r'./finch_class_labels.npy'\n",
    "instance_reprs = np.load(reprs_path)\n",
    "outlier_labels = np.load(labels_path)\n",
    "class_labels = np.load(class_labels_path)\n",
    "instance_reprs = instance_reprs[class_labels==class_no]\n",
    "outlier_labels = outlier_labels[class_labels==class_no]\n",
    "anomaly_scores = np.load(anomaly_scores_path)\n",
    "anomaly_scores_rank = np.load(anomaly_ranks_path)"
   ]
  },
  {
   "cell_type": "code",
   "execution_count": 76,
   "id": "6ec23e88",
   "metadata": {
    "ExecuteTime": {
     "end_time": "2024-08-09T07:23:47.343479Z",
     "start_time": "2024-08-09T07:23:47.340033Z"
    }
   },
   "outputs": [],
   "source": [
    "# class_plot(c10, labels, anomaly_scores=anomaly_scores, anomaly_ranks=anomaly_scores_rank)"
   ]
  },
  {
   "cell_type": "code",
   "execution_count": 88,
   "id": "53d65d99",
   "metadata": {
    "ExecuteTime": {
     "end_time": "2024-08-09T07:24:22.184115Z",
     "start_time": "2024-08-09T07:24:21.644413Z"
    }
   },
   "outputs": [
    {
     "data": {
      "image/png": "[encoded data removed]",
      "text/plain": [
       "<Figure size 640x480 with 1 Axes>"
      ]
     },
     "metadata": {},
     "output_type": "display_data"
    }
   ],
   "source": [
    "percentile = 99\n",
    "threshold = np.percentile(anomaly_scores, percentile)\n",
    "sns.histplot(anomaly_scores, kde=True, shrink=0.8, color='blue')\n",
    "plt.axvline(x=threshold, color='r', linestyle='--', label='threshold')\n",
    "plt.legend()\n",
    "plt.title(f'threshold={threshold:.4f}, percentile={percentile}')\n",
    "plt.savefig(path/f'class{class_no}_{method}.png', dpi=600)\n",
    "plt.show()\n",
    "# 根据1c的均值不同呈现多峰？"
   ]
  },
  {
   "cell_type": "markdown",
   "id": "70dac65f",
   "metadata": {},
   "source": [
    "## Class 16"
   ]
  },
  {
   "cell_type": "code",
   "execution_count": 89,
   "id": "e73f4c2c",
   "metadata": {
    "ExecuteTime": {
     "end_time": "2024-08-09T07:24:24.045784Z",
     "start_time": "2024-08-09T07:24:24.039674Z"
    }
   },
   "outputs": [],
   "source": [
    "class_no = 16\n",
    "anomaly_scores_path = fr'./global2class_{embedding_method}_{dim}_{name}/anomaly_scores_{method}_{embedding_method}_class{class_no}_finch.npy'\n",
    "anomaly_ranks_path = fr'./global2class_{embedding_method}_{dim}_{name}/anomaly_scores_rank_{method}_{embedding_method}_class{class_no}_finch.npy'\n",
    "reprs_path = fr'D:\\Jupyter\\AD\\datasets-ad\\battery\\all_data_resample_8928\\ts2vec_256_reprs_global.npy'\n",
    "labels_path = r'./new_anomaly_labels.npy'\n",
    "class_labels_path = r'./finch_class_labels.npy'\n",
    "instance_reprs = np.load(reprs_path)\n",
    "outlier_labels = np.load(labels_path)\n",
    "class_labels = np.load(class_labels_path)\n",
    "instance_reprs = instance_reprs[class_labels==class_no]\n",
    "outlier_labels = outlier_labels[class_labels==class_no]\n",
    "anomaly_scores = np.load(anomaly_scores_path)\n",
    "anomaly_scores_rank = np.load(anomaly_ranks_path)"
   ]
  },
  {
   "cell_type": "code",
   "execution_count": 79,
   "id": "d3f7e03a",
   "metadata": {
    "ExecuteTime": {
     "end_time": "2024-08-09T07:23:49.161399Z",
     "start_time": "2024-08-09T07:23:49.159759Z"
    }
   },
   "outputs": [],
   "source": [
    "# class_plot(c11, labels, anomaly_scores=anomaly_scores, anomaly_ranks=anomaly_scores_rank)"
   ]
  },
  {
   "cell_type": "code",
   "execution_count": 90,
   "id": "39fc93e5",
   "metadata": {
    "ExecuteTime": {
     "end_time": "2024-08-09T07:24:27.825058Z",
     "start_time": "2024-08-09T07:24:25.412220Z"
    }
   },
   "outputs": [
    {
     "data": {
      "image/png": "[encoded data removed]",
      "text/plain": [
       "<Figure size 1000x700 with 1 Axes>"
      ]
     },
     "metadata": {},
     "output_type": "display_data"
    }
   ],
   "source": [
    "percentile = 99\n",
    "threshold = np.percentile(anomaly_scores, percentile)\n",
    "plt.figure(figsize=(10, 7))\n",
    "sns.histplot(anomaly_scores, kde=True, shrink=0.8, color='blue', bins=30)\n",
    "plt.ylabel('Count', size=25)\n",
    "plt.axvline(x=threshold, color='r', linestyle='--', label='threshold')\n",
    "plt.legend(fontsize=25, loc='upper right')\n",
    "plt.tick_params(labelsize=17)\n",
    "plt.title(f'threshold={threshold:.3f}, percentile={percentile}', size=25)\n",
    "plt.savefig(path/f'class{class_no}_{method}.png', dpi=1000)\n",
    "plt.show()\n",
    "# 双中心？"
   ]
  },
  {
   "cell_type": "code",
   "execution_count": null,
   "id": "e49a817c",
   "metadata": {
    "ExecuteTime": {
     "end_time": "2024-07-03T05:32:59.788307Z",
     "start_time": "2024-07-03T05:32:56.463781Z"
    }
   },
   "outputs": [],
   "source": [
    "#anomaly score top 5 series\n",
    "top_k = 10\n",
    "top_k_anomaly_scores_index = np.argsort(anomaly_scores)[-top_k:]\n",
    "top_k_anomaly_scores = anomaly_scores[top_k_anomaly_scores_index]\n",
    "top_k_anomaly_scores = (top_k_anomaly_scores - top_k_anomaly_scores.min()) / (top_k_anomaly_scores.max()-top_k_anomaly_scores.min())\n",
    "# top_k_anomaly_scores = (top_k_anomaly_scores - top_k_anomaly_scores.mean()) / top_k_anomaly_scores.std(ddof=1)\n",
    "real_anomaly_index = np.arange(class_11_labels.shape[0])[class_11_labels==1]\n",
    "# real anomaly vs top 5 anomaly\n",
    "fig, pics = plt.subplots(1, 2, figsize=(20, 5))\n",
    "for col in range(2):\n",
    "    for i, idx in enumerate(top_k_anomaly_scores_index):\n",
    "        color = 'r' if idx in real_anomaly_index else 'b'\n",
    "        pics[col].plot(np.arange(class_11_data.shape[2]), class_11_data[idx][col], c=cm.Reds(top_k_anomaly_scores[i]), alpha=top_k_anomaly_scores[i])\n",
    "        pics[col].tick_params(labelsize=17)\n",
    "fig.suptitle(f'Top {top_k} anomaly score batteries predicted by {method} in class{class_no}', size=25)\n",
    "#添加独立的colorbar\n",
    "cax, _ = mpl.colorbar.make_axes(pics)\n",
    "cmap = cm.get_cmap('Reds')\n",
    "norm = mpl.colors.Normalize(vmin=0, vmax=1)\n",
    "cb = mpl.colorbar.ColorbarBase(cax, cmap=cmap, norm=norm)\n",
    "cb.ax.tick_params(labelsize=17)\n",
    "# 保存图片\n",
    "plt.savefig(predict_path / f'{method}_class{class_no}_top{top_k}.png', dpi=1000)\n",
    "plt.show()"
   ]
  },
  {
   "cell_type": "markdown",
   "id": "16928a5c",
   "metadata": {},
   "source": [
    "# 全局异常分融合"
   ]
  },
  {
   "cell_type": "markdown",
   "id": "85d89efe",
   "metadata": {},
   "source": [
    "# without 10-12-14"
   ]
  },
  {
   "cell_type": "code",
   "execution_count": 91,
   "id": "a4458229",
   "metadata": {
    "ExecuteTime": {
     "end_time": "2024-08-09T07:24:30.462300Z",
     "start_time": "2024-08-09T07:24:30.455264Z"
    }
   },
   "outputs": [
    {
     "name": "stdout",
     "output_type": "stream",
     "text": [
      "AUC-ROC:0.984072375127421, AUC-PR:0.5530444566467857\n"
     ]
    }
   ],
   "source": [
    "classes = [5, 6, 13, 16]  # 10, 12, 14\n",
    "scores_path = Path(fr'./global2class_{embedding_method}_{dim}_{name}')\n",
    "class_labels_path = r'./finch_class_labels.npy'\n",
    "outlier_labels_path = Path(r'./new_anomaly_labels.npy')\n",
    "class_labels = np.load(class_labels_path)\n",
    "outlier_labels = np.load(labels_path)\n",
    "all_anomaly_scores = []\n",
    "all_labels = []\n",
    "for c in classes:\n",
    "    c_path = scores_path / f'anomaly_scores_{method}_{embedding_method}_class{c}_finch.npy'\n",
    "    anomaly_scores_c = np.load(c_path)\n",
    "    anomaly_scores_c = (anomaly_scores_c - anomaly_scores_c.min()) / (anomaly_scores_c.max() - anomaly_scores_c.min())\n",
    "    c_labels = outlier_labels[class_labels==c]\n",
    "    all_anomaly_scores.append(anomaly_scores_c)\n",
    "    all_labels.append(c_labels)\n",
    "all_anomaly_scores = np.concatenate(all_anomaly_scores, axis=0)\n",
    "all_labels = np.concatenate(all_labels, axis=0)\n",
    "x_roc, y_roc, _ = roc_curve(all_labels, all_anomaly_scores, pos_label=1)\n",
    "y_prc, x_prc, _ = precision_recall_curve(all_labels, all_anomaly_scores, pos_label=1)\n",
    "auc_roc = auc(x_roc, y_roc)\n",
    "auc_pr = auc(x_prc[::-1], y_prc[::-1])\n",
    "print(f'AUC-ROC:{auc_roc}, AUC-PR:{auc_pr}')"
   ]
  },
  {
   "cell_type": "code",
   "execution_count": null,
   "id": "5520d9bf",
   "metadata": {},
   "outputs": [],
   "source": [
    "'LOF': AUC-ROC:0.9951580020387361, AUC-PR:0.7839795008912656\n",
    "'INNE': AUC-ROC:0.9982161060142712, AUC-PR:0.862665343915344\n",
    "'COF': AUC-ROC:0.9811416921508664, AUC-PR:0.7576676676676677\n",
    "'EIF': AUC-ROC:0.9125891946992865, AUC-PR:0.28408186304981636\n",
    "'IF' : AUC-ROC:0.9873853211009174, AUC-PR:0.5624559082892416\n",
    "'KNN': AUC-ROC:0.9557849133537207, AUC-PR:0.6175807573583758\n",
    "'DIF' : AUC-ROC:0.984072375127421, AUC-PR:0.5530444566467857"
   ]
  },
  {
   "cell_type": "code",
   "execution_count": null,
   "id": "393e8ad9",
   "metadata": {
    "ExecuteTime": {
     "end_time": "2024-07-02T08:33:21.387879Z",
     "start_time": "2024-07-02T08:33:21.384069Z"
    }
   },
   "outputs": [],
   "source": [
    "np.save(fr'{embedding_method}_{name}_without10-12-14_global_anomaly_score_{method}.npy', all_anomaly_scores)\n",
    "np.save(fr'{embedding_method}_{name}_without10-12-14_auc_score_{method}.npy', np.array([auc_roc, auc_pr]))"
   ]
  },
  {
   "cell_type": "code",
   "execution_count": null,
   "id": "f685b5fe",
   "metadata": {
    "ExecuteTime": {
     "end_time": "2024-07-02T08:33:24.769857Z",
     "start_time": "2024-07-02T08:33:21.844001Z"
    }
   },
   "outputs": [],
   "source": [
    "percentile = 99\n",
    "threshold = np.percentile(all_anomaly_scores, percentile)\n",
    "plt.figure(figsize=(10, 7))\n",
    "sns.histplot(all_anomaly_scores, kde=True, shrink=0.8, color='blue')\n",
    "plt.tick_params(labelsize=17)\n",
    "plt.ylabel('Count', size=25)\n",
    "plt.axvline(x=threshold, color='r', linestyle='--', label='threshold')\n",
    "plt.legend(fontsize=25, loc='upper right')\n",
    "plt.title(f'threshold={threshold:.2f}, percentile={percentile}', size=25)\n",
    "plt.savefig(path/f'all_data_without10-12-14_mix_{method}_ROC_{auc_roc:.4f}_PR_{auc_pr:.4f}.png', dpi=1000)\n",
    "plt.show()"
   ]
  },
  {
   "cell_type": "markdown",
   "id": "17533180",
   "metadata": {},
   "source": [
    "# without 10-12"
   ]
  },
  {
   "cell_type": "code",
   "execution_count": null,
   "id": "340b964b",
   "metadata": {
    "ExecuteTime": {
     "end_time": "2024-04-29T12:15:59.609185Z",
     "start_time": "2024-04-29T12:15:59.601028Z"
    }
   },
   "outputs": [],
   "source": [
    "classes = [1, 2, 11, 13, 14]  # 10, 12, 14\n",
    "scores_path = Path(fr'./global2class_ts2vec_256_{name}')\n",
    "labels_path = Path(r'D:\\Jupyter\\AD\\datasets-ad\\battery\\class_resample_8928')\n",
    "all_anomaly_scores = []\n",
    "all_labels = []\n",
    "for c in classes:\n",
    "    c_path = scores_path / f'anomaly_scores_{method}_{embedding_method}_class{c}.npy'\n",
    "    anomaly_scores_c = np.load(c_path)\n",
    "    anomaly_scores_c = (anomaly_scores_c - anomaly_scores_c.min()) / (anomaly_scores_c.max() - anomaly_scores_c.min())\n",
    "    c_labels_path = labels_path / fr'class_{c}/class_labels.npy'\n",
    "    c_labels = np.load(c_labels_path)\n",
    "    all_anomaly_scores.append(anomaly_scores_c)\n",
    "    all_labels.append(c_labels)\n",
    "all_anomaly_scores = np.concatenate(all_anomaly_scores, axis=0)\n",
    "all_labels = np.concatenate(all_labels, axis=0)\n",
    "x_roc, y_roc, _ = roc_curve(all_labels, all_anomaly_scores, pos_label=1)\n",
    "y_prc, x_prc, _ = precision_recall_curve(all_labels, all_anomaly_scores, pos_label=1)\n",
    "auc_roc = auc(x_roc, y_roc)\n",
    "auc_pr = auc(x_prc[::-1], y_prc[::-1])\n",
    "print(f'AUC-ROC:{auc_roc}, AUC-PR:{auc_pr}')"
   ]
  },
  {
   "cell_type": "code",
   "execution_count": null,
   "id": "a3dfc796",
   "metadata": {
    "ExecuteTime": {
     "end_time": "2024-04-29T12:15:59.895919Z",
     "start_time": "2024-04-29T12:15:59.890308Z"
    }
   },
   "outputs": [],
   "source": [
    "np.save(fr'without10-12_global_anomaly_score_{method}.npy', all_anomaly_scores)\n",
    "np.save(fr'without10-12_auc_score_{method}.npy', np.array([auc_roc, auc_pr]))"
   ]
  },
  {
   "cell_type": "code",
   "execution_count": null,
   "id": "65d97383",
   "metadata": {
    "ExecuteTime": {
     "end_time": "2024-04-29T12:16:00.765873Z",
     "start_time": "2024-04-29T12:16:00.315394Z"
    }
   },
   "outputs": [],
   "source": [
    "percentile = 99\n",
    "threshold = np.percentile(all_anomaly_scores, percentile)\n",
    "sns.histplot(all_anomaly_scores, kde=True, shrink=0.8, color='blue')\n",
    "plt.axvline(x=threshold, color='r', linestyle='--', label='threshold')\n",
    "plt.legend()\n",
    "plt.title(f'threshold={threshold:.4f}, percentile={percentile}')\n",
    "plt.savefig(path/f'all_data_without10-12_mix_{method}_ROC_{auc_roc:.4f}_PR_{auc_pr:.4f}.png', dpi=600)\n",
    "plt.show()"
   ]
  },
  {
   "cell_type": "markdown",
   "id": "489033ba",
   "metadata": {
    "ExecuteTime": {
     "end_time": "2024-04-24T07:09:41.656201Z",
     "start_time": "2024-04-24T07:09:41.652777Z"
    }
   },
   "source": [
    "# 保存特征和模型"
   ]
  },
  {
   "cell_type": "code",
   "execution_count": null,
   "id": "7c3df6a0",
   "metadata": {
    "ExecuteTime": {
     "end_time": "2024-04-25T03:24:17.718488Z",
     "start_time": "2024-04-25T03:24:15.492601Z"
    }
   },
   "outputs": [],
   "source": [
    "date = 425\n",
    "feature_root = Path(r'D:\\Jupyter\\AD\\datasets-ad\\battery\\class_resample_8928')\n",
    "model_root = Path(r'D:\\Jupyter\\TS Projects\\RT\\class_model')\n",
    "tgt = Path(fr'C:/Users/84396/Desktop/features/{date}')\n",
    "tgt.mkdir(exist_ok=True)\n",
    "model_dir = tgt / 'model'\n",
    "feature_dir = tgt / 'feature'\n",
    "feature_dir.mkdir(exist_ok=True)\n",
    "for c in range(1, 21):\n",
    "    feature_c = feature_root / f'class_{c}' / 'rt_class_features_256_4.npy'\n",
    "    tgt_c = feature_dir / f'rt_class{c}_features_256_4.npy'\n",
    "    shutil.copy(feature_c, tgt_c)\n",
    "shutil.copytree(model_root, model_dir)"
   ]
  },
  {
   "cell_type": "markdown",
   "id": "6eb40d14",
   "metadata": {},
   "source": [
    "# 用KNN分类器（cosine距离）"
   ]
  },
  {
   "cell_type": "code",
   "execution_count": null,
   "id": "ea156aca",
   "metadata": {
    "ExecuteTime": {
     "end_time": "2024-07-02T04:27:28.834118Z",
     "start_time": "2024-07-02T04:27:28.827760Z"
    }
   },
   "outputs": [],
   "source": [
    "num_of_series = [0, 702, 602, 63, 288, 120, 59, 103, 116, 50, 193, 121, 65, 60, 53, 67, 49, 96, 48, 106, 200]\n",
    "num_of_series= np.cumsum(num_of_series)\n",
    "reprs = np.load(fr'D:\\Jupyter\\AD\\datasets-ad\\battery\\all_data_resample_8928\\ts2vec_256_reprs_{name}.npy')\n",
    "# 区分出每个类别\n",
    "class_reprs = [reprs[num_of_series[i]:num_of_series[i+1]] for i in range(len(num_of_series)-1)]\n",
    "class_labels = [np.full(each.shape[0], idx+1) for idx, each in enumerate(class_reprs)]\n",
    "all_labels = np.concatenate(class_labels, axis=0)\n",
    "\n",
    "\n",
    "# 划分训练集和测试集\n",
    "num_test = 10\n",
    "training_set = [reprs[num_of_series[i]:num_of_series[i+1]][:-num_test] for i in range(len(num_of_series)-1)]\n",
    "training_set = np.concatenate(training_set, axis=0)\n",
    "training_labels = [all_labels[num_of_series[i]:num_of_series[i+1]][:-num_test] for i in range(len(num_of_series)-1)]\n",
    "training_labels = np.concatenate(training_labels, axis=0)\n",
    "test_set = [reprs[num_of_series[i]:num_of_series[i+1]][-num_test:] for i in range(len(num_of_series)-1)]\n",
    "test_set = np.concatenate(test_set, axis=0)\n",
    "test_labels = [all_labels[num_of_series[i]:num_of_series[i+1]][-num_test:] for i in range(len(num_of_series)-1)]\n",
    "test_labels = np.concatenate(test_labels, axis=0)"
   ]
  },
  {
   "cell_type": "code",
   "execution_count": null,
   "id": "c8a0590b",
   "metadata": {
    "ExecuteTime": {
     "end_time": "2024-07-02T04:27:29.327697Z",
     "start_time": "2024-07-02T04:27:29.322944Z"
    }
   },
   "outputs": [],
   "source": [
    "clf = KNeighborsClassifier(n_neighbors=3, weights='distance', metric='cosine')\n",
    "clf.fit(training_set, training_labels)"
   ]
  },
  {
   "cell_type": "code",
   "execution_count": null,
   "id": "96ee3783",
   "metadata": {
    "ExecuteTime": {
     "end_time": "2024-07-02T04:27:31.551860Z",
     "start_time": "2024-07-02T04:27:31.540281Z"
    }
   },
   "outputs": [],
   "source": [
    "result = clf.predict(test_set)\n",
    "acc = np.sum(result==test_labels) / test_labels.shape[0]\n",
    "print(acc)"
   ]
  },
  {
   "cell_type": "markdown",
   "id": "1340abcd",
   "metadata": {},
   "source": [
    "# SVM分类器"
   ]
  },
  {
   "cell_type": "code",
   "execution_count": null,
   "id": "5173f86f",
   "metadata": {
    "ExecuteTime": {
     "end_time": "2024-07-01T12:00:13.965417Z",
     "start_time": "2024-07-01T12:00:13.962394Z"
    }
   },
   "outputs": [],
   "source": [
    "from sklearn.svm import SVC\n",
    "from sklearn.model_selection import GridSearchCV"
   ]
  },
  {
   "cell_type": "code",
   "execution_count": null,
   "id": "1494e9e3",
   "metadata": {
    "ExecuteTime": {
     "end_time": "2024-07-02T04:41:26.269018Z",
     "start_time": "2024-07-02T04:35:50.488637Z"
    }
   },
   "outputs": [],
   "source": [
    "clf_svm = SVC(cache_size=4096)\n",
    "param_grid_svm = {'C':[0.1, 0.5, 1, 10, 100, 1000], 'kernel':['linear', 'poly', 'rbf'], 'degree':np.arange(2, 5), 'gamma':['scale','auto']+list(np.linspace(0.001, 1, 10))}\n",
    "clf_svm = GridSearchCV(clf_svm, param_grid_svm, cv=5, scoring='accuracy', n_jobs=10)\n",
    "clf_svm.fit(training_set, training_labels)"
   ]
  },
  {
   "cell_type": "code",
   "execution_count": null,
   "id": "d18609f6",
   "metadata": {
    "ExecuteTime": {
     "end_time": "2024-07-02T04:41:26.272780Z",
     "start_time": "2024-07-02T04:41:26.269018Z"
    }
   },
   "outputs": [],
   "source": [
    "clf_svm.best_score_, clf_svm.best_params_"
   ]
  },
  {
   "cell_type": "code",
   "execution_count": null,
   "id": "9bf3454f",
   "metadata": {
    "ExecuteTime": {
     "end_time": "2024-07-02T04:41:26.287182Z",
     "start_time": "2024-07-02T04:41:26.272780Z"
    }
   },
   "outputs": [],
   "source": [
    "result = clf.predict(test_set)\n",
    "acc = np.sum(result==test_labels) / test_labels.shape[0]\n",
    "print(acc)"
   ]
  },
  {
   "cell_type": "markdown",
   "id": "a4d0ac43",
   "metadata": {},
   "source": [
    "# 线性回归"
   ]
  },
  {
   "cell_type": "code",
   "execution_count": null,
   "id": "d1aa49c9",
   "metadata": {
    "ExecuteTime": {
     "end_time": "2024-07-01T14:25:46.419540Z",
     "start_time": "2024-07-01T14:25:46.417294Z"
    }
   },
   "outputs": [],
   "source": [
    "from sklearn.linear_model import LogisticRegression"
   ]
  },
  {
   "cell_type": "code",
   "execution_count": null,
   "id": "0f5cb7a8",
   "metadata": {
    "ExecuteTime": {
     "end_time": "2024-07-02T04:41:43.679123Z",
     "start_time": "2024-07-02T04:41:26.288394Z"
    }
   },
   "outputs": [],
   "source": [
    "clf_lr = LogisticRegression(penalty='l2', class_weight='balanced')\n",
    "param_grid_lr = {'C':[1, 0.1, 0.5, 10, 100, 1000], 'solver':['liblinear', 'saga']}\n",
    "clf_lr = GridSearchCV(clf_lr, param_grid_lr, cv=5, scoring='accuracy', n_jobs=10)\n",
    "clf_lr.fit(training_set, training_labels)"
   ]
  },
  {
   "cell_type": "code",
   "execution_count": null,
   "id": "5b380985",
   "metadata": {
    "ExecuteTime": {
     "end_time": "2024-07-02T04:41:43.682814Z",
     "start_time": "2024-07-02T04:41:43.679123Z"
    }
   },
   "outputs": [],
   "source": [
    "clf_lr.best_score_, clf_lr.best_params_"
   ]
  },
  {
   "cell_type": "code",
   "execution_count": null,
   "id": "75a0d53f",
   "metadata": {
    "ExecuteTime": {
     "end_time": "2024-07-02T04:41:43.697879Z",
     "start_time": "2024-07-02T04:41:43.682814Z"
    }
   },
   "outputs": [],
   "source": [
    "result = clf.predict(test_set)\n",
    "acc = np.sum(result==test_labels) / test_labels.shape[0]\n",
    "print(acc)"
   ]
  },
  {
   "cell_type": "markdown",
   "id": "38bd1830",
   "metadata": {},
   "source": [
    "# 随机森林"
   ]
  },
  {
   "cell_type": "code",
   "execution_count": null,
   "id": "1831c774",
   "metadata": {
    "ExecuteTime": {
     "end_time": "2024-07-01T14:26:15.148408Z",
     "start_time": "2024-07-01T14:26:15.040235Z"
    }
   },
   "outputs": [],
   "source": [
    "from sklearn.ensemble import RandomForestClassifier"
   ]
  },
  {
   "cell_type": "code",
   "execution_count": null,
   "id": "959e60b7",
   "metadata": {
    "ExecuteTime": {
     "end_time": "2024-07-02T04:46:04.662412Z",
     "start_time": "2024-07-02T04:41:43.697879Z"
    }
   },
   "outputs": [],
   "source": [
    "clf_rf = RandomForestClassifier(class_weight='balanced_subsample')\n",
    "param_grid_rf = {'n_estimators':[100, 200, 300], 'criterion':['gini', 'entropy'], 'max_depth':np.arange(4, 10), 'max_features':['sqrt','log2'], 'max_samples':[0.2, 0.4, 0.6, 0.8]}\n",
    "clf_rf = GridSearchCV(clf_rf, param_grid_rf, cv=5, scoring='accuracy', n_jobs=-1)\n",
    "clf_rf.fit(training_set, training_labels)"
   ]
  },
  {
   "cell_type": "code",
   "execution_count": null,
   "id": "b246a5e5",
   "metadata": {
    "ExecuteTime": {
     "end_time": "2024-07-02T05:26:10.803088Z",
     "start_time": "2024-07-02T05:26:10.799543Z"
    }
   },
   "outputs": [],
   "source": [
    "clf_rf.best_score_, clf_rf.best_params_"
   ]
  },
  {
   "cell_type": "code",
   "execution_count": null,
   "id": "6240a28c",
   "metadata": {
    "ExecuteTime": {
     "end_time": "2024-07-02T05:26:13.698321Z",
     "start_time": "2024-07-02T05:26:13.687248Z"
    }
   },
   "outputs": [],
   "source": [
    "result = clf.predict(test_set)\n",
    "acc = np.sum(result==test_labels) / test_labels.shape[0]\n",
    "print(acc)"
   ]
  },
  {
   "cell_type": "markdown",
   "id": "2af24f9a",
   "metadata": {},
   "source": [
    "## 保存knn模型"
   ]
  },
  {
   "cell_type": "code",
   "execution_count": null,
   "id": "0399abb9",
   "metadata": {
    "ExecuteTime": {
     "end_time": "2024-04-29T12:10:33.656073Z",
     "start_time": "2024-04-29T12:10:33.649746Z"
    }
   },
   "outputs": [],
   "source": [
    "joblib.dump(clf, path / fr'ts2vec_256_reprs_{name}_knn_clf.m')"
   ]
  },
  {
   "cell_type": "markdown",
   "id": "2144ee62",
   "metadata": {},
   "source": [
    "# 热力图可视化"
   ]
  },
  {
   "cell_type": "code",
   "execution_count": null,
   "id": "6e1bfa4c",
   "metadata": {
    "ExecuteTime": {
     "end_time": "2024-07-08T12:32:51.438610Z",
     "start_time": "2024-07-08T12:32:51.416109Z"
    }
   },
   "outputs": [],
   "source": [
    "num_of_series = [0, 702, 602, 63, 288, 120, 59, 103, 116, 50, 193, 121, 65, 60, 53, 67, 49, 96, 48, 106, 200]\n",
    "num_of_series= np.cumsum(num_of_series)\n",
    "reprs = np.load(r'D:\\Jupyter\\AD\\datasets-ad\\battery\\all_data_resample_8928\\ts2vec_256_reprs_global.npy')\n",
    "labels = np.load(r'D:\\Jupyter\\AD\\datasets-ad\\battery\\all_data_resample_8928\\all_data_labels.npy')\n",
    "# 区分出每个类别\n",
    "class_reprs = [reprs[num_of_series[i]:num_of_series[i+1]] for i in range(len(num_of_series)-1)]\n",
    "class_labels = [labels[num_of_series[i]:num_of_series[i+1]] for i in range(len(num_of_series)-1)]"
   ]
  },
  {
   "cell_type": "code",
   "execution_count": null,
   "id": "bf4a2ff7",
   "metadata": {
    "ExecuteTime": {
     "end_time": "2024-07-08T13:00:43.739080Z",
     "start_time": "2024-07-08T13:00:40.490032Z"
    }
   },
   "outputs": [],
   "source": [
    "# 样本+特征选择\n",
    "class_no = 13\n",
    "c_reprs, c_labels = class_reprs[class_no-1], class_labels[class_no-1]\n",
    "vis_path = Path('./visualize/heatmap')\n",
    "vis_path.mkdir(exist_ok=True)\n",
    "select_normal = 50\n",
    "normal_reprs = c_reprs[c_labels==0]\n",
    "outlier = c_reprs[c_labels==1]\n",
    "vis_reprs = np.concatenate([normal_reprs[:select_normal], np.ones((1, c_reprs.shape[1])),outlier], axis=0)\n",
    "select_feature_nums = 100\n",
    "variances = np.var(vis_reprs, axis=0, ddof=1)\n",
    "select_features = np.argsort(variances)[-select_feature_nums:]\n",
    "vis_reprs = vis_reprs[:,select_features]\n",
    "# 可视化部分\n",
    "plt.figure(figsize=(10, 8))\n",
    "plt.imshow(vis_reprs)\n",
    "plt.title(f'outliers:{outlier.shape[0]}', fontsize=20)\n",
    "plt.xlabel('Representation dimensions', fontsize=20)\n",
    "plt.ylabel('Samples', fontsize=20)\n",
    "plt.savefig(vis_path / f'class_{class_no}.png', dpi=1000)\n",
    "plt.tick_params(labelsize=15)\n",
    "plt.show()"
   ]
  },
  {
   "cell_type": "code",
   "execution_count": null,
   "id": "0bac7152",
   "metadata": {
    "ExecuteTime": {
     "end_time": "2024-07-08T12:39:04.484203Z",
     "start_time": "2024-07-08T12:39:00.188455Z"
    }
   },
   "outputs": [],
   "source": [
    "c_reprs, c_labels = class_reprs[class_no-1], class_labels[class_no-1]\n",
    "tsne_path = Path('./visualize/tsne_map')\n",
    "tsne_path.mkdir(exist_ok=True)\n",
    "tsne_reprs = TSNE(n_jobs=12, perplexity=50, n_iter=1500).fit_transform(c_reprs)\n",
    "tsne_map(tsne_reprs, c_labels, path=tsne_path / f'class_{class_no}.png', fontsize=14)"
   ]
  },
  {
   "cell_type": "code",
   "execution_count": null,
   "id": "dd998601",
   "metadata": {
    "ExecuteTime": {
     "end_time": "2024-07-08T12:39:08.506278Z",
     "start_time": "2024-07-08T12:39:04.485199Z"
    }
   },
   "outputs": [],
   "source": [
    "# PCA\n",
    "c_reprs, c_labels = class_reprs[class_no-1], class_labels[class_no-1]\n",
    "tsne_path = Path('./visualize/pca_map')\n",
    "tsne_path.mkdir(exist_ok=True)\n",
    "pca_reprs = PCA().fit_transform(c_reprs)\n",
    "tsne_map(pca_reprs, c_labels, path=tsne_path / f'class_{class_no}.png', fontsize=14)"
   ]
  },
  {
   "cell_type": "markdown",
   "id": "965c5767",
   "metadata": {},
   "source": [
    "# 全数据TSNE分类图"
   ]
  },
  {
   "cell_type": "code",
   "execution_count": null,
   "id": "13c8d095",
   "metadata": {
    "ExecuteTime": {
     "end_time": "2024-07-23T06:35:01.503012Z",
     "start_time": "2024-07-23T06:34:53.674180Z"
    }
   },
   "outputs": [],
   "source": [
    "name = 'global'\n",
    "num_of_series = [0, 702, 602, 63, 288, 120, 59, 103, 116, 50, 193, 121, 65, 60, 53, 67, 49, 96, 48, 106, 200]\n",
    "num_of_series = np.cumsum(num_of_series)\n",
    "reprs = np.load(fr'D:\\Jupyter\\AD\\datasets-ad\\battery\\all_data_resample_8928\\ts2vec_256_reprs_{name}.npy')\n",
    "reprs_2d = TSNE(perplexity=21, metric='cosine', n_iter=2000, init='pca').fit_transform(reprs)\n",
    "# 区分出每个类别\n",
    "class_reprs = [reprs_2d[num_of_series[i]:num_of_series[i+1]] for i in range(len(num_of_series)-1)]\n",
    "class_labels = [np.full(each.shape[0], idx+1) for idx, each in enumerate(class_reprs)]"
   ]
  },
  {
   "cell_type": "code",
   "execution_count": null,
   "id": "2f807b6c",
   "metadata": {
    "ExecuteTime": {
     "end_time": "2024-07-04T13:47:40.018955Z",
     "start_time": "2024-07-04T13:47:33.550171Z"
    }
   },
   "outputs": [],
   "source": [
    "# 子图拼接\n",
    "class_1_series = np.load(r'D:\\Jupyter\\AD\\datasets-ad\\battery\\class_resample_8928\\class_1\\origin_resample.npy')\n",
    "class_1_labels = np.load(r'D:\\Jupyter\\AD\\datasets-ad\\battery\\class_resample_8928\\class_1\\class_labels.npy')\n",
    "class_1_anomalies = class_1_series[class_1_labels==1]\n",
    "class_1_normal = class_1_series[class_1_labels==0]\n",
    "conbine = np.stack([class_1_anomalies[0], class_1_normal[0]])\n",
    "plt.figure(figsize=(20, 10))\n",
    "ax1 = plt.subplot2grid((3, 2), (0, 0), colspan=1, rowspan=1)\n",
    "ax1.plot(np.arange(1, conbine.shape[2]+1), conbine[0][0], c='r', label='outlier series')\n",
    "ax1.plot(np.arange(1, conbine.shape[2]+1), conbine[1][0], c='b', label='normal series')\n",
    "ax1.legend(loc='upper left', fontsize=15)\n",
    "ax1.tick_params(labelsize=20)\n",
    "ax2 = plt.subplot2grid((3, 2), (1, 0), colspan=1, rowspan=1)\n",
    "ax2.plot(np.arange(1, conbine.shape[2]+1), conbine[0][1], c='r', label='outlier series')\n",
    "ax2.plot(np.arange(1, conbine.shape[2]+1), conbine[1][1], c='b', label='normal series')\n",
    "ax2.tick_params(labelsize=20)\n",
    "ax3 = plt.subplot2grid((3, 2), (2, 0), colspan=1, rowspan=1)\n",
    "ax3.plot(np.arange(1000, 4000), conbine[0][1][1000:4000], c='r', label='outlier series')\n",
    "ax3.plot(np.arange(1000, 4000), conbine[1][1][1000:4000], c='b', label='normal series')\n",
    "ax3.tick_params(labelsize=20)\n",
    "ax4 = plt.subplot2grid((3, 2), (0, 1), colspan=1, rowspan=3)\n",
    "for i in range(len(class_reprs)):\n",
    "    reprs_i = class_reprs[i]\n",
    "    labels_i = (i+1)\n",
    "    ax4.scatter(reprs_i[:, 0], reprs_i[:, 1], s=3)\n",
    "ax4.tick_params(labelsize=20)\n",
    "plt.savefig(f'./visualize/introduction.png', dpi=1000)\n",
    "plt.show()"
   ]
  },
  {
   "cell_type": "code",
   "execution_count": null,
   "id": "2b7b0613",
   "metadata": {
    "ExecuteTime": {
     "end_time": "2024-07-23T06:35:08.735923Z",
     "start_time": "2024-07-23T06:35:05.386451Z"
    }
   },
   "outputs": [],
   "source": [
    "# 子图拼接\n",
    "class_1_series = np.load(r'D:\\Jupyter\\AD\\datasets-ad\\battery\\class_resample_8928\\class_1\\origin_resample.npy')\n",
    "class_1_labels = np.load(r'D:\\Jupyter\\AD\\datasets-ad\\battery\\class_resample_8928\\class_1\\class_labels.npy')\n",
    "class_1_anomalies = class_1_series[class_1_labels==1]\n",
    "class_1_normal = class_1_series[class_1_labels==0]\n",
    "conbine = np.stack([class_1_anomalies[0], class_1_normal[0]])\n",
    "plt.figure(figsize=(10, 10))\n",
    "ax1 = plt.subplot2grid((3, 1), (0, 0), colspan=1, rowspan=1)\n",
    "ax1.plot(np.arange(1, conbine.shape[2]+1), conbine[0][0], c='r', label='outlier series')\n",
    "ax1.plot(np.arange(1, conbine.shape[2]+1), conbine[1][0], c='b', label='normal series')\n",
    "ax1.legend(loc='upper left', fontsize=15)\n",
    "ax1.tick_params(labelsize=20)\n",
    "ax2 = plt.subplot2grid((3, 1), (1, 0), colspan=1, rowspan=1)\n",
    "ax2.plot(np.arange(1, conbine.shape[2]+1), conbine[0][1], c='r', label='outlier series')\n",
    "ax2.plot(np.arange(1, conbine.shape[2]+1), conbine[1][1], c='b', label='normal series')\n",
    "ax2.tick_params(labelsize=20)\n",
    "ax3 = plt.subplot2grid((3, 1), (2, 0), colspan=1, rowspan=1)\n",
    "ax3.plot(np.arange(1000, 4000), conbine[0][1][1000:4000], c='r', label='outlier series')\n",
    "ax3.plot(np.arange(1000, 4000), conbine[1][1][1000:4000], c='b', label='normal series')\n",
    "ax3.tick_params(labelsize=20)\n",
    "plt.savefig(f'./visualize/introduction_1.png', dpi=1000)\n",
    "plt.show()"
   ]
  },
  {
   "cell_type": "code",
   "execution_count": null,
   "id": "ade2ea81",
   "metadata": {
    "ExecuteTime": {
     "end_time": "2024-07-23T06:35:26.929162Z",
     "start_time": "2024-07-23T06:35:23.503975Z"
    }
   },
   "outputs": [],
   "source": [
    "plt.figure(figsize=(10, 10))\n",
    "ax1 = plt.subplot2grid((1, 1), (0, 0), colspan=1, rowspan=1)\n",
    "for i in range(len(class_reprs)):\n",
    "    reprs_i = class_reprs[i]\n",
    "    labels_i = (i+1)\n",
    "    ax1.scatter(reprs_i[:, 0], reprs_i[:, 1], s=3)\n",
    "ax1.tick_params(labelsize=20)\n",
    "plt.savefig(f'./visualize/introduction_2.png', dpi=1000)\n",
    "plt.show()"
   ]
  },
  {
   "cell_type": "markdown",
   "id": "55fa46e6",
   "metadata": {},
   "source": [
    "# 全数据异常检测"
   ]
  },
  {
   "cell_type": "code",
   "execution_count": null,
   "id": "54fae05e",
   "metadata": {
    "ExecuteTime": {
     "end_time": "2024-07-02T12:39:48.611621Z",
     "start_time": "2024-07-02T12:39:48.605203Z"
    }
   },
   "outputs": [],
   "source": [
    "num_of_series = [0, 702, 602, 63, 288, 120, 59, 103, 116, 50, 193, 121, 65, 60, 53, 67, 49, 96, 48, 106, 200]\n",
    "num_of_series= np.cumsum(num_of_series)\n",
    "reprs = np.load(r'D:\\Jupyter\\AD\\datasets-ad\\battery\\all_data_resample_8928\\ts2vec_256_reprs_global.npy')\n",
    "labels = np.load(r'D:\\Jupyter\\AD\\datasets-ad\\battery\\all_data_resample_8928\\all_data_labels.npy')\n",
    "# 区分出每个类别\n",
    "class_reprs = [reprs[num_of_series[i]:num_of_series[i+1]] for i in range(len(num_of_series)-1)]\n",
    "class_labels = [labels[num_of_series[i]:num_of_series[i+1]] for i in range(len(num_of_series)-1)]"
   ]
  },
  {
   "cell_type": "code",
   "execution_count": null,
   "id": "3dc227f7",
   "metadata": {
    "ExecuteTime": {
     "end_time": "2024-07-02T12:39:49.140259Z",
     "start_time": "2024-07-02T12:39:49.137482Z"
    }
   },
   "outputs": [],
   "source": [
    "new_labels = []\n",
    "for i in range(len(class_labels)):\n",
    "    if (i+1) in [1, 2, 11, 13]:\n",
    "        new_labels.append(class_labels[i])\n",
    "    else:\n",
    "        new_labels.append(np.zeros(class_labels[i].shape[0]))\n",
    "new_labels = np.concatenate(new_labels, axis=0)"
   ]
  },
  {
   "cell_type": "code",
   "execution_count": null,
   "id": "b7e60554",
   "metadata": {
    "ExecuteTime": {
     "end_time": "2024-07-02T12:39:59.379889Z",
     "start_time": "2024-07-02T12:39:59.377192Z"
    }
   },
   "outputs": [],
   "source": []
  },
  {
   "cell_type": "markdown",
   "id": "8779910e",
   "metadata": {},
   "source": [
    "# 多类组图"
   ]
  },
  {
   "cell_type": "code",
   "execution_count": null,
   "id": "50fa4aa2",
   "metadata": {
    "ExecuteTime": {
     "end_time": "2024-07-08T06:31:03.833135Z",
     "start_time": "2024-07-08T06:31:03.830113Z"
    }
   },
   "outputs": [],
   "source": [
    "embedding_method = 'ts2vec'\n",
    "dim = 256\n",
    "name = 'global'\n",
    "method = 'lof'"
   ]
  },
  {
   "cell_type": "code",
   "execution_count": null,
   "id": "f6efcaa3",
   "metadata": {
    "ExecuteTime": {
     "end_time": "2024-07-08T06:42:10.705370Z",
     "start_time": "2024-07-08T06:42:10.501692Z"
    }
   },
   "outputs": [],
   "source": [
    "class_no = 13\n",
    "anomaly_scores_path = fr'./global2class_{embedding_method}_{dim}_{name}/anomaly_scores_{method}_{embedding_method}_class{class_no}.npy'\n",
    "anomaly_ranks_path = fr'./global2class_{embedding_method}_{dim}_{name}/anomaly_scores_rank_{method}_{embedding_method}_class{class_no}.npy'\n",
    "class_13_labels = np.load(fr'D:\\Jupyter\\AD\\datasets-ad\\battery\\class_resample_8928\\class_{class_no}\\class_labels.npy')\n",
    "class_13_data = np.load(fr'D:\\Jupyter\\AD\\datasets-ad\\battery\\class_resample_8928\\class_{class_no}\\origin_resample.npy')\n",
    "anomaly_scores = np.load(anomaly_scores_path)\n",
    "anomaly_scores_rank = np.load(anomaly_ranks_path)\n",
    "\n",
    "top_k = 10\n",
    "top_k_anomaly_scores_index = np.argsort(anomaly_scores)[-top_k:]\n",
    "top_k_anomaly_scores = anomaly_scores[top_k_anomaly_scores_index]\n",
    "top_k_anomaly_scores = (top_k_anomaly_scores - top_k_anomaly_scores.min()) / (top_k_anomaly_scores.max()-top_k_anomaly_scores.min())\n",
    "# top_k_anomaly_scores = (top_k_anomaly_scores - top_k_anomaly_scores.mean()) / top_k_anomaly_scores.std(ddof=1)\n",
    "real_anomaly_index = np.arange(class_13_labels.shape[0])[class_13_labels==1]\n",
    "# real anomaly vs top 5 anomaly\n",
    "fig, pics = plt.subplots(1, 2, figsize=(20, 6))\n",
    "for col in range(2):\n",
    "    for i, idx in enumerate(top_k_anomaly_scores_index):\n",
    "        color = 'r' if idx in real_anomaly_index else 'b'\n",
    "        pics[col].plot(np.arange(class_13_data.shape[2]), class_13_data[idx][col], c=cm.Reds(top_k_anomaly_scores[i]), alpha=top_k_anomaly_scores[i])\n",
    "        pics[col].tick_params(labelsize=17)\n",
    "fig.suptitle(f'Top {top_k} anomaly score batteries predicted by {method} in class{class_no}', size=25)\n",
    "norm = mpl.colors.Normalize(vmin=0, vmax=1)\n",
    "im = mpl.cm.ScalarMappable(norm=norm, cmap='Reds')\n",
    "ax = plt.axes([0.3, 0.3, 0.08, 0.2])\n",
    "cbar = plt.colorbar(im, cax=ax, orientation='horizontal', ticks=top_k_anomaly_scores)\n",
    "plt.show()"
   ]
  },
  {
   "cell_type": "code",
   "execution_count": null,
   "id": "d4d395fa",
   "metadata": {},
   "outputs": [],
   "source": []
  }
 ],
 "metadata": {
  "kernelspec": {
   "display_name": "deep",
   "language": "python",
   "name": "pytorch"
  },
  "language_info": {
   "codemirror_mode": {
    "name": "ipython",
    "version": 3
   },
   "file_extension": ".py",
   "mimetype": "text/x-python",
   "name": "python",
   "nbconvert_exporter": "python",
   "pygments_lexer": "ipython3",
   "version": "3.11.4"
  }
 },
 "nbformat": 4,
 "nbformat_minor": 5
}
